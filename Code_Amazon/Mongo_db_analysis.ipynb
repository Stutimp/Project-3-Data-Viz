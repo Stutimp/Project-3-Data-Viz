{
 "cells": [
  {
   "cell_type": "markdown",
   "id": "50c0d340",
   "metadata": {},
   "source": [
    "# Amazon_data"
   ]
  },
  {
   "cell_type": "markdown",
   "id": "3517449d",
   "metadata": {},
   "source": [
    "## Part 1: Database and Jupyter Notebook Set Up\n",
    "### Using following command to import dataset into mongo_db:"
   ]
  },
  {
   "cell_type": "markdown",
   "id": "fef90f11",
   "metadata": {},
   "source": [
    " mongoimport --type csv -d Clean_Data_Resources -c amazon_cleanData --headerline --drop amazon_cleanData.csv"
   ]
  },
  {
   "cell_type": "code",
   "execution_count": null,
   "id": "1bdacd5b",
   "metadata": {},
   "outputs": [],
   "source": [
    "# Import dependencies\n",
    "from pymongo import MongoClient\n",
    "from pprint import pprint\n",
    "import pandas as pd"
   ]
  },
  {
   "cell_type": "code",
   "execution_count": null,
   "id": "bf2fa1b4",
   "metadata": {},
   "outputs": [],
   "source": [
    "import matplotlib.pyplot as plt\n",
    "import pandas as pd\n",
    "import plotly.express as px\n",
    "import warnings\n",
    "warnings.filterwarnings('ignore')\n",
    "import pandas as pd\n",
    "from collections import Counter\n",
    "import re\n",
    "from textblob import TextBlob\n",
    "import textblob\n",
    "import plotly.graph_objects as go"
   ]
  },
  {
   "cell_type": "code",
   "execution_count": null,
   "id": "a75cecd1",
   "metadata": {},
   "outputs": [],
   "source": [
    "# Create an instance of MongoClient\n",
    "mongo = MongoClient(port=27017)"
   ]
  },
  {
   "cell_type": "code",
   "execution_count": null,
   "id": "cb798ed3",
   "metadata": {},
   "outputs": [],
   "source": [
    "# confirm that our new database was created\n",
    "print(mongo.list_database_names())"
   ]
  },
  {
   "cell_type": "code",
   "execution_count": null,
   "id": "52a73341",
   "metadata": {},
   "outputs": [],
   "source": [
    "# assign the Clean_Data_Resources database to a variable name\n",
    "db = mongo['Clean_Data_Resources']"
   ]
  },
  {
   "cell_type": "code",
   "execution_count": null,
   "id": "c9c1b2b3",
   "metadata": {},
   "outputs": [],
   "source": [
    "# review the collections in our amazon database\n",
    "print(db.list_collection_names())"
   ]
  },
  {
   "cell_type": "code",
   "execution_count": null,
   "id": "4558716f",
   "metadata": {},
   "outputs": [],
   "source": [
    "# review a document in the establishments collection\n",
    "#Display the first document in the results using pprint before filter\n",
    "pprint(db.amazon_cleanData.find_one())"
   ]
  },
  {
   "cell_type": "code",
   "execution_count": null,
   "id": "38a70cb5",
   "metadata": {},
   "outputs": [],
   "source": [
    "# assign the collection to a variable\n",
    "amazon = db['amazon_cleanData']"
   ]
  },
  {
   "cell_type": "code",
   "execution_count": null,
   "id": "18d15143",
   "metadata": {},
   "outputs": [],
   "source": [
    "# Display the total number of items in the amazon collection\n",
    "amazon.count_documents({})"
   ]
  },
  {
   "cell_type": "markdown",
   "id": "adea3212",
   "metadata": {},
   "source": [
    "### Analysis"
   ]
  },
  {
   "cell_type": "markdown",
   "id": "cabd3eed",
   "metadata": {},
   "source": [
    "Based on Jupyter Notebook analysis, we know that there are 8 unique values (unique category column names) in the 'category' column which is the data collection of different kinds of cable in our amazon dataset. I am going to use 8 different unique values to make some queries , in order to derive some interesting information/facts and understand the trends of different cables being sold in the amazon website."
   ]
  },
  {
   "cell_type": "markdown",
   "id": "519490a2",
   "metadata": {},
   "source": [
    "### Computer USB Cables"
   ]
  },
  {
   "cell_type": "code",
   "execution_count": null,
   "id": "ef694f00",
   "metadata": {},
   "outputs": [],
   "source": [
    "#Creating some queries to understand the trends of cables available in the dataset\n",
    "#  Create a query that finds all computer USB cables in the 'amazon' collection\n",
    "# Filter results by name\n",
    "query = {'category': 'ComputersAccessoriesAccessoriesPeripheralsCablesAccessoriesCablesUSBCables'}\n",
    "\n",
    "# Capture the results to a variable\n",
    "results1 = list(amazon.find(query))\n",
    "\n",
    "# Print the number of results\n",
    "Computer_USBs = int(amazon.count_documents(query))\n",
    "print(\"Total Number of items which are computer USB cables in result are:\", Computer_USBs)\n"
   ]
  },
  {
   "cell_type": "code",
   "execution_count": null,
   "id": "979c0ab8",
   "metadata": {},
   "outputs": [],
   "source": [
    "## Pretty print the results\n",
    "pprint(results1[0:5])"
   ]
  },
  {
   "cell_type": "code",
   "execution_count": null,
   "id": "61bec4c3",
   "metadata": {},
   "outputs": [],
   "source": [
    "# Initialize an empty list to store computer USB Cables which has discounted price greater than equal to 100 and have ratings greater than equal to 4\n",
    "comp_USBs = []\n",
    "\n",
    "# Loop through each document in the results and append it to the list\n",
    "for item in results1:\n",
    "   comp_USBs.append(item)\n",
    "  \n",
    "# Now, converted_results is a list of dictionaries\n",
    "pprint(comp_USBs)"
   ]
  },
  {
   "cell_type": "code",
   "execution_count": null,
   "id": "35a773b5",
   "metadata": {},
   "outputs": [],
   "source": [
    "#create a dataframe for computer USBs\n",
    "comp_USBs_df  = pd.DataFrame(comp_USBs)\n",
    "comp_USBs_df.head(5)\n",
    "\n"
   ]
  },
  {
   "cell_type": "code",
   "execution_count": null,
   "id": "cca82b4f",
   "metadata": {},
   "outputs": [],
   "source": [
    "#finding the maximum rating counts in the comp_USBs_df dataframe\n",
    "max_value_index = comp_USBs_df['rating_count'].idxmax()\n",
    "max_value = comp_USBs_df['rating_count'].max()\n",
    "\n",
    "print(f\"Index of the maximum rating count: {max_value_index}\")\n",
    "print(f\"Maximum rating count value: {max_value}\")"
   ]
  },
  {
   "cell_type": "code",
   "execution_count": null,
   "id": "5ac4ff21",
   "metadata": {},
   "outputs": [],
   "source": [
    "#   Create a query that finds top 5 computer USB cables in the 'amazon' collection which has rating score greater than equal to 4\n",
    "# Filter results by name\n",
    "query = {'category': 'ComputersAccessoriesAccessoriesPeripheralsCablesAccessoriesCablesUSBCables',\n",
    "        'rating_count': {'$gte': 50000,  '$lte':180000}, 'rating':{'$gte':4}}\n",
    "\n",
    "# Display the  fields\n",
    "fields = {'category' :1, 'product_id':1, 'product_name': 1 , 'discounted_price': 1, 'discount_percentage':1,'actual_price': 1, \"rating\":1,\"review_title\":1, \"review_content\":1, \"rating_count\":1}\n",
    "\n",
    "# sort in descending order by \n",
    "sort = [('rating_count', - 1)]\n",
    "\n",
    "# limit the results to the first 5\n",
    "limit = 5\n",
    "\n",
    "#  Execute the query\n",
    "result2= (list(amazon.find(query, fields).sort(sort).limit(limit)))\n"
   ]
  },
  {
   "cell_type": "code",
   "execution_count": null,
   "id": "403f9bee",
   "metadata": {},
   "outputs": [],
   "source": [
    "#displaying the result\n",
    "result2 "
   ]
  },
  {
   "cell_type": "code",
   "execution_count": null,
   "id": "fcb7a0b3",
   "metadata": {},
   "outputs": [],
   "source": [
    "# Initialize an empty list to store the top 5 computer USB Cables which have ratings greater than equal to 4\n",
    "popular_comp_USBs = []\n",
    "\n",
    "# Loop through each document in the results and append it to the list\n",
    "for item in result2:\n",
    "   popular_comp_USBs.append(item)\n",
    "  \n",
    "# Now, converted_results is a list of dictionaries\n",
    "pprint(popular_comp_USBs)"
   ]
  },
  {
   "cell_type": "code",
   "execution_count": null,
   "id": "571ce4ed",
   "metadata": {},
   "outputs": [],
   "source": [
    "# Create a DataFrame from the list \n",
    "df_Top_comp_USBs = pd.DataFrame(popular_comp_USBs)\n",
    "\n",
    "# Display the DataFrame\n",
    "print(\"The number of rows of the dataframe is:\", len(df_Top_comp_USBs))"
   ]
  },
  {
   "cell_type": "code",
   "execution_count": null,
   "id": "1a96dd9d",
   "metadata": {},
   "outputs": [],
   "source": [
    "#displaying dataframe containing top 5 computer USB Cables which has ratings greater than equal to 4\n",
    "df_Top_comp_USBs"
   ]
  },
  {
   "cell_type": "code",
   "execution_count": null,
   "id": "5ed34834",
   "metadata": {},
   "outputs": [],
   "source": [
    "#checking column names\n",
    "print(df_Top_comp_USBs.columns)"
   ]
  },
  {
   "cell_type": "code",
   "execution_count": null,
   "id": "fd5bcabb",
   "metadata": {},
   "outputs": [],
   "source": [
    "# Reorder the columns\n",
    "Reordered_Top_comp_USBs= df_Top_comp_USBs[[\n",
    "    \"product_id\", \"product_name\", \"category\", \"actual_price\", \"discounted_price\",\n",
    "    \"discount_percentage\", \"rating\", \"review_title\", \"review_content\",\"rating_count\"\n",
    "]]\n",
    "\n",
    "# Print the DataFrame\n",
    "print(\"The most popular 5 computer USB Cables which  have ratings greater than equal to 4 are following:\")\n",
    "Reordered_Top_comp_USBs"
   ]
  },
  {
   "cell_type": "code",
   "execution_count": null,
   "id": "45b59852",
   "metadata": {},
   "outputs": [],
   "source": [
    "# Now let's create a bar chart for the Top  5 computer USB Cables which  have ratings greater than equal to 4\n",
    "filtered_df = Reordered_Top_comp_USBs\n",
    "fig = px.bar(filtered_df, x='product_id', y='rating_count',\n",
    "             hover_data=['product_name', 'actual_price', 'discount_percentage'], color='discount_percentage',\n",
    "             labels={'rating_count': 'Rating Counts'}, height=400)\n",
    "\n",
    "# Update layout for a clearer x-axis and set the title\n",
    "fig.update_layout(\n",
    "    title=\"Top 5 Most Popular Computer USBs with Rating Score >=4\",\n",
    "    xaxis_title=\"Product ID\",\n",
    "    yaxis_title=\"Rating Counts\",\n",
    "    yaxis=dict(type='linear')  \n",
    ")\n",
    "\n",
    "# Display the figure\n",
    "fig.show()"
   ]
  },
  {
   "cell_type": "code",
   "execution_count": null,
   "id": "aeea20a2",
   "metadata": {},
   "outputs": [],
   "source": [
    "#saving the chart into the output Viz folder \n",
    "fig.write_html('../outputs_Viz/Most_popular_computer_USBs1.html')\n",
    "\n"
   ]
  },
  {
   "cell_type": "markdown",
   "id": "8da4414f",
   "metadata": {},
   "source": [
    "## Computer USB Cable Analysis"
   ]
  },
  {
   "cell_type": "markdown",
   "id": "3555b907",
   "metadata": {},
   "source": [
    "The above chart and dataframe consists of top 5 Computer USBs having (Rating Score >=4 and rating counts >= 50000 and <= 180000 ). Here, **{\"Product_id\": B07DC4RZPY, \"Product_name\": Amazon Basics USB A to Lightning MFi Certified...}** is the most popular computer USB cable with the most rating counts, i.e, 1,78,817 rating counts, in our amazon dataset. This product has the highest actual_price (1999 INR); however after the significant discount percentage, i.e, 65%, the final discounted price for this product to its customers is 709 INR, which is still the most expensive one comparing to othe 4 popular brands.\n",
    "The highest raing counts for this particular products tells us about this product being very popular among the customers. As in general , customers give the feedbacks in terms of rating score or rating reviews only after they use the products. Keeping in mind this product has a rating score >= 4,even with the highest cost with moderate level of discount percentage tells us about its huge market share. \n",
    "\n",
    "In order to better understand how the customers perceive this product whether in a positive or negative light, we need to do some further analysis on its review contents doing some sentiment analysis.\n"
   ]
  },
  {
   "cell_type": "code",
   "execution_count": null,
   "id": "89fd9bab",
   "metadata": {},
   "outputs": [],
   "source": [
    "#creating dataframe with product id, product name and review content to make the sentiment analysis for top 5 most popular computer USB Cables\n",
    "review_df = pd.DataFrame(Reordered_Top_comp_USBs[[\"product_id\", \"product_name\",\"review_content\", \"review_title\"]])\n",
    "review_df"
   ]
  },
  {
   "cell_type": "code",
   "execution_count": null,
   "id": "f06c360d",
   "metadata": {},
   "outputs": [],
   "source": [
    "# Define a function to apply sentiment analysis\n",
    "def analyze_sentiment(text):\n",
    "    analysis = TextBlob(text)\n",
    "    return analysis.sentiment\n",
    "\n",
    "# Apply the function to the 'review_content' column\n",
    "review_df['sentiment'] = review_df['review_content'].apply(analyze_sentiment)\n",
    "\n",
    "# Now, df includes a new column 'sentiment' with sentiment analysis results\n",
    "print(review_df[['review_content', 'sentiment']])\n",
    "\n"
   ]
  },
  {
   "cell_type": "markdown",
   "id": "13bdfb31",
   "metadata": {},
   "source": [
    "### Sentiment Analysis on Most Popular Computer USB Cables"
   ]
  },
  {
   "cell_type": "markdown",
   "id": "ea10d885",
   "metadata": {},
   "source": [
    "Sentiment analysis is a technique that tries to understand if the words used in a text express positive, negative, or neutral feelings.Here, each 'sentiment' is a pair of numbers. These numbers are in the format (polarity, subjectivity).Based on the output of the sentiment analysis, we can observe the following:\n",
    "\n",
    "-**Sentiment Polarity:**\n",
    "\n",
    "The polarity score ranges from -1 (most negative) to 1 (most positive). Hence, all the provided sentiments have positive polarity, indicating that the reviews are overall positive.\n",
    "The first review has a polarity of approximately 0.215, suggesting it is moderately positive.\n",
    "The second review has a slightly lower polarity of approximately 0.199, which is still positive but a bit more subdued.\n",
    "The last three reviews have identical polarity scores of approximately 0.240, indicating a positive sentiment that is slightly more pronounced than the first two reviews.\n",
    "\n",
    "**Sentiment Subjectivity:**\n",
    "\n",
    "The subjectivity score ranges from 0 (most objective) to 1 (most subjective). Higher scores indicate a more personal opinion or subjective text, while lower scores suggest factual or objective text.\n",
    "The first review has a subjectivity score of approximately 0.438, which is moderately subjective.\n",
    "The second review's subjectivity score is similar at approximately 0.432.\n",
    "The last three reviews, which are identical, have a subjectivity score of approximately 0.544, suggesting they are more subjective than the first two reviews.\n",
    "\n",
    "**Duplicate Reviews:**\n",
    "\n",
    "The last three reviews are identical, which is reflected in the identical sentiment scores. This could be due to multiple reviewers left the same feedback, possibly through a review template or automated responses.\n",
    "\n",
    "**General Observations:**\n",
    "\n",
    "In this way, the above dataset seems to contain positive reviews, as indicated by the positive polarity scores. Likewise, the reviews appear to contain a mix of subjective opinions and objective statements, with subjectivity scores in the moderate range.\n",
    "\n",
    "\n",
    "Actionable Insights:\n",
    "\n",
    "For actionable business insights, one might look at the individual reviews that correspond to extreme sentiment scores (very high or very low) to understand what drives strong customer sentiment.\n",
    "The sentiment analysis could be used to gauge overall customer satisfaction, identify areas for product improvement, or highlight aspects that customers particularly appreciate.\n",
    "Remember, sentiment analysis provides a high-level overview of the sentiment but does not capture nuances such as sarcasm, context-specific language, or mixed sentiments within the same text. For a more detailed understanding of customer opinions, a deeper analysis, potentially using more advanced NLP techniques or manual review, would be necessary.\n",
    "\n",
    "\n",
    "\n",
    "\n"
   ]
  },
  {
   "cell_type": "markdown",
   "id": "6db64631",
   "metadata": {},
   "source": [
    "### TV HDMI Cables"
   ]
  },
  {
   "cell_type": "code",
   "execution_count": null,
   "id": "e3c69cd4",
   "metadata": {},
   "outputs": [],
   "source": [
    "#  Create a query that finds all TV HDMI cables in the 'amazon' collection\n",
    "# Filter results by name\n",
    "query = {'category': 'ElectronicsHomeTheater,TVVideoAccessoriesCablesHDMICables'}\n",
    "\n",
    "\n",
    "# Capture the results to a variable\n",
    "results3 = list(amazon.find(query))\n",
    "\n",
    "# Print the number of results\n",
    "TV_HDMI_cables = int(amazon.count_documents(query))\n",
    "print(\"Total Number of items which are TV HDMI cables in result are:\", TV_HDMI_cables)\n"
   ]
  },
  {
   "cell_type": "code",
   "execution_count": null,
   "id": "a38d11c0",
   "metadata": {},
   "outputs": [],
   "source": [
    "# Initialize an empty list to store the top 5 computer USB Cables which have ratings greater than equal to 4\n",
    "TV_HDMIs = []\n",
    "\n",
    "# Loop through each document in the results and append it to the list\n",
    "for item in results3:\n",
    " TV_HDMIs.append(item)\n",
    "  \n",
    "# Now, converted_results is a list of dictionaries\n",
    "pprint(TV_HDMIs)"
   ]
  },
  {
   "cell_type": "code",
   "execution_count": null,
   "id": "a6dc7aa5",
   "metadata": {},
   "outputs": [],
   "source": [
    "# Create a DataFrame from the list \n",
    "df_TV_HDMIs = pd.DataFrame(TV_HDMIs)\n",
    "\n",
    "# Display the DataFrame\n",
    "df_TV_HDMIs.head()"
   ]
  },
  {
   "cell_type": "code",
   "execution_count": null,
   "id": "7ed7988a",
   "metadata": {},
   "outputs": [],
   "source": [
    "#   Create a query that finds top 5 TV HDMI cables in the 'amazon' collection which has rating score greater than equal to 4\n",
    "# Filter results by name\n",
    "query = {'category': 'ElectronicsHomeTheater,TVVideoAccessoriesCablesHDMICables',\n",
    "        'rating_count': {'$gte': 10000,  '$lte':450000}, 'rating':{'$gte':4}}\n",
    "\n",
    "# Display the  fields\n",
    "fields = {'category' :1, 'product_id':1, 'product_name': 1 , 'discounted_price': 1, 'discount_percentage':1,'actual_price': 1, \"rating\":1,\"review_title\":1, \"review_content\":1, \"rating_count\":1}\n",
    "\n",
    "# sort in descending order by \n",
    "sort = [('rating_count', - 1)]\n",
    "\n",
    "# limit the results to the first 5\n",
    "limit = 5\n",
    "\n",
    "#  Execute the query\n",
    "result4= (list(amazon.find(query, fields).sort(sort).limit(limit)))"
   ]
  },
  {
   "cell_type": "code",
   "execution_count": null,
   "id": "e025e21c",
   "metadata": {},
   "outputs": [],
   "source": [
    "result4"
   ]
  },
  {
   "cell_type": "code",
   "execution_count": null,
   "id": "acafaae4",
   "metadata": {},
   "outputs": [],
   "source": [
    "# Initialize an empty list to store the top 5 TV HDMI Cables having ratings greater than equal to 4\n",
    "top_tv_HDMIs = []\n",
    "\n",
    "# Loop through each document in the results and append it to the list\n",
    "for item in result4:\n",
    "   top_tv_HDMIs.append(item)\n",
    "  \n",
    "# Display the list\n",
    "pprint(top_tv_HDMIs)"
   ]
  },
  {
   "cell_type": "code",
   "execution_count": null,
   "id": "3b01d3fd",
   "metadata": {},
   "outputs": [],
   "source": [
    "# Create a DataFrame from the list \n",
    "df_Top_TV_hdmi = pd.DataFrame(top_tv_HDMIs)\n",
    "\n",
    "# Display the DataFrame\n",
    "print(df_Top_TV_hdmi)"
   ]
  },
  {
   "cell_type": "code",
   "execution_count": null,
   "id": "9d86b9dc",
   "metadata": {},
   "outputs": [],
   "source": [
    "df_Top_TV_hdmi.head()"
   ]
  },
  {
   "cell_type": "code",
   "execution_count": null,
   "id": "077beb7b",
   "metadata": {},
   "outputs": [],
   "source": [
    "# Reorder the columns\n",
    "Reordered_Top_tv_hdmi = df_Top_TV_hdmi[[\n",
    "    \"product_id\", \"product_name\", \"category\", \"actual_price\", \"discounted_price\",\n",
    "    \"discount_percentage\", \"rating\", \"review_title\", \"review_content\",\"rating_count\"\n",
    "]]\n",
    "\n",
    "# Print the first 10 rows of the DataFrame\n",
    "print(\"The most popular  TV HDMI Cables which  have ratings greater than equal to 4 are following:\")\n",
    "Reordered_Top_tv_hdmi.head()"
   ]
  },
  {
   "cell_type": "code",
   "execution_count": null,
   "id": "2a4623d6",
   "metadata": {},
   "outputs": [],
   "source": [
    "## Create the scatter plot for the Most popular  5 TV HDMIs cables\n",
    "# Create a hover text column by formatting the desired information\n",
    "Reordered_Top_tv_hdmi['hover_text'] = 'Product Name: ' + Reordered_Top_tv_hdmi['product_name'] + \\\n",
    "                                      '<br>Category: ' + Reordered_Top_tv_hdmi['category'] + \\\n",
    "                                      '<br>Actual Price: INR ' + Reordered_Top_tv_hdmi['actual_price'].astype(str) + \\\n",
    "                                      '<br>Discounted Price: INR ' + Reordered_Top_tv_hdmi['discounted_price'].astype(str) + \\\n",
    "                                      '<br>Rating Count: ' + Reordered_Top_tv_hdmi['rating_count'].astype(str)\n",
    "\n",
    "# Create the scatter plot\n",
    "fig = go.Figure(data=go.Scatter(\n",
    "    x=Reordered_Top_tv_hdmi['product_id'],\n",
    "    y=Reordered_Top_tv_hdmi['rating_count'],\n",
    "    mode='markers',\n",
    "    marker=dict(size=[100, 80, 60, 40, 20],  # Adjust sizes as needed\n",
    "                color=[0, 1, 2, 3, 4]),  # Adjust colors as needed\n",
    "    text=Reordered_Top_tv_hdmi['hover_text'],  # Use the custom hover text\n",
    "    hoverinfo='text'\n",
    "))\n",
    "\n",
    "# Customize layout\n",
    "fig.update_layout(\n",
    "    title='Most Popular TV HDMI Cables with Ratings >= 4',\n",
    "    xaxis_title='Product ID',\n",
    "    yaxis_title='Rating Counts',\n",
    "    xaxis=dict(showgrid=False),\n",
    "    yaxis=dict(showgrid=True),\n",
    "    plot_bgcolor='skyblue'\n",
    ")\n",
    "\n",
    "# Show the plot\n",
    "fig.show()"
   ]
  },
  {
   "cell_type": "code",
   "execution_count": null,
   "id": "8b555e60",
   "metadata": {},
   "outputs": [],
   "source": [
    "#saving the chart into the output Viz folder \n",
    "fig.write_html('../outputs_Viz/Most_popular_tv_bubble_HDMIs2.html')"
   ]
  },
  {
   "cell_type": "markdown",
   "id": "1866ff43",
   "metadata": {},
   "source": [
    "## TV HDMIs Analysis"
   ]
  },
  {
   "cell_type": "markdown",
   "id": "7333a869",
   "metadata": {},
   "source": [
    "Based on the chart and dataframe created above we can say that **{\"product_id\" : B014I8SX4Y, \"product_name\": Amazon Basics High-Speed HDMI Cable, 6 Feet. }** is the most popular TV HDMI in the dataset with rating counts of 4,26,973.  It has the highest actual price 1400 INR and with 78% discounted rate the discounted price is 309 INR . It is not the most affordable TV HDMI in the dataset but it is definately very popular considering it has rating score of 4 and above and highest rating count."
   ]
  },
  {
   "cell_type": "code",
   "execution_count": null,
   "id": "632bf2ae",
   "metadata": {},
   "outputs": [],
   "source": [
    "#creating dataframe with product id, product name and review content to make sentiment analysis of the top 5 most popular TV HDMIs\n",
    "review_TVs_df = pd.DataFrame(Reordered_Top_tv_hdmi[[\"product_id\", \"product_name\",\"review_content\", \"review_title\"]])\n",
    "review_TVs_df\n",
    "\n"
   ]
  },
  {
   "cell_type": "code",
   "execution_count": null,
   "id": "261b6c1b",
   "metadata": {},
   "outputs": [],
   "source": [
    "# Define a function to apply sentiment analysis\n",
    "def analyze_sentiment1(text):\n",
    "    analysis = TextBlob(text)\n",
    "    return analysis.sentiment\n",
    "\n",
    "# Apply the function to the 'review_content' column\n",
    "review_TVs_df['sentiment'] = review_TVs_df['review_content'].apply(analyze_sentiment1)\n",
    "\n",
    "# Now, review_TVs_df includes a new column 'sentiment' with sentiment analysis results\n",
    "print(review_TVs_df[['review_content', 'sentiment']])"
   ]
  },
  {
   "cell_type": "markdown",
   "id": "56254536",
   "metadata": {},
   "source": [
    "### Sentiment Analysis of column \"review_content\":"
   ]
  },
  {
   "cell_type": "markdown",
   "id": "1ee43a0d",
   "metadata": {},
   "source": [
    "Sentiment Polarity: \n",
    "The polarity score ranges from -1 (very negative) to +1 (very positive). All the sentiments here have positive polarity, indicating positive reviews.\n",
    "The first three reviews have identical polarity scores of approximately 0.375, suggesting moderate positivity. The duplication of reviews and sentiment scores suggests either repeated entries or very similar content across these reviews.\n",
    "The fourth review has a higher polarity of about 0.604, indicating a very positive sentiment towards the product.\n",
    "The fifth review shows a slightly higher than moderate positive sentiment with a polarity of approximately 0.414.\n",
    "\n",
    "Sentiment Subjectivity: \n",
    "The subjectivity score ranges from 0 (very objective) to 1 (very subjective). Scores closer to 1 suggest personal opinions, feelings, or experiences, while scores closer to 0 suggest factual statements.\n",
    "The first three reviews, which are identical, have a subjectivity score of about 0.577, indicating a mix of subjective opinions and objective facts.\n",
    "The fourth review has a higher subjectivity score of about 0.686, suggesting that the review is more based on personal experience and opinions.\n",
    "The fifth review has a subjectivity score of around 0.480, indicating it's somewhat balanced between factual information and personal opinion.\n",
    "\n",
    "Repetition of Reviews:\n",
    "The first three reviews are identical, both in content and sentiment analysis results. This repetition might be due to copied review being posted multiple times.\n",
    "\n",
    "Overall Sentiment:\n",
    "Overall, the sentiment analysis suggests that the reviews are generally positive about the HDMI cables, with varying degrees of positivity and subjectivity.\n",
    "The analysis indicates a generally good customer experience with the HDMI cables, with the fourth review being the most positive and subjective, potentially highlighting a particularly strong personal satisfaction with the product.This analysis provides valuable insights into customer opinions on the HDMI cables, indicating overall positive experiences with nuances in the degree of satisfaction and the mix of subjective and objective statements in the reviews."
   ]
  },
  {
   "cell_type": "markdown",
   "id": "2833219d",
   "metadata": {},
   "source": [
    "### Total Cables in in the dataset"
   ]
  },
  {
   "cell_type": "code",
   "execution_count": null,
   "id": "f6587d72",
   "metadata": {},
   "outputs": [],
   "source": [
    "#  Create a query that finds all cables in the 'amazon' collection\n",
    "# Filter results by name\n",
    "\n",
    "query = {'category': {'$regex': \"cables$\", '$options': 'i'}}\n",
    "\n",
    "# Capture the results to a variable\n",
    "result5 = list(amazon.find(query))\n",
    "\n",
    "# Print the number of results\n",
    "Total_cables = int(amazon.count_documents(query))\n",
    "print(\"Total Number of cables in result are:\",Total_cables  )\n"
   ]
  },
  {
   "cell_type": "code",
   "execution_count": null,
   "id": "0aafa3c2",
   "metadata": {},
   "outputs": [],
   "source": [
    "## Pretty print the 10 records\n",
    "Cables = []\n",
    "#displaying results1\n",
    "for i in result5:\n",
    "    Cables.append(i)\n",
    "   "
   ]
  },
  {
   "cell_type": "code",
   "execution_count": null,
   "id": "4fea2d2e",
   "metadata": {},
   "outputs": [],
   "source": [
    "Cables[0:3]"
   ]
  },
  {
   "cell_type": "code",
   "execution_count": null,
   "id": "2763f283",
   "metadata": {},
   "outputs": [],
   "source": [
    "# Create a DataFrame from the list \n",
    "df_cables = pd.DataFrame(Cables)\n",
    "\n",
    "#reorder the df_Cables dataframe\n",
    "reordered_df_cables = df_cables[[\"category\", \"product_name\", \"discounted_price\", \"actual_price\", \"rating\", \"rating_count\"]]\n",
    "\n",
    "# Display the DataFrame\n",
    "print(\"Total number of cables in the dataset are:\" , int(len(df_cables)))\n",
    "reordered_df_cables"
   ]
  },
  {
   "cell_type": "code",
   "execution_count": null,
   "id": "1214abe7",
   "metadata": {},
   "outputs": [],
   "source": [
    "#  Create a query that finds all TV USB cables in the 'amazon' collection\n",
    "# Filter results by name\n",
    "query = {'category':  'ElectronicsHomeTheater,TVVideoAccessoriesCablesRCACables'}\n",
    "\n",
    "# Capture the results to a variable\n",
    "result6 = amazon.find(query)\n",
    "\n",
    "# Print the number of results\n",
    "RCA_cables = int(amazon.count_documents(query))\n",
    "print(\"Total Number of rca cables in result are:\", RCA_cables)\n"
   ]
  },
  {
   "cell_type": "code",
   "execution_count": null,
   "id": "d4dabec0",
   "metadata": {},
   "outputs": [],
   "source": [
    "#  Create a query that finds all optical cables in the 'amazon' collection\n",
    "# Filter results by name\n",
    "query = {'category':  'ElectronicsHomeTheater,TVVideoAccessoriesCablesOpticalCables'}\n",
    "\n",
    "# Capture the results to a variable\n",
    "result7 = amazon.find(query)\n",
    "\n",
    "# Print the number of results\n",
    "optical_cables = int(amazon.count_documents(query))\n",
    "print(\"Total Number of optical cables in result are:\", optical_cables)"
   ]
  },
  {
   "cell_type": "code",
   "execution_count": null,
   "id": "69bb6fdf",
   "metadata": {},
   "outputs": [],
   "source": [
    "#  Create a query that finds all TV USB cables in the 'amazon' collection\n",
    "# Filter results by name\n",
    "query = {'category': 'ComputersAccessoriesAccessoriesPeripheralsCablesAccessoriesCablesDVICables'}\n",
    "\n",
    "# Capture the results to a variable\n",
    "result8 = amazon.find(query)\n",
    "\n",
    "# Print the number of results\n",
    "DVI_cables = int(amazon.count_documents(query))\n",
    "print(\"Total Number of DVI cables in result are:\", DVI_cables)"
   ]
  },
  {
   "cell_type": "code",
   "execution_count": null,
   "id": "dffe2e98",
   "metadata": {},
   "outputs": [],
   "source": [
    "#  Create a query that finds all TV USB cables in the 'amazon' collection\n",
    "# Filter results by name\n",
    "query = {'category':  'ElectronicsHomeTheater,TVVideoAccessoriesCablesSpeakerCables'}\n",
    "\n",
    "# Capture the results to a variable\n",
    "result9 = amazon.find(query)\n",
    "\n",
    "# Print the number of results\n",
    "Speaker_cables = int(amazon.count_documents(query))\n",
    "print(\"Total Number of speaker cables in result are:\", Speaker_cables)"
   ]
  },
  {
   "cell_type": "code",
   "execution_count": null,
   "id": "79ea3709",
   "metadata": {},
   "outputs": [],
   "source": [
    "#  Create a query that finds all TV USB cables in the 'amazon' collection\n",
    "# Filter results by name\n",
    "query = {'category':   'ComputersAccessoriesAccessoriesPeripheralsCablesAccessoriesCablesEthernetCables'}\n",
    "\n",
    "# Capture the results to a variable\n",
    "result10 = amazon.find(query)\n",
    "\n",
    "# Print the number of results\n",
    "ethernet_cables = int(amazon.count_documents(query))\n",
    "print(\"Total Number of ethernet cables in result are:\", ethernet_cables)"
   ]
  },
  {
   "cell_type": "code",
   "execution_count": null,
   "id": "7cdab727",
   "metadata": {},
   "outputs": [],
   "source": [
    "#  Create a query that finds all TV USB cables in the 'amazon' collection\n",
    "# Filter results by name\n",
    "query = {'category':   'ComputersAccessoriesAccessoriesPeripheralsCablesAccessoriesCablesSATACables'}\n",
    "\n",
    "# Capture the results to a variable\n",
    "results11 = amazon.find(query)\n",
    "\n",
    "# Print the number of results\n",
    "SATA_cables = int(amazon.count_documents(query))\n",
    "print(\"Total Number of SATA cables in result are:\",SATA_cables)"
   ]
  },
  {
   "cell_type": "markdown",
   "id": "1e990f76",
   "metadata": {},
   "source": [
    "## Number of Cables Available in the Dataset"
   ]
  },
  {
   "cell_type": "code",
   "execution_count": null,
   "id": "765018d5",
   "metadata": {},
   "outputs": [],
   "source": [
    "print(\"There are eight kinds of Cables in this dataset, they are:\")\n",
    "print(\"1. Computer USB Cables are:\", Computer_USBs)\n",
    "print(\"2. TV HDMI Cables are:\" , TV_HDMI_cables)\n",
    "print(\"3. RCA Cables are:\" , RCA_cables)\n",
    "print(\"4. Optical Cables are:\" , optical_cables)\n",
    "print(\"5. DVI Cables are:\" , DVI_cables)\n",
    "print(\"6. Speaker Cables are:\" , Speaker_cables)\n",
    "print(\"7. ethernet Cables are:\" , ethernet_cables)\n",
    "print(\"8. SATA Cables are:\" , SATA_cables)\n",
    "print(\"Therefore, Total Cables = Computer_USBs + TV_HDMI_cables + RCA_cables + optical cables + DVI cables + speaker cables + ethernet cables + SATA cables =\", Total_cables)\n"
   ]
  },
  {
   "cell_type": "code",
   "execution_count": null,
   "id": "c40d5ead",
   "metadata": {},
   "outputs": [],
   "source": [
    "#creating the total Cables dataframe\n",
    "cables_types_df = pd.DataFrame({\n",
    "    \"Cable_Type\": [\"Computer USB Cables\", \"TV HDMI Cables\", \"RCA Cables\", \"Optical Cables\",\n",
    "                   \"DVI Cables\", \"Speaker Cables\", \"Ethernet Cables\", \"SATA Cables\"],\n",
    "    \"Count\": [Computer_USBs, TV_HDMI_cables, RCA_cables, optical_cables,\n",
    "              DVI_cables, Speaker_cables, ethernet_cables, SATA_cables]\n",
    "})\n",
    "\n",
    "cables_types_df\n"
   ]
  },
  {
   "cell_type": "code",
   "execution_count": null,
   "id": "28805069",
   "metadata": {},
   "outputs": [],
   "source": [
    "# Creating a pie Chart from the cable dataframe\n",
    "import plotly.graph_objects as go\n",
    "\n",
    "labels = cables_types_df[\"Cable_Type\"]\n",
    "\n",
    "values = cables_types_df[\"Count\"]\n",
    "\n",
    "# pull is given as a fraction of the pie radius\n",
    "fig = go.Figure(data=[go.Pie(labels=labels, values=values, pull=[ 0.2, 0,0,0,0 ,0,0,0])])\n",
    "# Adding a title to the pie chart\n",
    "fig.update_layout(title_text=\"Distribution of Different Types of Cables\")\n",
    "fig.show()"
   ]
  },
  {
   "cell_type": "code",
   "execution_count": null,
   "id": "76c266d2",
   "metadata": {},
   "outputs": [],
   "source": [
    "#saving the chart into the output folder \n",
    "fig.write_html('../outputs_Viz/Cables_types_pie3.html')"
   ]
  },
  {
   "cell_type": "markdown",
   "id": "573e71f0",
   "metadata": {},
   "source": [
    "## Cable market Availability analysis"
   ]
  },
  {
   "cell_type": "markdown",
   "id": "88be4d5d",
   "metadata": {},
   "source": [
    "Based on the Cables dataframe and pie chart, the findings are as following:\n",
    "- The category \"Computer USB Cables\" overwhelmingly dominates the chart, comprising a substantial majority of 83.7%. This indicates that among the cable types listed, Computer USB Cables are the most common or most stocked item in this dataset.Whereas, all other types of cables represent a small fraction of the dataset, each making up less than 2% individually.\n",
    "- TV HDMI Cables are the second most common cable type at 11.1%, which is significantly less than Computer USB Cables but still a clear second.\n",
    "- Categories such as RCA Cables, Optical Cables, Ethernet Cables, DVI Cables, Speaker Cables, and SATA Cables each make up between 0.526% and 1.58% of the dataset. Their marginal representation could point to a niche demand or specialization in these cable types."
   ]
  },
  {
   "cell_type": "code",
   "execution_count": null,
   "id": "8fddef95",
   "metadata": {},
   "outputs": [],
   "source": [
    "#  Create a query that finds all Smart Televisions in the 'amazon' collection\n",
    "# Filter results by category name\n",
    "query = {'category': 'ElectronicsHomeTheater,TVVideoTelevisionsSmartTelevisions'}\n",
    "\n",
    "# Capture the results to a variable\n",
    "result12 = list(amazon.find(query))\n",
    "\n",
    "# Print the number of results\n",
    "print(\"Total Number of items which are all Smart Televisions in result are:\", amazon.count_documents(query))\n"
   ]
  },
  {
   "cell_type": "code",
   "execution_count": null,
   "id": "a84e5f0f",
   "metadata": {},
   "outputs": [],
   "source": [
    "## Pretty print the 10 records\n",
    "pprint(result12[0:10])"
   ]
  },
  {
   "cell_type": "code",
   "execution_count": null,
   "id": "981440ae",
   "metadata": {},
   "outputs": [],
   "source": [
    "# Initialize an empty list to store the top 5 computer USB Cables which has discounted price greater than equal to 100 and have ratings greater than equal to 4\n",
    "Smart_TVs= []\n",
    "\n",
    "# Loop through each document in the results and append it to the list\n",
    "for item in result12:\n",
    "   Smart_TVs.append(item)\n",
    "  \n",
    "# Now, converted_results is a list of dictionaries\n",
    "pprint(Smart_TVs)\n"
   ]
  },
  {
   "cell_type": "code",
   "execution_count": null,
   "id": "760426a3",
   "metadata": {},
   "outputs": [],
   "source": [
    "#creating a dataframe of the Smart Tvs\n",
    "# Create a DataFrame from the list \n",
    "df_Smart_TV = pd.DataFrame(Smart_TVs)\n",
    "\n",
    "# Display the DataFrame\n",
    "#print(df_Smart_TV)\n",
    "df_Smart_TV.head(5)\n"
   ]
  },
  {
   "cell_type": "code",
   "execution_count": null,
   "id": "dc4320b8",
   "metadata": {},
   "outputs": [],
   "source": [
    "#   Create a query that finds top 5  Smart Televisions in the 'amazon' collection have rating score greater than equal to 4 \n",
    "# Filter results by product name\n",
    "query = {'category': 'ElectronicsHomeTheater,TVVideoTelevisionsSmartTelevisions',\n",
    "            'rating_count': {'$gte': 10000}, 'rating':{'$gte':4}}\n",
    "         \n",
    "# Display the required fields\n",
    "fields = {'category' :1, 'product_id':1, 'product_name': 1 , 'discounted_price': 1, 'discount_percentage':1,'actual_price': 1, \"rating\":1,\"review_title\":1, \"review_content\":1, \"rating_count\":1}\n",
    "\n",
    "# sort in descending order by \n",
    "sort = [ ('rating_count', -1)]\n",
    "\n",
    "limit = 5\n",
    "\n",
    "# Using find() with sort and limit as chained method calls\n",
    "result13 = (list(amazon.find(query, fields).sort(sort).limit(limit)))\n",
    "\n",
    "# Print the number of results\n",
    "print(\"Total Number of items which are all Smart Televisions in result are:\", amazon.count_documents(query))"
   ]
  },
  {
   "cell_type": "code",
   "execution_count": null,
   "id": "05447369",
   "metadata": {},
   "outputs": [],
   "source": [
    "#displaying the result\n",
    "result13\n"
   ]
  },
  {
   "cell_type": "code",
   "execution_count": null,
   "id": "6540fc5f",
   "metadata": {},
   "outputs": [],
   "source": [
    "# Initialize an empty list to store the top 5 smart Tvs have ratings greater than equal to 4\n",
    "top_SmartTVs = []\n",
    "\n",
    "# Loop through each document in the results and append it to the list\n",
    "for item in result13:\n",
    "  top_SmartTVs.append(item)\n",
    "  \n",
    "# Display the list\n",
    "pprint(top_SmartTVs)\n"
   ]
  },
  {
   "cell_type": "code",
   "execution_count": null,
   "id": "21b02bcc",
   "metadata": {},
   "outputs": [],
   "source": [
    "# Create a DataFrame from the list \n",
    "df_Top_Smart_TV = pd.DataFrame(top_SmartTVs)\n",
    "\n",
    "# Display the DataFrame\n",
    "#print(df_Top_Smart_TV)\n",
    "df_Top_Smart_TV.head()\n"
   ]
  },
  {
   "cell_type": "code",
   "execution_count": null,
   "id": "b4298ff8",
   "metadata": {},
   "outputs": [],
   "source": [
    "#creating an interactive barcharts showing top 5 smart TVs with rating >= 4\n",
    "df_smart_TVs = df_Top_Smart_TV\n",
    "\n",
    "fig = px.bar(df_smart_TVs, y='rating_count', x='product_id', text_auto= True,\n",
    "              hover_data=['product_name', 'actual_price', 'discounted_price'],\n",
    "            title=\"5 Most Popular Smart Tvs with rating >= 4\")\n",
    "fig.show()"
   ]
  },
  {
   "cell_type": "code",
   "execution_count": null,
   "id": "b839cc0d",
   "metadata": {},
   "outputs": [],
   "source": [
    "#saving the chart into the output folder \n",
    "fig.write_html('../outputs_Viz/most_popular_smartTvs4.html')"
   ]
  },
  {
   "cell_type": "markdown",
   "id": "2ca1e073",
   "metadata": {},
   "source": [
    "## Most Popular Smart Tv Analysis"
   ]
  },
  {
   "cell_type": "markdown",
   "id": "9d2367aa",
   "metadata": {},
   "source": [
    "Based on the chart and dataframe above, we can tell **\"product_id\": B08Y55LPBF, product_name : Redmi 126 cm (50 inches) 4K Ultra HD Android S...is the most popular Smart Tv in the dataset with the rating counts equal to 45238.0. It is 44999 INR ,however; after discount perentage of 27 % it costs 32999 INR to its customers to purchase one. The discount percentage is of moderate level but bearing in mind the rating score of 4 and highest rating counts, it sure is the most popular smart Tv in the dataset."
   ]
  },
  {
   "cell_type": "code",
   "execution_count": null,
   "id": "b50ae331",
   "metadata": {},
   "outputs": [],
   "source": [
    "#creating dataframe with product id, product name and review content to make the sentiment analysis of the most popular Smart Tvs \n",
    "review_smartTVs_df = pd.DataFrame(df_Top_Smart_TV[[\"product_id\", \"product_name\",\"review_content\", \"review_title\"]])\n",
    "review_smartTVs_df\n",
    "\n",
    "# Define a function to apply sentiment analysis\n",
    "def analyze_sentiment2(text):\n",
    "    analysis = TextBlob(text)\n",
    "    return analysis.sentiment\n",
    "\n",
    "# Apply the function to the 'review_content' column\n",
    "review_smartTVs_df['sentiment'] = review_smartTVs_df['review_content'].apply(analyze_sentiment2)\n",
    "\n",
    "# Now, df includes a new column 'sentiment' with sentiment analysis results\n",
    "print(review_df[['review_content', 'sentiment']])\n"
   ]
  },
  {
   "cell_type": "markdown",
   "id": "646e2419",
   "metadata": {},
   "source": [
    "### Sentiment Analysis of Most popular Smart Tvs"
   ]
  },
  {
   "cell_type": "markdown",
   "id": "d9e00975",
   "metadata": {},
   "source": [
    "Sentiment Polarity:\n",
    "All the sentiment polarity scores are positive, which indicates that the reviews have a generally positive tone. The polarity scores are moderate, not extremely positive, suggesting that while the reviews are favorable, they may contain some reservations or less enthusiastic language.\n",
    "\n",
    "Sentiment Subjectivity:\n",
    "The subjectivity scores are also moderate, which implies that the reviews contain a mix of objective facts and subjective opinions.None of the reviews are entirely subjective or entirely objective; they strike a balance between providing factual information about the products and expressing personal opinions or experiences.\n",
    "\n",
    "Similar Sentiment in Multiple Reviews:\n",
    "Reviews 2, 3, and 4 have identical sentiment scores, suggesting that the content of these reviews is either very similar or duplicated.\n",
    "This could indicate that the same review has been posted multiple times.\n",
    "\n",
    "However, the limitation of Sentiment analysis tools here could be it may not capture nuanced expressions of sentiment, such as sarcasm or mixed emotions within the text. Hence, these scores should be interpreted as part of a broader analysis that might include manual review of the text for context."
   ]
  },
  {
   "cell_type": "markdown",
   "id": "328f1477",
   "metadata": {},
   "source": [
    "### Statistical Data Analysis \n",
    "\n",
    "#### Calculating correlation coefficient between some numerical columns"
   ]
  },
  {
   "cell_type": "code",
   "execution_count": null,
   "id": "ba8e3ba8",
   "metadata": {},
   "outputs": [],
   "source": [
    "# Calculating the correlation coefficient between 'discounted_price' and  \"actual_price\"\n",
    "corr = df_Top_Smart_TV['actual_price'].corr(df_Top_Smart_TV['discounted_price'])\n",
    "corr"
   ]
  },
  {
   "cell_type": "markdown",
   "id": "300322bd",
   "metadata": {},
   "source": [
    "# Analysis"
   ]
  },
  {
   "cell_type": "markdown",
   "id": "6143dc74",
   "metadata": {},
   "source": [
    "The calculated correlation coefficient between 'actual_price' and 'discounted_price' is approximately 0.94. This value indicates a strong positive linear relationship between the actual price and the discounted price of items in the dataset. In practical terms, it means that as the actual price increases, the discounted price tends to increase as well, and vice versa. This strong correlation suggests that the two prices move in tandem to a large extent, implying that the discounting strategy might be proportionally related to the actual price of the items.\n",
    "\n",
    "\n",
    "\n",
    "\n"
   ]
  },
  {
   "cell_type": "code",
   "execution_count": null,
   "id": "c0753233",
   "metadata": {},
   "outputs": [],
   "source": [
    "# Calculating the correlation coefficient between  \"rating_count\" and 'discounted_price'\n",
    "corr = df_Top_Smart_TV['rating_count'].corr(df_Top_Smart_TV['discounted_price'])\n",
    "corr"
   ]
  },
  {
   "cell_type": "code",
   "execution_count": null,
   "id": "49bd3020",
   "metadata": {},
   "outputs": [],
   "source": [
    "# Calculating the correlation coefficient between 'discounted_price' and  \"rating_count\"\n",
    "corr = df_Top_Smart_TV['discounted_price'].corr(df_Top_Smart_TV['rating_count'])\n",
    "corr"
   ]
  },
  {
   "cell_type": "markdown",
   "id": "ba1b3106",
   "metadata": {},
   "source": [
    "### Identifying the correlations between some numerical fields on the Most popular Smart TV Dataframe"
   ]
  },
  {
   "cell_type": "markdown",
   "id": "efa84683",
   "metadata": {},
   "source": [
    "\n",
    "The calculated correlation coefficient between 'rating_count' and 'discounted_price' is approximately 0.054. This value indicates a very weak positive linear relationship between the number of ratings a product has received and its discounted price within the dataset. Essentially, this suggests that there is barely any linear correlation between how many times a product has been rated and its discounted price. The correlation is very close to 0, implying that changes in the discounted price of items do not significantly correspond with changes in their rating count, and vice versa.\n",
    "\n",
    "\n",
    "\n",
    "\n"
   ]
  },
  {
   "cell_type": "code",
   "execution_count": null,
   "id": "8ff64a4b",
   "metadata": {},
   "outputs": [],
   "source": [
    "# creating a stacked bars for each product, with one bar for the actual price and another for the discounted price\n",
    "df_filtered = df_Top_Smart_TV\n",
    "# Transform the DataFrame to long format\n",
    "df_long = df_filtered.melt(id_vars=['rating', 'product_id','product_name', 'category'], value_vars=['actual_price', 'discounted_price'],\n",
    "                           var_name='Price Type', value_name='Price')\n",
    "df_long.head()"
   ]
  },
  {
   "cell_type": "code",
   "execution_count": null,
   "id": "63c1b8a6",
   "metadata": {},
   "outputs": [],
   "source": [
    "# Create the bar chart using the long format DataFrame\n",
    "fig = px.bar(df_long, x='Price Type', y='Price', color='Price Type', barmode='group', hover_data=['category','product_id','product_name' ])\n",
    "\n",
    "# Update layout for a clearer x-axis and set the title\n",
    "fig.update_layout(\n",
    "    title=\"Discounted Price Vs Actual Prices for Smart TVs with Rating Score 4\",\n",
    "    xaxis_title=\"Price Type\",\n",
    "    yaxis_title=\"Price (in INR)\",\n",
    "    xaxis_tickangle=-45,\n",
    "    legend_title=\"Price Type\",)\n",
    "    \n",
    "# Show the figure\n",
    "fig.show()"
   ]
  },
  {
   "cell_type": "code",
   "execution_count": null,
   "id": "310f16c1",
   "metadata": {},
   "outputs": [],
   "source": [
    "#saving the chart into the output folder \n",
    "fig.write_html('../outputs_Viz/Amazon_bar1.html')\n"
   ]
  },
  {
   "cell_type": "markdown",
   "id": "f5f0cdac",
   "metadata": {},
   "source": [
    "### Analysis of discounted price and actual price"
   ]
  },
  {
   "cell_type": "markdown",
   "id": "81d1a9e3",
   "metadata": {},
   "source": [
    "The prices are presented on the y-axis, which is labeled with the currency (INR - Indian Rupees). The x-axis represents the price type, distinguishing between actual and discounted prices.The image depicts a stacked bar graph showing a comparison between the actual prices and discounted prices of smart TVs with a rating score of 4, where one bar showing actual price of each product and another bar showing discounted price for each product.Here, we see actual prices are shown to be higher than the discounted prices, which is expected as discounts typically reduce the price from the original amount.Also, The scale of the y-axis gives an indication of the magnitude of prices, showing that the actual prices reach up to 150k INR while the discounted prices are consistently lower."
   ]
  },
  {
   "cell_type": "code",
   "execution_count": null,
   "id": "3ad3697c",
   "metadata": {},
   "outputs": [],
   "source": []
  }
 ],
 "metadata": {
  "kernelspec": {
   "display_name": "Python 3 (ipykernel)",
   "language": "python",
   "name": "python3"
  },
  "language_info": {
   "codemirror_mode": {
    "name": "ipython",
    "version": 3
   },
   "file_extension": ".py",
   "mimetype": "text/x-python",
   "name": "python",
   "nbconvert_exporter": "python",
   "pygments_lexer": "ipython3",
   "version": "3.11.4"
  }
 },
 "nbformat": 4,
 "nbformat_minor": 5
}
