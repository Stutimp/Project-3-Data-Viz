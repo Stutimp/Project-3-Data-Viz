{
 "cells": [
  {
   "cell_type": "markdown",
   "id": "50c0d340",
   "metadata": {},
   "source": [
    "# Amazon_data"
   ]
  },
  {
   "cell_type": "markdown",
   "id": "3517449d",
   "metadata": {},
   "source": [
    "## Part 1: Database and Jupyter Notebook Set Up\n",
    "### Using following command to import dataset into mongo_db:"
   ]
  },
  {
   "cell_type": "markdown",
   "id": "fef90f11",
   "metadata": {},
   "source": [
    " mongoimport --type csv -d Clean_Data_Resources -c amazon_cleanData --headerline --drop amazon_cleanData.csv"
   ]
  },
  {
   "cell_type": "code",
   "execution_count": null,
   "id": "1bdacd5b",
   "metadata": {},
   "outputs": [],
   "source": [
    "# Import dependencies\n",
    "from pymongo import MongoClient\n",
    "from pprint import pprint\n",
    "import pandas as pd"
   ]
  },
  {
   "cell_type": "code",
   "execution_count": null,
   "id": "bf2fa1b4",
   "metadata": {},
   "outputs": [],
   "source": [
    "import matplotlib.pyplot as plt\n",
    "import pandas as pd\n",
    "import plotly.express as px\n",
    "import warnings\n",
    "warnings.filterwarnings('ignore')\n",
    "import nltk\n",
    "nltk.download('stopwords')\n",
    "import pandas as pd\n",
    "from collections import Counter\n",
    "import re"
   ]
  },
  {
   "cell_type": "code",
   "execution_count": null,
   "id": "a75cecd1",
   "metadata": {},
   "outputs": [],
   "source": [
    "# Create an instance of MongoClient\n",
    "mongo = MongoClient(port=27017)"
   ]
  },
  {
   "cell_type": "code",
   "execution_count": null,
   "id": "cb798ed3",
   "metadata": {},
   "outputs": [],
   "source": [
    "# confirm that our new database was created\n",
    "print(mongo.list_database_names())"
   ]
  },
  {
   "cell_type": "code",
   "execution_count": null,
   "id": "52a73341",
   "metadata": {},
   "outputs": [],
   "source": [
    "# assign the Clean_Data_Resources database to a variable name\n",
    "db = mongo['Clean_Data_Resources']"
   ]
  },
  {
   "cell_type": "code",
   "execution_count": null,
   "id": "c9c1b2b3",
   "metadata": {},
   "outputs": [],
   "source": [
    "# review the collections in our amazon database\n",
    "print(db.list_collection_names())"
   ]
  },
  {
   "cell_type": "code",
   "execution_count": null,
   "id": "4558716f",
   "metadata": {},
   "outputs": [],
   "source": [
    "# review a document in the establishments collection\n",
    "#Display the first document in the results using pprint before filter\n",
    "pprint(db.amazon_cleanData.find_one())"
   ]
  },
  {
   "cell_type": "code",
   "execution_count": null,
   "id": "38a70cb5",
   "metadata": {},
   "outputs": [],
   "source": [
    "# assign the collection to a variable\n",
    "amazon = db['amazon_cleanData']"
   ]
  },
  {
   "cell_type": "code",
   "execution_count": null,
   "id": "18d15143",
   "metadata": {},
   "outputs": [],
   "source": [
    "# Display the total number of items in the amazon collection\n",
    "amazon.count_documents({})"
   ]
  },
  {
   "cell_type": "markdown",
   "id": "adea3212",
   "metadata": {},
   "source": [
    "### Analysis"
   ]
  },
  {
   "cell_type": "markdown",
   "id": "cabd3eed",
   "metadata": {},
   "source": [
    "Based on Jupyter Notebook analysis, we know that there are 8 unique values (unique category column names) in the 'category' column which is the data collection of different kinds of cable in our amazon dataset. I am going to use 8 different unique values to make some queries , in order to derive some interesting information/facts and understand the trends of different cables being sold in the amazon website."
   ]
  },
  {
   "cell_type": "code",
   "execution_count": null,
   "id": "ef694f00",
   "metadata": {},
   "outputs": [],
   "source": [
    "#Creating some queries to understand the trends of cables available in the dataset\n",
    "#  Create a query that finds all computer USB cables in the 'amazon' collection\n",
    "# Filter results by name\n",
    "query = {'category': 'ComputersAccessoriesAccessoriesPeripheralsCablesAccessoriesCablesUSBCables'}\n",
    "\n",
    "# Capture the results to a variable\n",
    "results1 = amazon.find(query)\n",
    "\n",
    "# Print the number of results\n",
    "Computer_USBs = int(amazon.count_documents(query))\n",
    "print(\"Total Number of items which are computer USB cables in result are:\", Computer_USBs)\n"
   ]
  },
  {
   "cell_type": "code",
   "execution_count": null,
   "id": "979c0ab8",
   "metadata": {},
   "outputs": [],
   "source": [
    "## Pretty print the results\n",
    "pprint(results1[0:10])\n",
    "\n",
    "#displaying results1\n",
    "for i in results1:\n",
    "    print(i)"
   ]
  },
  {
   "cell_type": "code",
   "execution_count": null,
   "id": "5ac4ff21",
   "metadata": {},
   "outputs": [],
   "source": [
    "#   Create a query that finds top 5 computer USB cables in the 'amazon' collection which has discounted price greater than equal to 100 rupees and have rating score greater than equal to 4\n",
    "# Filter results by name\n",
    "#query = {'category': 'ComputersAccessoriesAccessoriesPeripheralsCablesAccessoriesCablesUSBCables',\n",
    "        #'discounted_price': {'$gte': 100}, 'rating':{'$gte':4}}\n",
    "query = {'category': 'ComputersAccessoriesAccessoriesPeripheralsCablesAccessoriesCablesUSBCables',\n",
    "        'rating_count': {'$gte': 10000}, 'rating':{'$gte':4}}\n",
    "\n",
    "\n",
    "# Display the  fields\n",
    "fields = {'category' :1, 'product_id':1, 'product_name': 1 , 'discounted_price': 1, 'discount_percentage':1,'actual_price': 1, \"rating\":1,\"review_title\":1, \"review_content\":1, \"rating_count\":1}\n",
    "\n",
    "# sort in descending order by \n",
    "#sort = [('discounted_price', -1),('discount_percentage', -1),]\n",
    "sort = [('rating_count', - 1)]\n",
    "\n",
    "# limit the results to the first 5\n",
    "limit = 5\n",
    "\n",
    "#  Execute the query\n",
    "result2= (list(amazon.find(query, fields).sort(sort).limit(limit)))\n"
   ]
  },
  {
   "cell_type": "code",
   "execution_count": null,
   "id": "403f9bee",
   "metadata": {},
   "outputs": [],
   "source": [
    "#displaying the result\n",
    "result2 "
   ]
  },
  {
   "cell_type": "code",
   "execution_count": null,
   "id": "fcb7a0b3",
   "metadata": {},
   "outputs": [],
   "source": [
    "# Initialize an empty list to store the top 5 computer USB Cables which has discounted price greater than equal to 100 and have ratings greater than equal to 4\n",
    "comp_USB_OVER_100 = []\n",
    "\n",
    "# Loop through each document in the results and append it to the list\n",
    "for item in result2:\n",
    "   comp_USB_OVER_100.append(item)\n",
    "  \n",
    "# Now, converted_results is a list of dictionaries\n",
    "pprint(comp_USB_OVER_100)"
   ]
  },
  {
   "cell_type": "code",
   "execution_count": null,
   "id": "571ce4ed",
   "metadata": {},
   "outputs": [],
   "source": [
    "# Create a DataFrame from the list \n",
    "df_Top_comp_usb_over_100 = pd.DataFrame(comp_USB_OVER_100)\n",
    "\n",
    "# Display the DataFrame\n",
    "print(\"The number of rows of the dataframe is:\", len(df_Top_comp_usb_over_100))\n",
    "print(df_Top_comp_usb_over_100)"
   ]
  },
  {
   "cell_type": "code",
   "execution_count": null,
   "id": "1a96dd9d",
   "metadata": {},
   "outputs": [],
   "source": [
    "#displaying dataframe containing top 5 computer USB Cables which has discounted price greater than equal to 100 and have ratings greater than equal to 4\n",
    "df_Top_comp_usb_over_100"
   ]
  },
  {
   "cell_type": "code",
   "execution_count": null,
   "id": "5ed34834",
   "metadata": {},
   "outputs": [],
   "source": [
    "#checking column names\n",
    "print(df_Top_comp_usb_over_100.columns)"
   ]
  },
  {
   "cell_type": "code",
   "execution_count": null,
   "id": "fd5bcabb",
   "metadata": {},
   "outputs": [],
   "source": [
    "# Reorder the columns\n",
    "Reordered_Top_comp_usb_over_100 = df_Top_comp_usb_over_100[[\n",
    "    \"product_id\", \"product_name\", \"category\", \"actual_price\", \"discounted_price\",\n",
    "    \"discount_percentage\", \"rating\", \"review_title\", \"review_content\",\"rating_count\"\n",
    "]]\n",
    "\n",
    "# Print the DataFrame\n",
    "print(\"The Top  5 computer USB Cables which has discounted price greater than equal to 100 and have ratings greater than equal to 4 are following:\")\n",
    "Reordered_Top_comp_usb_over_100"
   ]
  },
  {
   "cell_type": "code",
   "execution_count": null,
   "id": "7235644d",
   "metadata": {},
   "outputs": [],
   "source": [
    "# Creating a chart that shows top 5 computer USB Cables which has discounted price greater than equal to 100 and have ratings greater than equal to 4.\n",
    "filtered_df = Reordered_Top_comp_usb_over_100\n",
    "\n",
    "fig = px.bar(filtered_df, x = 'product_id', y = 'rating_count',\n",
    "             hover_data= ['product_name', 'actual_price', 'discount_percentage'], color = 'discount_percentage',\n",
    "             labels = {'rating_count': 'Rating_Counts'}, height = 400) \n",
    "# Update layout for a clearer x-axis and set the title\n",
    "fig.update_layout(\n",
    "    title=\"Top 5 Computer USBs with discounted price >= 100 INR and Rating Score >=4\"\n",
    ")  \n",
    "                             \n",
    "\n",
    "fig.show()"
   ]
  },
  {
   "cell_type": "code",
   "execution_count": null,
   "id": "aeea20a2",
   "metadata": {},
   "outputs": [],
   "source": [
    "#saving the chart into the output Viz folder \n",
    "fig.write_html('../outputs_Viz/Most_popular_computer_USBs.html')\n",
    "\n"
   ]
  },
  {
   "cell_type": "markdown",
   "id": "8da4414f",
   "metadata": {},
   "source": [
    "## Analysis"
   ]
  },
  {
   "cell_type": "markdown",
   "id": "3555b907",
   "metadata": {},
   "source": [
    "Based on the above chart and dataframe consisting of top 5 Computer USBs with discounted price >= 100 INR and Rating Score >=4 , we can see that, **product id \"B086JTMRYL\"** **ESR USB C to Lightning Cable,** is the most popular computer USB Cables having 19,763 rating counts, even though it is offering the lowest discounted percentage among other USB Cables competitors . Whereas, both of the  **Belkin  Cables** (product ids  \"B084MZXJNK\" and \"B084N133Y7\") are the least popular ones , both having only 1,951 rating counts . Also, although the **Amazon Cables** has the highest actual price (2100 INR) among 5, it offers 52 % discount rate on the cables making the discounted price the lowest (999 INR) , probably to increase the market share or popularity of the product. However, the relatively lower rating counts (5492) suggests the product is either still new in the market or doesnot offer the same level of quality and satisfaction to its customers like ESR USB cables does. \n",
    "   On the other hand, the discounted price of ERC cables is second highest among all. And bearing in mind all these cables got '4' as rating score,  with the positive review content and title , it is not hard to guess why ERC cables are the most popular Computer USBs among all even though it doesnot offer the least price to its customers. \n",
    "\n",
    "\n",
    "\n",
    " \n"
   ]
  },
  {
   "cell_type": "code",
   "execution_count": null,
   "id": "f06c360d",
   "metadata": {},
   "outputs": [],
   "source": [
    "# Define the list of words to search for\n",
    "words_to_find = ['loved', 'best', 'awesome', 'nice', 'amazing']\n",
    "\n",
    "# Create a regex pattern to match any of the words\n",
    "regex_pattern = '|'.join([f'(?i){word}' for word in words_to_find])  # '(?i)' for case-insensitivity\n",
    "\n",
    "# Aggregation pipeline\n",
    "pipeline = [\n",
    "    {'$match': {'review_content': {'$regex': regex_pattern}}},\n",
    "    {'$unwind': '$review_content'},\n",
    "    {'$match': {'review_content': {'$regex': regex_pattern}}},\n",
    "    {'$group': {'_id': '$product_id', 'count': {'$sum': 1}}},\n",
    "    {'$sort': {'count': -1}},\n",
    "    {'$limit': 5}\n",
    "]\n",
    "\n",
    "# Run the aggregation pipeline\n",
    "top_products = list(amazon.aggregate(pipeline))\n",
    "\n",
    "# Output the result\n",
    "if top_products:\n",
    "    print(\"Top 5 products with the most mentions of the specified words:\")\n",
    "    for product in top_products:\n",
    "        print(f\"Product ID: {product['_id']} - Mentions: {product['count']}\")\n",
    "else:\n",
    "    print(\"No products reviews contained any of the specified words.\")\n",
    "\n",
    "    print(\"No product reviews contained any of the specified words.\")\n"
   ]
  },
  {
   "cell_type": "code",
   "execution_count": null,
   "id": "6033ec08",
   "metadata": {},
   "outputs": [],
   "source": [
    "import plotly.graph_objs as go\n",
    "\n",
    "# Given output data\n",
    "products_data = [\n",
    "    {\"Product ID\": \"B08R69VDHT\", \"Mentions\": 3},\n",
    "    {\"Product ID\": \"B09C6HXFC1\", \"Mentions\": 3},\n",
    "    {\"Product ID\": \"B07XLCFSSN\", \"Mentions\": 3},\n",
    "    {\"Product ID\": \"B08WRWPM22\", \"Mentions\": 3},\n",
    "    {\"Product ID\": \"B08CF3B7N1\", \"Mentions\": 3}\n",
    "]\n",
    "\n",
    "# Extracting product IDs and mention counts\n",
    "product_ids = [product['Product ID'] for product in products_data]\n",
    "mention_counts = [product['Mentions'] for product in products_data]\n",
    "\n",
    "# Creating the bar chart\n",
    "fig = go.Figure(data=[\n",
    "    go.Bar(x=product_ids, y=mention_counts, text=mention_counts, textposition='auto')\n",
    "])\n",
    "\n",
    "# Updating the layout of the chart\n",
    "fig.update_layout(\n",
    "    title='Top 5 Products With Most Mentions of Specific Words',\n",
    "    xaxis=dict(title='Product ID'),\n",
    "    yaxis=dict(title='Number of Mentions'),\n",
    "    margin=dict(l=40, r=40, t=40, b=40),\n",
    "    paper_bgcolor=\"LightSteelBlue\",\n",
    ")\n",
    "\n",
    "# Display the figure\n",
    "fig.show()\n"
   ]
  },
  {
   "cell_type": "code",
   "execution_count": null,
   "id": "bf96ac2e",
   "metadata": {},
   "outputs": [],
   "source": [
    "import plotly.graph_objs as go\n",
    "\n",
    "# Sample data: Top 5 products with mentions count (assuming equal distribution of words for demonstration)\n",
    "products_data = [\n",
    "    {\"Product ID\": \"B08R69VDHT\", \"Mentions\": 3, \"Words\": \"loved: 1, best: 1, awesome: 1\"},\n",
    "    {\"Product ID\": \"B09C6HXFC1\", \"Mentions\": 3, \"Words\": \"loved: 1, nice: 1, amazing: 1\"},\n",
    "    {\"Product ID\": \"B07XLCFSSN\", \"Mentions\": 3, \"Words\": \"best: 2, nice: 1\"},\n",
    "    {\"Product ID\": \"B08WRWPM22\", \"Mentions\": 3, \"Words\": \"awesome: 2, amazing: 1\"},\n",
    "    {\"Product ID\": \"B08CF3B7N1\", \"Mentions\": 3, \"Words\": \"loved: 1, best: 1, nice: 1\"}\n",
    "]\n",
    "\n",
    "# Extract product IDs and mention counts\n",
    "product_ids = [product['Product ID'] for product in products_data]\n",
    "mention_counts = [product['Mentions'] for product in products_data]\n",
    "hover_texts = [product['Words'] for product in products_data]\n",
    "\n",
    "# Create the bar chart\n",
    "fig = go.Figure(data=[\n",
    "    go.Bar(x=product_ids, y=mention_counts, text=mention_counts, textposition='auto', hoverinfo='text', hovertext=hover_texts)\n",
    "])\n",
    "\n",
    "# Update chart layout for better presentation\n",
    "fig.update_layout(\n",
    "    title='Top 5 Products With Most Mentions of Specific Words in Reviews',\n",
    "    xaxis_title=\"Product ID\",\n",
    "    yaxis_title=\"Number of Mentions\",\n",
    "    hovermode='closest'\n",
    ")\n",
    "\n",
    "# Add interactive functionality: Display review words on hover\n",
    "fig.update_traces(marker_color='lightblue', marker_line_color='blue',\n",
    "                  marker_line_width=1.5, opacity=0.6)\n",
    "\n",
    "# Display the figure\n",
    "fig.show()\n"
   ]
  },
  {
   "cell_type": "code",
   "execution_count": null,
   "id": "78c58d6a",
   "metadata": {},
   "outputs": [],
   "source": [
    "from textblob import TextBlob\n",
    "import textblob\n",
    "\n"
   ]
  },
  {
   "cell_type": "code",
   "execution_count": null,
   "id": "675b3c7c",
   "metadata": {},
   "outputs": [],
   "source": [
    "# Fetch documents\n",
    "documents = amazon.find({}, {'review_content': 1, '_id': 0})  # Adjust field name as necessary\n",
    "for document in documents:\n",
    "    review_content = document.get('review_content', '')\n",
    "    if review_content:  # Ensure there's text to analyze\n",
    "        # Perform sentiment analysis\n",
    "        analysis = TextBlob(review_content)\n",
    "        # Print the sentiment\n",
    "        print(f\"Review: {review_content}\\nSentiment: {analysis.sentiment}\\n\")\n"
   ]
  },
  {
   "cell_type": "code",
   "execution_count": null,
   "id": "34c70236",
   "metadata": {},
   "outputs": [],
   "source": [
    "Reordered_Top_comp_usb_over_100"
   ]
  },
  {
   "cell_type": "code",
   "execution_count": null,
   "id": "c8577911",
   "metadata": {},
   "outputs": [],
   "source": [
    "import textblob\n",
    "#textblob.download_corpora()\n",
    "from textblob import TextBlob"
   ]
  },
  {
   "cell_type": "code",
   "execution_count": null,
   "id": "5d59fc86",
   "metadata": {},
   "outputs": [],
   "source": [
    "# Sample DataFrame creation (replace this with your actual DataFrame)\n",
    "#df = pd.DataFrame({'column_name': ['This is a great product', 'Worst purchase ever', 'I am satisfied']})\n",
    "\n",
    "# Define a function to apply sentiment analysis on a text\n",
    "def analyze_sentiment(text):\n",
    "    testimonial = TextBlob(text)\n",
    "    return testimonial.sentiment\n",
    "\n",
    "# Apply the function to your column\n",
    "Reordered_Top_comp_usb_over_100['sentiment'] = Reordered_Top_comp_usb_over_100['review_content'].apply(analyze_sentiment)\n",
    "\n",
    "# The 'sentiment' column will now have polarity and subjectivity scores\n",
    "print(Reordered_Top_comp_usb_over_100)"
   ]
  },
  {
   "cell_type": "code",
   "execution_count": null,
   "id": "7a533f37",
   "metadata": {},
   "outputs": [],
   "source": [
    "# Function to return polarity and subjectivity as separate columns\n",
    "def analyze_sentiment_polarity(text):\n",
    "    return TextBlob(text).sentiment.polarity\n",
    "\n",
    "def analyze_sentiment_subjectivity(text):\n",
    "    return TextBlob(text).sentiment.subjectivity\n",
    "\n",
    "# Apply the functions\n",
    "Reordered_Top_comp_usb_over_100['polarity'] = Reordered_Top_comp_usb_over_100['review_content'].apply(analyze_sentiment_polarity)\n",
    "Reordered_Top_comp_usb_over_100['subjectivity'] = Reordered_Top_comp_usb_over_100['review_content'].apply(analyze_sentiment_subjectivity)\n"
   ]
  },
  {
   "cell_type": "code",
   "execution_count": null,
   "id": "9fcbd8ff",
   "metadata": {},
   "outputs": [],
   "source": [
    "Reordered_Top_comp_usb_over_100"
   ]
  },
  {
   "cell_type": "markdown",
   "id": "20e589c3",
   "metadata": {},
   "source": [
    "## Analysis"
   ]
  },
  {
   "cell_type": "markdown",
   "id": "7cc5a803",
   "metadata": {},
   "source": [
    "- sentiment: A tuple representing the sentiment analysis result, with the first element being polarity and the second being subjectivity. This column seems to be a summary of the following two columns and may not be necessary for further analysis.\n",
    "- polarity: A numerical score within the range of -1 to 1, indicating the overall sentiment of the review content, where -1 is very negative, 0 is neutral, and 1 is very positive. This reflects the emotional leaning of the review text.\n",
    "- subjectivity: A numerical score within the range of 0 to 1, indicating the level of subjectivity in the review content. A score close to 0 suggests the text is more objective (fact-based), while a score closer to 1 suggests it is more subjective (opinion-based)."
   ]
  },
  {
   "cell_type": "markdown",
   "id": "8fef8307",
   "metadata": {},
   "source": [
    "### Analysis of the Sentiment Scores:"
   ]
  },
  {
   "cell_type": "markdown",
   "id": "1b1b7cf4",
   "metadata": {},
   "source": [
    "- General Sentiment: All listed products have positive sentiment scores (polarity > 0), indicating generally positive reviews. None of the scores are extremely high, suggesting that while the sentiment is positive, there may be room for improvement or that the reviews contain a mix of positive and negative sentiments.\n",
    "\n",
    "- Subjectivity: The subjectivity scores are moderate, ranging from around 0.43 to 0.54. This suggests that the reviews contain a mix of personal opinions and objective facts. A higher subjectivity score indicates that customers are sharing personal experiences or opinions rather than stating objective facts about the products.\n",
    "\n",
    "- Observations:\n",
    "The products are all from categories related to cables and accessories, with similar sentiment scores, suggesting a general satisfaction among customers but with some variations in individual experiences.\n",
    "The discount percentages and price reductions are significant, which might contribute to the positive sentiment by increasing the perceived value of the products.\n",
    "The similarity in polarity and subjectivity scores for some products (for example, products 1 and 2 have identical scores, as do products 3 and 4) might indicate that customers have consistent experiences with these products or that the sentiment analysis captured common themes in the reviews.\n",
    "Overall, the sentiment analysis output suggests that these products are well-received, with positive reviews outweighing negative ones. The moderate subjectivity scores imply that while personal opinions do influence the reviews, there is also a significant amount of factual content being discussed.\n",
    "\n",
    "\n",
    "\n",
    "\n"
   ]
  },
  {
   "cell_type": "code",
   "execution_count": null,
   "id": "9b94a26d",
   "metadata": {},
   "outputs": [],
   "source": []
  },
  {
   "cell_type": "code",
   "execution_count": null,
   "id": "0c7f8f9a",
   "metadata": {},
   "outputs": [],
   "source": []
  },
  {
   "cell_type": "code",
   "execution_count": null,
   "id": "efeba31f",
   "metadata": {},
   "outputs": [],
   "source": []
  },
  {
   "cell_type": "code",
   "execution_count": null,
   "id": "e3c69cd4",
   "metadata": {},
   "outputs": [],
   "source": [
    "#  Create a query that finds all TV HDMI cables in the 'amazon' collection\n",
    "# Filter results by name\n",
    "query = {'category': 'ElectronicsHomeTheater,TVVideoAccessoriesCablesHDMICables'}\n",
    "\n",
    "# Capture the results to a variable\n",
    "results3 = amazon.find(query)\n",
    "\n",
    "# Print the number of results\n",
    "TV_HDMI_cables = int(amazon.count_documents(query))\n",
    "print(\"Total Number of items which are TV HDMI cables in result are:\", TV_HDMI_cables)\n"
   ]
  },
  {
   "cell_type": "code",
   "execution_count": null,
   "id": "b0e1aed5",
   "metadata": {},
   "outputs": [],
   "source": [
    "## Pretty print the 10 records\n",
    "pprint(results3[0:10])\n",
    "\n",
    "#displaying results1\n",
    "for i in results3:\n",
    "    print(i)"
   ]
  },
  {
   "cell_type": "code",
   "execution_count": null,
   "id": "a56892fd",
   "metadata": {},
   "outputs": [],
   "source": [
    "#   Create a query that finds top 10  TV HDMI cables in the 'amazon' collection having discounted price greater than equal to 100 rupees and have rating score greater than equal to 4\n",
    "# Filter results by name\n",
    "query = {'category': 'ElectronicsHomeTheater,TVVideoAccessoriesCablesHDMICables',\n",
    "        'discounted_price': {'$gte': 100}, 'rating':{'$gte':4}}\n",
    "\n",
    "# Display the 'category', 'actual_price' and 'discounted_price' fields\n",
    "fields = {'category' :1, 'product_id':1, 'product_name': 1 , 'discounted_price': 1, 'discount_percentage':1,'actual_price': 1, \"rating\":1,\"review_title\":1, \"review_content\":1, \"rating_count\":1}\n",
    "\n",
    "# sort in descending order by \n",
    "sort = [('discounted_price', -1),('actual_price', -1), ('rating', -1)]\n",
    "\n",
    "# limit the results to the first 10\n",
    "limit = 10\n",
    "\n",
    "# Pretty print the results\n",
    "pprint(list(amazon.find(query, fields).sort(sort).limit(limit)))"
   ]
  },
  {
   "cell_type": "code",
   "execution_count": null,
   "id": "e025e21c",
   "metadata": {},
   "outputs": [],
   "source": [
    "#displaying the result\n",
    "result4 = list(amazon.find(query, fields).sort(sort))\n",
    "result4"
   ]
  },
  {
   "cell_type": "code",
   "execution_count": null,
   "id": "acafaae4",
   "metadata": {},
   "outputs": [],
   "source": [
    "# Initialize an empty list to store the top 10 TV HDMI Cables which has discounted price greater than equal to 100 and have ratings greater than equal to 4\n",
    "top_tv_HDMI_OVER_100 = []\n",
    "\n",
    "# Loop through each document in the results and append it to the list\n",
    "for item in result4:\n",
    "   top_tv_HDMI_OVER_100.append(item)\n",
    "  \n",
    "# Display the list\n",
    "pprint(top_tv_HDMI_OVER_100)"
   ]
  },
  {
   "cell_type": "code",
   "execution_count": null,
   "id": "3b01d3fd",
   "metadata": {},
   "outputs": [],
   "source": [
    "# Create a DataFrame from the list \n",
    "df_Top_TV_hdmi_over_100 = pd.DataFrame(top_tv_HDMI_OVER_100)\n",
    "\n",
    "# Display the DataFrame\n",
    "print(df_Top_TV_hdmi_over_100)"
   ]
  },
  {
   "cell_type": "code",
   "execution_count": null,
   "id": "9d86b9dc",
   "metadata": {},
   "outputs": [],
   "source": [
    "df_Top_TV_hdmi_over_100.head(10)"
   ]
  },
  {
   "cell_type": "code",
   "execution_count": null,
   "id": "077beb7b",
   "metadata": {},
   "outputs": [],
   "source": [
    "# Reorder the columns\n",
    "Reordered_Top_tv_hdmi_over_100 = df_Top_TV_hdmi_over_100[[\n",
    "    \"product_id\", \"product_name\", \"category\", \"actual_price\", \"discounted_price\",\n",
    "    \"discount_percentage\", \"rating\", \"review_title\", \"review_content\",\"rating_count\"\n",
    "]]\n",
    "\n",
    "# Print the first 10 rows of the DataFrame\n",
    "print(\"The Top  10 TV HDMI Cables which has discounted price greater than equal to 100 and have ratings greater than equal to 4 are following:\")\n",
    "Reordered_Top_tv_hdmi_over_100.head(10)"
   ]
  },
  {
   "cell_type": "code",
   "execution_count": null,
   "id": "89178797",
   "metadata": {},
   "outputs": [],
   "source": [
    "# Print the first 10 rows of the DataFrame\n",
    "print(\"The Top  10 TV HDMI Cables which has discounted price greater than equal to 100 and have ratings greater than equal to 4 are following:\")\n",
    "Reordered_Top_tv_hdmi_over_100.head(10)"
   ]
  },
  {
   "cell_type": "code",
   "execution_count": null,
   "id": "f6587d72",
   "metadata": {},
   "outputs": [],
   "source": [
    "#  Create a query that finds all TV USB cables in the 'amazon' collection\n",
    "# Filter results by name\n",
    "\n",
    "query = {'category': {'$regex': \"cables$\", '$options': 'i'}}\n",
    "\n",
    "# Capture the results to a variable\n",
    "result5 = amazon.find(query)\n",
    "\n",
    "# Print the number of results\n",
    "Total_cables = int(amazon.count_documents(query))\n",
    "print(\"Total Number of cables in result are:\",Total_cables  )\n"
   ]
  },
  {
   "cell_type": "code",
   "execution_count": null,
   "id": "0aafa3c2",
   "metadata": {},
   "outputs": [],
   "source": [
    "## Pretty print the 10 records\n",
    "Cables = []\n",
    "pprint(result5)\n",
    "\n",
    "#displaying results1\n",
    "for i in result5:\n",
    "    Cables.append(i)\n",
    "   "
   ]
  },
  {
   "cell_type": "code",
   "execution_count": null,
   "id": "4fea2d2e",
   "metadata": {},
   "outputs": [],
   "source": [
    "Cables[0:3]"
   ]
  },
  {
   "cell_type": "code",
   "execution_count": null,
   "id": "2763f283",
   "metadata": {},
   "outputs": [],
   "source": [
    "# Create a DataFrame from the list \n",
    "df_cables = pd.DataFrame(Cables)\n",
    "\n",
    "#reorder the df_Cables dataframe\n",
    "reordered_df_cables = df_cables[[\"category\", \"product_name\", \"discounted_price\", \"actual_price\", \"rating\", \"rating_count\"]]\n",
    "\n",
    "# Display the DataFrame\n",
    "print(\"Total number of cables in the dataset are:\" , int(len(df_cables)))\n",
    "reordered_df_cables"
   ]
  },
  {
   "cell_type": "code",
   "execution_count": null,
   "id": "1214abe7",
   "metadata": {},
   "outputs": [],
   "source": [
    "#  Create a query that finds all TV USB cables in the 'amazon' collection\n",
    "# Filter results by name\n",
    "query = {'category':  'ElectronicsHomeTheater,TVVideoAccessoriesCablesRCACables'}\n",
    "\n",
    "# Capture the results to a variable\n",
    "result6 = amazon.find(query)\n",
    "\n",
    "# Print the number of results\n",
    "RCA_cables = int(amazon.count_documents(query))\n",
    "print(\"Total Number of rca cables in result are:\", RCA_cables)\n"
   ]
  },
  {
   "cell_type": "code",
   "execution_count": null,
   "id": "d4dabec0",
   "metadata": {},
   "outputs": [],
   "source": [
    "#  Create a query that finds all optical cables in the 'amazon' collection\n",
    "# Filter results by name\n",
    "query = {'category':  'ElectronicsHomeTheater,TVVideoAccessoriesCablesOpticalCables'}\n",
    "\n",
    "# Capture the results to a variable\n",
    "result7 = amazon.find(query)\n",
    "\n",
    "# Print the number of results\n",
    "optical_cables = int(amazon.count_documents(query))\n",
    "print(\"Total Number of optical cables in result are:\", optical_cables)"
   ]
  },
  {
   "cell_type": "code",
   "execution_count": null,
   "id": "69bb6fdf",
   "metadata": {},
   "outputs": [],
   "source": [
    "#  Create a query that finds all TV USB cables in the 'amazon' collection\n",
    "# Filter results by name\n",
    "query = {'category': 'ComputersAccessoriesAccessoriesPeripheralsCablesAccessoriesCablesDVICables'}\n",
    "\n",
    "# Capture the results to a variable\n",
    "result8 = amazon.find(query)\n",
    "\n",
    "# Print the number of results\n",
    "DVI_cables = int(amazon.count_documents(query))\n",
    "print(\"Total Number of DVI cables in result are:\", DVI_cables)"
   ]
  },
  {
   "cell_type": "code",
   "execution_count": null,
   "id": "dffe2e98",
   "metadata": {},
   "outputs": [],
   "source": [
    "#  Create a query that finds all TV USB cables in the 'amazon' collection\n",
    "# Filter results by name\n",
    "query = {'category':  'ElectronicsHomeTheater,TVVideoAccessoriesCablesSpeakerCables'}\n",
    "\n",
    "# Capture the results to a variable\n",
    "result9 = amazon.find(query)\n",
    "\n",
    "# Print the number of results\n",
    "Speaker_cables = int(amazon.count_documents(query))\n",
    "print(\"Total Number of speaker cables in result are:\", Speaker_cables)"
   ]
  },
  {
   "cell_type": "code",
   "execution_count": null,
   "id": "79ea3709",
   "metadata": {},
   "outputs": [],
   "source": [
    "#  Create a query that finds all TV USB cables in the 'amazon' collection\n",
    "# Filter results by name\n",
    "query = {'category':   'ComputersAccessoriesAccessoriesPeripheralsCablesAccessoriesCablesEthernetCables'}\n",
    "\n",
    "# Capture the results to a variable\n",
    "result10 = amazon.find(query)\n",
    "\n",
    "# Print the number of results\n",
    "ethernet_cables = int(amazon.count_documents(query))\n",
    "print(\"Total Number of ethernet cables in result are:\", ethernet_cables)"
   ]
  },
  {
   "cell_type": "code",
   "execution_count": null,
   "id": "7cdab727",
   "metadata": {},
   "outputs": [],
   "source": [
    "#  Create a query that finds all TV USB cables in the 'amazon' collection\n",
    "# Filter results by name\n",
    "query = {'category':   'ComputersAccessoriesAccessoriesPeripheralsCablesAccessoriesCablesSATACables'}\n",
    "\n",
    "# Capture the results to a variable\n",
    "results11 = amazon.find(query)\n",
    "\n",
    "# Print the number of results\n",
    "SATA_cables = int(amazon.count_documents(query))\n",
    "print(\"Total Number of SATA cables in result are:\",SATA_cables)"
   ]
  },
  {
   "cell_type": "code",
   "execution_count": null,
   "id": "ca844d9d",
   "metadata": {},
   "outputs": [],
   "source": []
  },
  {
   "cell_type": "code",
   "execution_count": null,
   "id": "d0984647",
   "metadata": {},
   "outputs": [],
   "source": []
  },
  {
   "cell_type": "markdown",
   "id": "1e990f76",
   "metadata": {},
   "source": [
    "## Analysis"
   ]
  },
  {
   "cell_type": "code",
   "execution_count": null,
   "id": "765018d5",
   "metadata": {},
   "outputs": [],
   "source": [
    "print(\"There are three kinds of Cables in this dataset, they are:\")\n",
    "print(\"1. Computer USB Cables are:\", Computer_USBs)\n",
    "print(\"2. TV HDMI Cables are:\" , TV_HDMI_cables)\n",
    "print(\"3. RCA Cables are:\" , RCA_cables)\n",
    "print(\"4. Optical Cables are:\" , optical_cables)\n",
    "print(\"5. DVI Cables are:\" , DVI_cables)\n",
    "print(\"6. Speaker Cables are:\" , Speaker_cables)\n",
    "print(\"7. ethernet Cables are:\" , ethernet_cables)\n",
    "print(\"8. SATA Cables are:\" , SATA_cables)\n",
    "print(\"Therefore, Total Cables = Computer_USBs + TV_HDMI_cables + RCA_cables + optical cables + DVI cables + speaker cables + ethernet cables + SATA cables =\", Total_cables)\n"
   ]
  },
  {
   "cell_type": "code",
   "execution_count": null,
   "id": "5f7ff844",
   "metadata": {},
   "outputs": [],
   "source": [
    "# Define the cable data\n",
    "cable_data = {\n",
    "    \"Cable Type\": [\n",
    "        \"Computer USB Cables\",\n",
    "        \"TV HDMI Cables\",\n",
    "        \"RCA Cables\",\n",
    "        \"Optical Cables\",\n",
    "        \"DVI Cables\",\n",
    "        \"Speaker Cables\",\n",
    "        \"Ethernet Cables\",\n",
    "        \"SATA Cables\"\n",
    "    ],\n",
    "    \"Count\": [231, 24, 2, 3, 1, 1, 2, 1]\n",
    "}\n",
    "\n",
    "# Create a DataFrame\n",
    "df_cables_types = pd.DataFrame(cable_data)\n",
    "\n",
    "# Calculate the total number of cables\n",
    "df_cables_types[\"Total Cables\"] = df_cables[\"Count\"].sum()\n",
    "\n",
    "# Display the DataFrame\n",
    "df_cables_types"
   ]
  },
  {
   "cell_type": "code",
   "execution_count": null,
   "id": "28805069",
   "metadata": {},
   "outputs": [],
   "source": [
    "# Creating a pie Chart from the cable dataframe\n",
    "import plotly.graph_objects as go\n",
    "\n",
    "labels = [\"Computer USB Cables\",\n",
    "        \"TV HDMI Cables\",\n",
    "        \"RCA Cables\",\n",
    "        \"Optical Cables\",\n",
    "        \"DVI Cables\",\n",
    "        \"Speaker Cables\",\n",
    "        \"Ethernet Cables\",\n",
    "        \"SATA Cables\"]\n",
    "\n",
    "values = [231, 24, 2, 3, 1, 1, 2, 1]\n",
    "\n",
    "# pull is given as a fraction of the pie radius\n",
    "fig = go.Figure(data=[go.Pie(labels=labels, values=values, pull=[ 0.2, 0,0,0,0 ,0,0,0])])\n",
    "fig.show()"
   ]
  },
  {
   "cell_type": "code",
   "execution_count": null,
   "id": "76c266d2",
   "metadata": {},
   "outputs": [],
   "source": [
    "#saving the chart into the output folder \n",
    "fig.write_html('../outputs_Viz/Cables_pie.html')"
   ]
  },
  {
   "cell_type": "code",
   "execution_count": null,
   "id": "0104d346",
   "metadata": {},
   "outputs": [],
   "source": []
  },
  {
   "cell_type": "code",
   "execution_count": null,
   "id": "8fddef95",
   "metadata": {},
   "outputs": [],
   "source": [
    "#  Create a query that finds all Smart Televisions in the 'amazon' collection\n",
    "# Filter results by category name\n",
    "query = {'category': 'ElectronicsHomeTheater,TVVideoTelevisionsSmartTelevisions'}\n",
    "\n",
    "# Capture the results to a variable\n",
    "result12 = amazon.find(query)\n",
    "\n",
    "# Print the number of results\n",
    "print(\"Total Number of items which are all Smart Televisions in result are:\", amazon.count_documents(query))\n"
   ]
  },
  {
   "cell_type": "code",
   "execution_count": null,
   "id": "a84e5f0f",
   "metadata": {},
   "outputs": [],
   "source": [
    "## Pretty print the 10 records\n",
    "pprint(result12[0:10])\n",
    "\n",
    "#displaying results1\n",
    "for i in result12:\n",
    "    print(i)\n"
   ]
  },
  {
   "cell_type": "code",
   "execution_count": null,
   "id": "8998c542",
   "metadata": {},
   "outputs": [],
   "source": [
    "#  Create a query that finds all Smart Televisions in the 'amazon' collection\n",
    "# Filter results by category name\n",
    "query = {'category': {'$regex': \"SmartTelevisions\"}}\n",
    "\n",
    "# Capture the results to a variable\n",
    "result13 = amazon.find(query)\n",
    "\n",
    "# Print the number of results\n",
    "print(\"Total Number of items which are all Smart Televisions in result are:\", amazon.count_documents(query))\n"
   ]
  },
  {
   "cell_type": "code",
   "execution_count": null,
   "id": "dc4320b8",
   "metadata": {},
   "outputs": [],
   "source": [
    "#   Create a query that finds top 10  Smart Televisions in the 'amazon' collection have rating score greater than equal to 4 and highest rating count in descending order\n",
    "# Filter results by product name\n",
    "query = {'category': 'ElectronicsHomeTheater,TVVideoTelevisionsSmartTelevisions',\n",
    "        'rating':{'$gte':4}}\n",
    "\n",
    "# Display the 'category', 'actual_price' and 'discounted_price' fields\n",
    "fields = {'category' :1, 'product_id':1, 'product_name': 1 , 'discounted_price': 1, 'discount_percentage':1,'actual_price': 1, \"rating\":1,\"review_title\":1, \"review_content\":1, \"rating_count\":1}\n",
    "\n",
    "# sort in descending order by \n",
    "sort = [('rating', -1), ('rating_count', -1)]\n",
    "\n",
    "limit = 10\n",
    "\n",
    "# Using find() with sort and limit as chained method calls\n",
    "pprint(list(amazon.find(query, fields).sort(sort).limit(limit)))\n",
    "\n",
    "# Print the number of results\n",
    "print(\"Total Number of items which are all Smart Televisions in result are:\", amazon.count_documents(query))"
   ]
  },
  {
   "cell_type": "code",
   "execution_count": null,
   "id": "05447369",
   "metadata": {},
   "outputs": [],
   "source": [
    "#displaying the result\n",
    "result14 = list(amazon.find(query, fields).sort(sort).limit(limit))\n",
    "result14\n"
   ]
  },
  {
   "cell_type": "code",
   "execution_count": null,
   "id": "6540fc5f",
   "metadata": {},
   "outputs": [],
   "source": [
    "# Initialize an empty list to store the top 10 TV HDMI Cables which has discounted price greater than equal to 100 and have ratings greater than equal to 4\n",
    "top10_SmartTVs = []\n",
    "\n",
    "# Loop through each document in the results and append it to the list\n",
    "for item in result8:\n",
    "   top10_SmartTVs.append(item)\n",
    "  \n",
    "# Display the list\n",
    "pprint(top10_SmartTVs)\n"
   ]
  },
  {
   "cell_type": "code",
   "execution_count": null,
   "id": "21b02bcc",
   "metadata": {},
   "outputs": [],
   "source": [
    "# Create a DataFrame from the list \n",
    "df_Top_Smart_TV = pd.DataFrame(top10_SmartTVs)\n",
    "\n",
    "# Display the DataFrame\n",
    "#print(df_Top_Smart_TV)\n",
    "df_Top_Smart_TV.head(10)\n"
   ]
  },
  {
   "cell_type": "code",
   "execution_count": null,
   "id": "f2184beb",
   "metadata": {},
   "outputs": [],
   "source": [
    "import matplotlib.pyplot as plt\n",
    "import seaborn as sns"
   ]
  },
  {
   "cell_type": "markdown",
   "id": "328f1477",
   "metadata": {},
   "source": [
    "# Statistical Data Analysis"
   ]
  },
  {
   "cell_type": "code",
   "execution_count": null,
   "id": "ba8e3ba8",
   "metadata": {},
   "outputs": [],
   "source": [
    "# Calculating the correlation coefficient between 'discounted_price' and  \"actual_price\"\n",
    "corr = df_Top_Smart_TV['actual_price'].corr(df_Top_Smart_TV['discounted_price'])\n",
    "corr"
   ]
  },
  {
   "cell_type": "markdown",
   "id": "300322bd",
   "metadata": {},
   "source": [
    "# Analysis"
   ]
  },
  {
   "cell_type": "markdown",
   "id": "6143dc74",
   "metadata": {},
   "source": [
    "The calculated correlation coefficient between 'actual_price' and 'discounted_price' is approximately 0.94. This value indicates a strong positive linear relationship between the actual price and the discounted price of items in the dataset. In practical terms, it means that as the actual price increases, the discounted price tends to increase as well, and vice versa. This strong correlation suggests that the two prices move in tandem to a large extent, implying that the discounting strategy might be proportionally related to the actual price of the items.\n",
    "\n",
    "\n",
    "\n",
    "\n"
   ]
  },
  {
   "cell_type": "code",
   "execution_count": null,
   "id": "c0753233",
   "metadata": {},
   "outputs": [],
   "source": [
    "# Calculating the correlation coefficient between  \"rating_count\" and 'discounted_price'\n",
    "corr = df_Top_Smart_TV['rating_count'].corr(df_Top_Smart_TV['discounted_price'])\n",
    "corr"
   ]
  },
  {
   "cell_type": "code",
   "execution_count": null,
   "id": "49bd3020",
   "metadata": {},
   "outputs": [],
   "source": [
    "# Calculating the correlation coefficient between 'discounted_price' and  \"rating_count\"\n",
    "corr = df_Top_Smart_TV['discounted_price'].corr(df_Top_Smart_TV['rating_count'])\n",
    "corr"
   ]
  },
  {
   "cell_type": "markdown",
   "id": "ba1b3106",
   "metadata": {},
   "source": [
    "# Analysis"
   ]
  },
  {
   "cell_type": "markdown",
   "id": "efa84683",
   "metadata": {},
   "source": [
    "\n",
    "The calculated correlation coefficient between 'rating_count' and 'discounted_price' is approximately 0.054. This value indicates a very weak positive linear relationship between the number of ratings a product has received and its discounted price within the dataset. Essentially, this suggests that there is barely any linear correlation between how many times a product has been rated and its discounted price. The correlation is very close to 0, implying that changes in the discounted price of items do not significantly correspond with changes in their rating count, and vice versa.\n",
    "\n",
    "\n",
    "\n",
    "\n"
   ]
  },
  {
   "cell_type": "code",
   "execution_count": null,
   "id": "4d744f85",
   "metadata": {},
   "outputs": [],
   "source": [
    "# Calculating the correlation coefficient between 'discounted_price' and  \"actual_price\"\n",
    "corr = df_Top_Smart_TV['rating_count'].corr(df_Top_Smart_TV['rating'])\n",
    "corr"
   ]
  },
  {
   "cell_type": "code",
   "execution_count": null,
   "id": "8ff64a4b",
   "metadata": {},
   "outputs": [],
   "source": [
    "# Filter the DataFrame for TVs with a rating of 4\n",
    "df_filtered = df_Top_Smart_TV[df_Top_Smart_TV['rating'] == 4]\n",
    "\n",
    "# Transform the DataFrame to long format\n",
    "df_long = df_filtered.melt(id_vars=['rating', 'product_id','product_name', 'category'], value_vars=['actual_price', 'discounted_price'],\n",
    "                           var_name='Price Type', value_name='Price')\n"
   ]
  },
  {
   "cell_type": "code",
   "execution_count": null,
   "id": "4f4cd294",
   "metadata": {},
   "outputs": [],
   "source": [
    "df_long.head()"
   ]
  },
  {
   "cell_type": "code",
   "execution_count": null,
   "id": "63c1b8a6",
   "metadata": {},
   "outputs": [],
   "source": [
    "# Create the bar chart using the long format DataFrame\n",
    "fig = px.bar(df_long, x='Price Type', y='Price', color='Price Type', barmode='group', hover_data=['category','product_id','product_name' ])\n",
    "\n",
    "# Update layout for a clearer x-axis and set the title\n",
    "fig.update_layout(\n",
    "    title=\"Discounted Price Vs Actual Prices for Smart TVs with Rating Score 4\",\n",
    "    xaxis_title=\"Price Type\",\n",
    "    yaxis_title=\"Price (in INR)\",\n",
    "    xaxis_tickangle=-45,\n",
    "    legend_title=\"Price Type\",\n",
    "    # Make sure the currency format is correct for your locale\n",
    "    # This example assumes that you are formatting the prices in Indian Rupees\n",
    ")\n",
    "\n",
    "# Show the figure\n",
    "fig.show()"
   ]
  },
  {
   "cell_type": "code",
   "execution_count": null,
   "id": "310f16c1",
   "metadata": {},
   "outputs": [],
   "source": [
    "#saving the chart into the output folder \n",
    "fig.write_html('../outputs_Viz/Amazon_bar1.html')\n"
   ]
  },
  {
   "cell_type": "code",
   "execution_count": null,
   "id": "67273d61",
   "metadata": {},
   "outputs": [],
   "source": []
  },
  {
   "cell_type": "code",
   "execution_count": null,
   "id": "dc9f6806",
   "metadata": {},
   "outputs": [],
   "source": [
    "# Create a pipeline that: \n",
    "# 1. Matches smart TVs having rating score greater than equal to 4\n",
    "match_query = {'$match': {'category': 'ElectronicsHomeTheater,TVVideoTelevisionsSmartTelevisions',\n",
    "                'rating': {'$gte': 4 }}}\n",
    "\n",
    "\n",
    "# 2. Groups the matches by rating count having most rating count at the top\n",
    "group_query = {'$group': {'_id':\"$rating_count\", 'total': {'$sum':1}}}\n",
    "\n",
    "# 3. Sorts the matches from highest to lowest\n",
    "sort_values = {'$sort': {'total':-1}}\n",
    "\n",
    "# Put the pipeline together\n",
    "pipeline = [match_query, group_query, sort_values]"
   ]
  },
  {
   "cell_type": "code",
   "execution_count": null,
   "id": "ccbfed71",
   "metadata": {},
   "outputs": [],
   "source": [
    "# Run the pipeline through the aggregate method, cast the results as a list, and save the results to a variable\n",
    "result15 = list(amazon.aggregate(pipeline))"
   ]
  },
  {
   "cell_type": "code",
   "execution_count": null,
   "id": "2b0bc9e0",
   "metadata": {},
   "outputs": [],
   "source": [
    "# Print the first 10 results\n",
    "print(\"Number of  Smart TVS having rating score greater than equal to 4 in result are : \", len(result9))\n",
    "print(\"The first ten results are: \")\n",
    "pprint(result15[0:10])"
   ]
  },
  {
   "cell_type": "markdown",
   "id": "f5f0cdac",
   "metadata": {},
   "source": [
    "# Analysis"
   ]
  },
  {
   "cell_type": "markdown",
   "id": "81d1a9e3",
   "metadata": {},
   "source": [
    "### Here's a detailed explanation of the output list:\n",
    "\n",
    "- {'_id': 32840, 'total': 5}: There are 5 smart TVs that received 32,840 ratings. This group has the highest number of TVs, indicating that 32,840 is a common rating count among the TVs considered.\n",
    "- {'_id': 7109, 'total': 4}, {'_id': 4703, 'total': 4}: Each of these groups has 4 smart TVs that received 7,109 and 4,703 ratings, respectively.\n",
    "- {'_id': 45238, 'total': 3}, {'_id': 16299, 'total': 3}, {'_id': 34899, 'total': 3}: Each of these groups consists of 3 smart TVs, with each group having 45,238, 16,299, and 34,899 ratings, respectively where the first one having the highest rating counts among all.\n",
    "- Other entries ('total': 2): These represent groups where exactly 2 smart TVs have the specified number of ratings (_id values like 21252, 3587, etc.).\n",
    "- This output essentially ranks the commonality of certain rating_count values among smart TVs in the dataset, starting from the most common (or shared by the most products) to less common. It's a valuable insight into the distribution of customer engagement (as measured by the count of ratings) across different products in the amazon data collection."
   ]
  },
  {
   "cell_type": "code",
   "execution_count": null,
   "id": "b1b3dec0",
   "metadata": {},
   "outputs": [],
   "source": [
    "# Convert the result to a Pandas DataFrame\n",
    "smartTVS_df = pd.DataFrame(result9)\n",
    "\n",
    "# Display the number of rows in the DataFrame\n",
    "print(\"Rows in DataFrame: \", len(smartTVS_df))\n",
    "\n",
    "# Display the first 10 rows of the DataFrame\n",
    "smartTVS_df.head(10)"
   ]
  },
  {
   "cell_type": "code",
   "execution_count": null,
   "id": "4e2ddeff",
   "metadata": {},
   "outputs": [],
   "source": [
    "# Rename the columns\n",
    "renamed_smartTVS_df = smartTVS_df.rename(columns={\"_id\": \"rating_count\",\n",
    "                                              \"total\": \"Total_count\",\n",
    "                                            })\n",
    "\n",
    "# Print the first 10 rows of the DataFrame\n",
    "print(\" \")\n",
    "renamed_smartTVS_df.head(10)"
   ]
  },
  {
   "cell_type": "markdown",
   "id": "221df093",
   "metadata": {},
   "source": [
    "## Analysis"
   ]
  },
  {
   "cell_type": "markdown",
   "id": "b0b06efd",
   "metadata": {},
   "source": [
    "\n",
    "The summarized output of the DataFrame indicates a grouping of smart TVs based on their rating counts, revealing insights into customer engagement or popularity. Specifically, the top group consists of 5 smart TVs sharing a high rating count of 32,840, suggesting a significant level of customer interaction. Following this, there are groups of 4 smart TVs with rating counts of 7,109 and 4,703, respectively, indicating these are also highly rated items. Further down, groups of 3 smart TVs share rating counts of 45,238, 16,299, and 34,899, demonstrating  the highest level for the first one then moderate level of popularity for the second one but again higher level of popularity for the third one. Lastly, several groups of 2 smart TVs show, first one having relatively lower, yet notable, rating counts ranging from 1,611 to 21,252. This analysis underscores the variability in customer ratings among smart TVs, from extremely popular models with thousands of ratings to less popular ones with fewer ratings."
   ]
  },
  {
   "cell_type": "code",
   "execution_count": null,
   "id": "f9a6ba15",
   "metadata": {},
   "outputs": [],
   "source": []
  },
  {
   "cell_type": "code",
   "execution_count": null,
   "id": "7ca45395",
   "metadata": {},
   "outputs": [],
   "source": [
    "#  Create a query that finds all TV HDMI cables in the 'amazon' collection\n",
    "# Filter results by name\n",
    "query = {'product_id': 'B09W5XR9RT'}\n",
    "\n",
    "# Capture the results to a variable\n",
    "result16 = amazon.find(query)\n",
    "\n",
    "# Print the number of results\n",
    "print(\"Total Number of items which are TV HDMI cables in result are:\", amazon.count_documents(query11))"
   ]
  },
  {
   "cell_type": "code",
   "execution_count": null,
   "id": "3ad3697c",
   "metadata": {},
   "outputs": [],
   "source": []
  }
 ],
 "metadata": {
  "kernelspec": {
   "display_name": "Python 3 (ipykernel)",
   "language": "python",
   "name": "python3"
  },
  "language_info": {
   "codemirror_mode": {
    "name": "ipython",
    "version": 3
   },
   "file_extension": ".py",
   "mimetype": "text/x-python",
   "name": "python",
   "nbconvert_exporter": "python",
   "pygments_lexer": "ipython3",
   "version": "3.11.4"
  }
 },
 "nbformat": 4,
 "nbformat_minor": 5
}
