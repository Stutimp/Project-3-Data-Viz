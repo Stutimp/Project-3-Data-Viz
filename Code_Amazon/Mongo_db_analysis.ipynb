{
 "cells": [
  {
   "cell_type": "markdown",
   "id": "50c0d340",
   "metadata": {},
   "source": [
    "# Amazon_data"
   ]
  },
  {
   "cell_type": "markdown",
   "id": "3517449d",
   "metadata": {},
   "source": [
    "## Part 1: Database and Jupyter Notebook Set Up\n",
    "### Using following command to import dataset into mongo_db:"
   ]
  },
  {
   "cell_type": "markdown",
   "id": "fef90f11",
   "metadata": {},
   "source": [
    " mongoimport --type csv -d Clean_Data_Resources -c amazon_cleanData --headerline --drop amazon_cleanData.csv"
   ]
  },
  {
   "cell_type": "code",
   "execution_count": null,
   "id": "1bdacd5b",
   "metadata": {},
   "outputs": [],
   "source": [
    "# Import dependencies\n",
    "from pymongo import MongoClient\n",
    "from pprint import pprint\n",
    "import pandas as pd"
   ]
  },
  {
   "cell_type": "code",
   "execution_count": null,
   "id": "a75cecd1",
   "metadata": {},
   "outputs": [],
   "source": [
    "# Create an instance of MongoClient\n",
    "mongo = MongoClient(port=27017)"
   ]
  },
  {
   "cell_type": "code",
   "execution_count": null,
   "id": "cb798ed3",
   "metadata": {},
   "outputs": [],
   "source": [
    "# confirm that our new database was created\n",
    "print(mongo.list_database_names())"
   ]
  },
  {
   "cell_type": "code",
   "execution_count": null,
   "id": "52a73341",
   "metadata": {},
   "outputs": [],
   "source": [
    "# assign the uk_food database to a variable name\n",
    "db = mongo['Clean_Data_Resources']"
   ]
  },
  {
   "cell_type": "code",
   "execution_count": null,
   "id": "c9c1b2b3",
   "metadata": {},
   "outputs": [],
   "source": [
    "# review the collections in our amazon database\n",
    "print(db.list_collection_names())"
   ]
  },
  {
   "cell_type": "code",
   "execution_count": null,
   "id": "4558716f",
   "metadata": {},
   "outputs": [],
   "source": [
    "# review a document in the establishments collection\n",
    "#Display the first document in the results using pprint before filter\n",
    "pprint(db.amazon_cleanData.find_one())"
   ]
  },
  {
   "cell_type": "code",
   "execution_count": null,
   "id": "9a4a5a9e",
   "metadata": {},
   "outputs": [],
   "source": [
    "# pprint(db.amazon_cleanData.findall)"
   ]
  },
  {
   "cell_type": "code",
   "execution_count": null,
   "id": "38a70cb5",
   "metadata": {},
   "outputs": [],
   "source": [
    "# assign the collection to a variable\n",
    "amazon = db['amazon_cleanData']"
   ]
  },
  {
   "cell_type": "code",
   "execution_count": null,
   "id": "18d15143",
   "metadata": {},
   "outputs": [],
   "source": [
    "# Display the total number of items in the amazon collection\n",
    "amazon.count_documents({})"
   ]
  },
  {
   "cell_type": "code",
   "execution_count": null,
   "id": "ef694f00",
   "metadata": {},
   "outputs": [],
   "source": [
    "#  Create a query that finds all USB cables in the 'amazon' collection\n",
    "# Filter results by name\n",
    "query = {'category': 'ComputersAccessoriesAccessoriesPeripheralsCablesAccessoriesCablesUSBCables'}\n",
    "\n",
    "# Capture the results to a variable\n",
    "results1 = amazon.find(query)\n",
    "\n",
    "## Pretty print the results\n",
    "pprint(results1[0:10])\n",
    "\n",
    "#displaying results1\n",
    "for i in results1:\n",
    "    print(i)"
   ]
  },
  {
   "cell_type": "code",
   "execution_count": null,
   "id": "064aa51f",
   "metadata": {},
   "outputs": [],
   "source": [
    "# Print the number of results\n",
    "print(\"Total Number of items which are Cable Accessories in result are:\", amazon.count_documents(query))"
   ]
  },
  {
   "cell_type": "code",
   "execution_count": null,
   "id": "5ac4ff21",
   "metadata": {},
   "outputs": [],
   "source": [
    "#   Create a query that finds top 10 USB cables in the 'amazon' collection which has discounted price greater than equal to 100 rupees and have rating score greater than equal to 4\n",
    "# Filter results by name\n",
    "query = {'category': 'ComputersAccessoriesAccessoriesPeripheralsCablesAccessoriesCablesUSBCables',\n",
    "        'discounted_price': {'$gte': 100}, 'rating':{'$gte':4}}\n",
    "\n",
    "# Display the 'category', 'actual_price' and 'discounted_price' fields\n",
    "fields = {'category' :1, 'product_id':1, 'product_name': 1 , 'discounted_price': 1, 'discount_percentage':1,'actual_price': 1, \"rating\":1,\"review_title\":1, \"review_content\":1, \"rating_count\":1}\n",
    "\n",
    "# sort in descending order by \n",
    "sort = [('discounted_price', -1),('actual_price', -1), ('rating', -1)]\n",
    "\n",
    "# limit the results to the first 10\n",
    "limit = 10\n",
    "\n",
    "# Pretty print the results\n",
    "pprint(list(amazon.find(query, fields).sort(sort).limit(limit)))\n"
   ]
  },
  {
   "cell_type": "code",
   "execution_count": null,
   "id": "403f9bee",
   "metadata": {},
   "outputs": [],
   "source": [
    "result2 = list(amazon.find(query, fields).sort(sort))"
   ]
  },
  {
   "cell_type": "code",
   "execution_count": null,
   "id": "fb263683",
   "metadata": {},
   "outputs": [],
   "source": [
    "result2"
   ]
  },
  {
   "cell_type": "code",
   "execution_count": null,
   "id": "fcb7a0b3",
   "metadata": {},
   "outputs": [],
   "source": [
    "# Initialize an empty list to store the top 10 USB Cables which has discounted price greater than equal to 100 and have ratings greater than equal to 4\n",
    "topUSB_OVER_100 = []\n",
    "\n",
    "# Loop through each document in the results and append it to the list\n",
    "for item in result2:\n",
    "   topUSB_OVER_100.append(item)\n",
    "\n",
    "# Now, converted_results is a list of dictionaries\n",
    "pprint(topUSB_OVER_100)"
   ]
  },
  {
   "cell_type": "code",
   "execution_count": null,
   "id": "571ce4ed",
   "metadata": {},
   "outputs": [],
   "source": [
    "# Create a DataFrame from the list \n",
    "df_Top_usb_over_100 = pd.DataFrame(topUSB_OVER_100)\n",
    "\n",
    "# Display the DataFrame\n",
    "print(df_Top_usb_over_100)"
   ]
  },
  {
   "cell_type": "code",
   "execution_count": null,
   "id": "1a96dd9d",
   "metadata": {},
   "outputs": [],
   "source": [
    "#displaying dataframe containing top 10 USB Cables which has discounted price greater than equal to 100 and have ratings greater than equal to 4\n",
    "df_Top_usb_over_100.head(10)"
   ]
  },
  {
   "cell_type": "code",
   "execution_count": null,
   "id": "5ed34834",
   "metadata": {},
   "outputs": [],
   "source": [
    "print(df_Top_usb_over_100.columns)"
   ]
  },
  {
   "cell_type": "code",
   "execution_count": null,
   "id": "fd5bcabb",
   "metadata": {},
   "outputs": [],
   "source": [
    "# Reorder the columns\n",
    "Reordered_Top_usb_over_100 = df_Top_usb_over_100[[\n",
    "    \"product_id\", \"product_name\", \"category\", \"actual_price\", \"discounted_price\",\n",
    "    \"discount_percentage\", \"rating\", \"review_title\", \"review_content\",\"rating_count\"\n",
    "]]\n",
    "\n",
    "# Print the first 10 rows of the DataFrame\n",
    "print(\"The Top 10 USB Cables which has discounted price greater than equal to 100 and have ratings greater than equal to 4 are following:\")\n",
    "Reordered_Top_usb_over_100.head(10)"
   ]
  },
  {
   "cell_type": "code",
   "execution_count": null,
   "id": "64407588",
   "metadata": {},
   "outputs": [],
   "source": [
    "import matplotlib.pyplot as plt\n",
    "import pandas as pd"
   ]
  },
  {
   "cell_type": "code",
   "execution_count": null,
   "id": "1949b508",
   "metadata": {},
   "outputs": [],
   "source": [
    "#Creating a Dataframe for the discount_percentage between top usb over 100 rupees\n",
    "data = {\n",
    "    \"product_id\": [\"B084MZXJNK\", \"B086JTMRYL\", \"B084N133Y7\", \"B084N1BM9L\", \"B082T6GXS5\", \"B084MZXJN6\", \"B09W5XR9RT\", \"B09C6HWG18\", \"B09W5XR9RT\", \"B09W5XR9RT\"],\n",
    "    \"discount_percentage\": [0.20, 0.20, 0.25, 0.35, 0.52, 0.41, 0.51, 0.51, 0.51, 0.51]\n",
    "}\n",
    "\n",
    "df = pd.DataFrame(data)\n",
    "\n",
    "# Define discount ranges\n",
    "discount_ranges = [\"0-20%\", \"21-40%\", \"41-60%\", \"61-80%\"]\n",
    "discount_counts = [0, 0, 0, 0]  # Initialize count for each range\n",
    "\n",
    "# Categorize each product into a discount range\n",
    "for discount in df[\"discount_percentage\"]:\n",
    "    if discount <= 0.20:\n",
    "        discount_counts[0] += 1\n",
    "    elif discount <= 0.40:\n",
    "        discount_counts[1] += 1\n",
    "    elif discount <= 0.60:\n",
    "        discount_counts[2] += 1\n",
    "    else:\n",
    "        discount_counts[3] += 1\n",
    "\n",
    "# Generate pie chart\n",
    "# Generate pie chart\n",
    "plt.figure(figsize=(8, 8))\n",
    "pie_wedges = plt.pie(discount_counts, labels=discount_ranges, autopct='%1.1f%%', startangle=140)\n",
    "plt.title('Distribution of Products by Discount Percentage Ranges')\n",
    "\n",
    "# Add a legend\n",
    "plt.legend(pie_wedges[0], discount_ranges, title=\"Discount Ranges\", loc=\"best\")\n",
    "\n",
    "plt.show()"
   ]
  },
  {
   "cell_type": "code",
   "execution_count": null,
   "id": "b0b637c6",
   "metadata": {},
   "outputs": [],
   "source": [
    "#   Create a query that finds all USB cables in the 'amazon' collection greater than equal to 100 rupees having rating score greater than equal to 4\n",
    "# Filter results by name\n",
    "query = {'category': 'ComputersAccessoriesAccessoriesPeripheralsCablesAccessoriesCablesUSBCables',\n",
    "        'discounted_price': {'$gte': 100}, 'rating':{'$gte':4}}\n",
    "\n",
    "# Display the 'category', 'actual_price' and 'discounted_price' fields\n",
    "fields = {'category' :1, 'product_id':1, 'product_name': 1 , 'discounted_price': 1, 'discount_percentage':1,'actual_price': 1, \"rating\":1,\"review_title\":1, \"review_content\":1, \"rating_count\":1}\n",
    "\n",
    "# sort in descending order by \n",
    "sort = [('discounted_price', -1),('actual_price', -1), ('rating', -1)]\n",
    "\n",
    "# limit the results to the first 10\n",
    "#limit = 10\n",
    "\n",
    "# Pretty print the results\n",
    "pprint(list(amazon.find(query, fields).sort(sort)))\n"
   ]
  },
  {
   "cell_type": "code",
   "execution_count": null,
   "id": "e3c69cd4",
   "metadata": {},
   "outputs": [],
   "source": [
    "#  Create a query that finds all USB cables in the 'amazon' collection\n",
    "# Filter results by name\n",
    "query = {'category': 'ComputersAccessoriesAccessoriesPeripheralsCablesAccessoriesCablesUSBCables'}\n",
    "\n",
    "# Capture the results to a variable\n",
    "results1 = amazon.find(query)\n",
    "\n",
    "## Pretty print the results\n",
    "pprint(results1)\n",
    "\n",
    "#displaying results1\n",
    "for i in results1:\n",
    "    print(i)"
   ]
  },
  {
   "cell_type": "code",
   "execution_count": null,
   "id": "e9a4cf01",
   "metadata": {},
   "outputs": [],
   "source": [
    " #Build the aggregation pipeline\n",
    "\n",
    "# Write an aggregation query that counts the number of documents, grouped by \"Country\", then \"classification\"\n",
    "group_query = {\n",
    "    '$group': {\n",
    "        '_id': {\"category\": \"$category\"},\n",
    "        'count': {'$sum': 1}\n",
    "    }\n",
    "}\n",
    "\n",
    "# #match_query = {\n",
    "#     '$match': {'count': {'$gte': 5}}\n",
    "# }\n",
    "\n",
    "sort_values = {\n",
    "    '$sort': {'_id.category': 1, 'count': -1}\n",
    "}\n",
    "\n",
    "pipeline = [group_query,  sort_values]"
   ]
  },
  {
   "cell_type": "code",
   "execution_count": null,
   "id": "f4ed2816",
   "metadata": {},
   "outputs": [],
   "source": [
    "# Run the pipeline through the aggregate method, cast the results as a list, and save the results to a variable\n",
    "results3 = list(amazon.aggregate(pipeline))"
   ]
  },
  {
   "cell_type": "code",
   "execution_count": null,
   "id": "c4bc1b45",
   "metadata": {},
   "outputs": [],
   "source": [
    "# Print the number of rows in the result\n",
    "print(\"Number of rows in result: \", len(results3))"
   ]
  }
 ],
 "metadata": {
  "kernelspec": {
   "display_name": "Python 3 (ipykernel)",
   "language": "python",
   "name": "python3"
  },
  "language_info": {
   "codemirror_mode": {
    "name": "ipython",
    "version": 3
   },
   "file_extension": ".py",
   "mimetype": "text/x-python",
   "name": "python",
   "nbconvert_exporter": "python",
   "pygments_lexer": "ipython3",
   "version": "3.11.4"
  }
 },
 "nbformat": 4,
 "nbformat_minor": 5
}
