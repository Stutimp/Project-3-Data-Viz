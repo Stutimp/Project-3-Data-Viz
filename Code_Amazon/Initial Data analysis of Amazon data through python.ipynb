{
 "cells": [
  {
   "cell_type": "markdown",
   "id": "c90413b1",
   "metadata": {},
   "source": [
    "## Analysis"
   ]
  },
  {
   "cell_type": "code",
   "execution_count": 1,
   "id": "55887fa9",
   "metadata": {},
   "outputs": [],
   "source": [
    "# Dependencies and Setup\n",
    "import matplotlib.pyplot as plt\n",
    "import pandas as pd\n",
    "import numpy as np\n",
    "%matplotlib inline\n",
    "import warnings\n",
    "warnings.filterwarnings('ignore')"
   ]
  },
  {
   "cell_type": "code",
   "execution_count": 2,
   "id": "ad2a47d7",
   "metadata": {},
   "outputs": [],
   "source": [
    "# Study data files\n",
    "AMAZON_PATH = \"../Resources/amazonCopy.csv\""
   ]
  },
  {
   "cell_type": "code",
   "execution_count": 3,
   "id": "b5324baf",
   "metadata": {},
   "outputs": [],
   "source": [
    "# Read the Amazon data and the study results\n",
    "Amazon_data = pd.read_csv(AMAZON_PATH, encoding=\"utf-8\")"
   ]
  },
  {
   "cell_type": "code",
   "execution_count": 4,
   "id": "6389e36a",
   "metadata": {},
   "outputs": [
    {
     "data": {
      "text/html": [
       "<div>\n",
       "<style scoped>\n",
       "    .dataframe tbody tr th:only-of-type {\n",
       "        vertical-align: middle;\n",
       "    }\n",
       "\n",
       "    .dataframe tbody tr th {\n",
       "        vertical-align: top;\n",
       "    }\n",
       "\n",
       "    .dataframe thead th {\n",
       "        text-align: right;\n",
       "    }\n",
       "</style>\n",
       "<table border=\"1\" class=\"dataframe\">\n",
       "  <thead>\n",
       "    <tr style=\"text-align: right;\">\n",
       "      <th></th>\n",
       "      <th>product_id</th>\n",
       "      <th>product_name</th>\n",
       "      <th>category</th>\n",
       "      <th>discounted_price</th>\n",
       "      <th>actual_price</th>\n",
       "      <th>discount_percentage</th>\n",
       "      <th>rating</th>\n",
       "      <th>rating_count</th>\n",
       "      <th>about_product</th>\n",
       "      <th>user_id</th>\n",
       "      <th>user_name</th>\n",
       "      <th>review_id</th>\n",
       "      <th>review_title</th>\n",
       "      <th>review_content</th>\n",
       "      <th>img_link</th>\n",
       "      <th>product_link</th>\n",
       "    </tr>\n",
       "  </thead>\n",
       "  <tbody>\n",
       "    <tr>\n",
       "      <th>0</th>\n",
       "      <td>B07JW9H4J1</td>\n",
       "      <td>Wayona Nylon Braided USB to Lightning Fast Cha...</td>\n",
       "      <td>Computers&amp;Accessories|Accessories&amp;Peripherals|...</td>\n",
       "      <td>₹399</td>\n",
       "      <td>₹1,099</td>\n",
       "      <td>64%</td>\n",
       "      <td>4.2</td>\n",
       "      <td>24,269</td>\n",
       "      <td>High Compatibility : Compatible With iPhone 12...</td>\n",
       "      <td>AG3D6O4STAQKAY2UVGEUV46KN35Q,AHMY5CWJMMK5BJRBB...</td>\n",
       "      <td>Manav,Adarsh gupta,Sundeep,S.Sayeed Ahmed,jasp...</td>\n",
       "      <td>R3HXWT0LRP0NMF,R2AJM3LFTLZHFO,R6AQJGUP6P86,R1K...</td>\n",
       "      <td>Satisfied,Charging is really fast,Value for mo...</td>\n",
       "      <td>Looks durable Charging is fine tooNo complains...</td>\n",
       "      <td>https://m.media-amazon.com/images/W/WEBP_40237...</td>\n",
       "      <td>https://www.amazon.in/Wayona-Braided-WN3LG1-Sy...</td>\n",
       "    </tr>\n",
       "    <tr>\n",
       "      <th>1</th>\n",
       "      <td>B098NS6PVG</td>\n",
       "      <td>Ambrane Unbreakable 60W / 3A Fast Charging 1.5...</td>\n",
       "      <td>Computers&amp;Accessories|Accessories&amp;Peripherals|...</td>\n",
       "      <td>₹199</td>\n",
       "      <td>₹349</td>\n",
       "      <td>43%</td>\n",
       "      <td>4</td>\n",
       "      <td>43,994</td>\n",
       "      <td>Compatible with all Type C enabled devices, be...</td>\n",
       "      <td>AECPFYFQVRUWC3KGNLJIOREFP5LQ,AGYYVPDD7YG7FYNBX...</td>\n",
       "      <td>ArdKn,Nirbhay kumar,Sagar Viswanathan,Asp,Plac...</td>\n",
       "      <td>RGIQEG07R9HS2,R1SMWZQ86XIN8U,R2J3Y1WL29GWDE,RY...</td>\n",
       "      <td>A Good Braided Cable for Your Type C Device,Go...</td>\n",
       "      <td>I ordered this cable to connect my phone to An...</td>\n",
       "      <td>https://m.media-amazon.com/images/W/WEBP_40237...</td>\n",
       "      <td>https://www.amazon.in/Ambrane-Unbreakable-Char...</td>\n",
       "    </tr>\n",
       "    <tr>\n",
       "      <th>2</th>\n",
       "      <td>B096MSW6CT</td>\n",
       "      <td>Sounce Fast Phone Charging Cable &amp; Data Sync U...</td>\n",
       "      <td>Computers&amp;Accessories|Accessories&amp;Peripherals|...</td>\n",
       "      <td>₹199</td>\n",
       "      <td>₹1,899</td>\n",
       "      <td>90%</td>\n",
       "      <td>3.9</td>\n",
       "      <td>7,928</td>\n",
       "      <td>【 Fast Charger&amp; Data Sync】-With built-in safet...</td>\n",
       "      <td>AGU3BBQ2V2DDAMOAKGFAWDDQ6QHA,AESFLDV2PT363T2AQ...</td>\n",
       "      <td>Kunal,Himanshu,viswanath,sai niharka,saqib mal...</td>\n",
       "      <td>R3J3EQQ9TZI5ZJ,R3E7WBGK7ID0KV,RWU79XKQ6I1QF,R2...</td>\n",
       "      <td>Good speed for earlier versions,Good Product,W...</td>\n",
       "      <td>Not quite durable and sturdy,https://m.media-a...</td>\n",
       "      <td>https://m.media-amazon.com/images/W/WEBP_40237...</td>\n",
       "      <td>https://www.amazon.in/Sounce-iPhone-Charging-C...</td>\n",
       "    </tr>\n",
       "    <tr>\n",
       "      <th>3</th>\n",
       "      <td>B08HDJ86NZ</td>\n",
       "      <td>boAt Deuce USB 300 2 in 1 Type-C &amp; Micro USB S...</td>\n",
       "      <td>Computers&amp;Accessories|Accessories&amp;Peripherals|...</td>\n",
       "      <td>₹329</td>\n",
       "      <td>₹699</td>\n",
       "      <td>53%</td>\n",
       "      <td>4.2</td>\n",
       "      <td>94,363</td>\n",
       "      <td>The boAt Deuce USB 300 2 in 1 cable is compati...</td>\n",
       "      <td>AEWAZDZZJLQUYVOVGBEUKSLXHQ5A,AG5HTSFRRE6NL3M5S...</td>\n",
       "      <td>Omkar dhale,JD,HEMALATHA,Ajwadh a.,amar singh ...</td>\n",
       "      <td>R3EEUZKKK9J36I,R3HJVYCLYOY554,REDECAZ7AMPQC,R1...</td>\n",
       "      <td>Good product,Good one,Nice,Really nice product...</td>\n",
       "      <td>Good product,long wire,Charges good,Nice,I bou...</td>\n",
       "      <td>https://m.media-amazon.com/images/I/41V5FtEWPk...</td>\n",
       "      <td>https://www.amazon.in/Deuce-300-Resistant-Tang...</td>\n",
       "    </tr>\n",
       "    <tr>\n",
       "      <th>4</th>\n",
       "      <td>B08CF3B7N1</td>\n",
       "      <td>Portronics Konnect L 1.2M Fast Charging 3A 8 P...</td>\n",
       "      <td>Computers&amp;Accessories|Accessories&amp;Peripherals|...</td>\n",
       "      <td>₹154</td>\n",
       "      <td>₹399</td>\n",
       "      <td>61%</td>\n",
       "      <td>4.2</td>\n",
       "      <td>16,905</td>\n",
       "      <td>[CHARGE &amp; SYNC FUNCTION]- This cable comes wit...</td>\n",
       "      <td>AE3Q6KSUK5P75D5HFYHCRAOLODSA,AFUGIFH5ZAFXRDSZH...</td>\n",
       "      <td>rahuls6099,Swasat Borah,Ajay Wadke,Pranali,RVK...</td>\n",
       "      <td>R1BP4L2HH9TFUP,R16PVJEXKV6QZS,R2UPDB81N66T4P,R...</td>\n",
       "      <td>As good as original,Decent,Good one for second...</td>\n",
       "      <td>Bought this instead of original apple, does th...</td>\n",
       "      <td>https://m.media-amazon.com/images/W/WEBP_40237...</td>\n",
       "      <td>https://www.amazon.in/Portronics-Konnect-POR-1...</td>\n",
       "    </tr>\n",
       "  </tbody>\n",
       "</table>\n",
       "</div>"
      ],
      "text/plain": [
       "   product_id                                       product_name  \\\n",
       "0  B07JW9H4J1  Wayona Nylon Braided USB to Lightning Fast Cha...   \n",
       "1  B098NS6PVG  Ambrane Unbreakable 60W / 3A Fast Charging 1.5...   \n",
       "2  B096MSW6CT  Sounce Fast Phone Charging Cable & Data Sync U...   \n",
       "3  B08HDJ86NZ  boAt Deuce USB 300 2 in 1 Type-C & Micro USB S...   \n",
       "4  B08CF3B7N1  Portronics Konnect L 1.2M Fast Charging 3A 8 P...   \n",
       "\n",
       "                                            category discounted_price  \\\n",
       "0  Computers&Accessories|Accessories&Peripherals|...             ₹399   \n",
       "1  Computers&Accessories|Accessories&Peripherals|...             ₹199   \n",
       "2  Computers&Accessories|Accessories&Peripherals|...             ₹199   \n",
       "3  Computers&Accessories|Accessories&Peripherals|...             ₹329   \n",
       "4  Computers&Accessories|Accessories&Peripherals|...             ₹154   \n",
       "\n",
       "  actual_price discount_percentage rating rating_count  \\\n",
       "0       ₹1,099                 64%    4.2       24,269   \n",
       "1         ₹349                 43%      4       43,994   \n",
       "2       ₹1,899                 90%    3.9        7,928   \n",
       "3         ₹699                 53%    4.2       94,363   \n",
       "4         ₹399                 61%    4.2       16,905   \n",
       "\n",
       "                                       about_product  \\\n",
       "0  High Compatibility : Compatible With iPhone 12...   \n",
       "1  Compatible with all Type C enabled devices, be...   \n",
       "2  【 Fast Charger& Data Sync】-With built-in safet...   \n",
       "3  The boAt Deuce USB 300 2 in 1 cable is compati...   \n",
       "4  [CHARGE & SYNC FUNCTION]- This cable comes wit...   \n",
       "\n",
       "                                             user_id  \\\n",
       "0  AG3D6O4STAQKAY2UVGEUV46KN35Q,AHMY5CWJMMK5BJRBB...   \n",
       "1  AECPFYFQVRUWC3KGNLJIOREFP5LQ,AGYYVPDD7YG7FYNBX...   \n",
       "2  AGU3BBQ2V2DDAMOAKGFAWDDQ6QHA,AESFLDV2PT363T2AQ...   \n",
       "3  AEWAZDZZJLQUYVOVGBEUKSLXHQ5A,AG5HTSFRRE6NL3M5S...   \n",
       "4  AE3Q6KSUK5P75D5HFYHCRAOLODSA,AFUGIFH5ZAFXRDSZH...   \n",
       "\n",
       "                                           user_name  \\\n",
       "0  Manav,Adarsh gupta,Sundeep,S.Sayeed Ahmed,jasp...   \n",
       "1  ArdKn,Nirbhay kumar,Sagar Viswanathan,Asp,Plac...   \n",
       "2  Kunal,Himanshu,viswanath,sai niharka,saqib mal...   \n",
       "3  Omkar dhale,JD,HEMALATHA,Ajwadh a.,amar singh ...   \n",
       "4  rahuls6099,Swasat Borah,Ajay Wadke,Pranali,RVK...   \n",
       "\n",
       "                                           review_id  \\\n",
       "0  R3HXWT0LRP0NMF,R2AJM3LFTLZHFO,R6AQJGUP6P86,R1K...   \n",
       "1  RGIQEG07R9HS2,R1SMWZQ86XIN8U,R2J3Y1WL29GWDE,RY...   \n",
       "2  R3J3EQQ9TZI5ZJ,R3E7WBGK7ID0KV,RWU79XKQ6I1QF,R2...   \n",
       "3  R3EEUZKKK9J36I,R3HJVYCLYOY554,REDECAZ7AMPQC,R1...   \n",
       "4  R1BP4L2HH9TFUP,R16PVJEXKV6QZS,R2UPDB81N66T4P,R...   \n",
       "\n",
       "                                        review_title  \\\n",
       "0  Satisfied,Charging is really fast,Value for mo...   \n",
       "1  A Good Braided Cable for Your Type C Device,Go...   \n",
       "2  Good speed for earlier versions,Good Product,W...   \n",
       "3  Good product,Good one,Nice,Really nice product...   \n",
       "4  As good as original,Decent,Good one for second...   \n",
       "\n",
       "                                      review_content  \\\n",
       "0  Looks durable Charging is fine tooNo complains...   \n",
       "1  I ordered this cable to connect my phone to An...   \n",
       "2  Not quite durable and sturdy,https://m.media-a...   \n",
       "3  Good product,long wire,Charges good,Nice,I bou...   \n",
       "4  Bought this instead of original apple, does th...   \n",
       "\n",
       "                                            img_link  \\\n",
       "0  https://m.media-amazon.com/images/W/WEBP_40237...   \n",
       "1  https://m.media-amazon.com/images/W/WEBP_40237...   \n",
       "2  https://m.media-amazon.com/images/W/WEBP_40237...   \n",
       "3  https://m.media-amazon.com/images/I/41V5FtEWPk...   \n",
       "4  https://m.media-amazon.com/images/W/WEBP_40237...   \n",
       "\n",
       "                                        product_link  \n",
       "0  https://www.amazon.in/Wayona-Braided-WN3LG1-Sy...  \n",
       "1  https://www.amazon.in/Ambrane-Unbreakable-Char...  \n",
       "2  https://www.amazon.in/Sounce-iPhone-Charging-C...  \n",
       "3  https://www.amazon.in/Deuce-300-Resistant-Tang...  \n",
       "4  https://www.amazon.in/Portronics-Konnect-POR-1...  "
      ]
     },
     "execution_count": 4,
     "metadata": {},
     "output_type": "execute_result"
    }
   ],
   "source": [
    "#checking our dataset\n",
    "Amazon_data.head(5)"
   ]
  },
  {
   "cell_type": "code",
   "execution_count": 5,
   "id": "ec957d93",
   "metadata": {},
   "outputs": [
    {
     "data": {
      "text/plain": [
       "(1465, 16)"
      ]
     },
     "execution_count": 5,
     "metadata": {},
     "output_type": "execute_result"
    }
   ],
   "source": [
    "Amazon_data.shape"
   ]
  },
  {
   "cell_type": "code",
   "execution_count": 6,
   "id": "5593dbee",
   "metadata": {},
   "outputs": [
    {
     "data": {
      "text/plain": [
       "product_id             1351\n",
       "product_name           1337\n",
       "category                211\n",
       "discounted_price        550\n",
       "actual_price            449\n",
       "discount_percentage      92\n",
       "rating                   26\n",
       "rating_count           1143\n",
       "about_product          1293\n",
       "user_id                1194\n",
       "user_name              1194\n",
       "review_id              1194\n",
       "review_title           1194\n",
       "review_content         1212\n",
       "img_link               1412\n",
       "product_link           1465\n",
       "dtype: int64"
      ]
     },
     "execution_count": 6,
     "metadata": {},
     "output_type": "execute_result"
    }
   ],
   "source": [
    "Amazon_data.nunique()"
   ]
  },
  {
   "cell_type": "code",
   "execution_count": 7,
   "id": "ffa95b29",
   "metadata": {},
   "outputs": [
    {
     "data": {
      "text/plain": [
       "product_id             object\n",
       "product_name           object\n",
       "category               object\n",
       "discounted_price       object\n",
       "actual_price           object\n",
       "discount_percentage    object\n",
       "rating                 object\n",
       "rating_count           object\n",
       "about_product          object\n",
       "user_id                object\n",
       "user_name              object\n",
       "review_id              object\n",
       "review_title           object\n",
       "review_content         object\n",
       "img_link               object\n",
       "product_link           object\n",
       "dtype: object"
      ]
     },
     "execution_count": 7,
     "metadata": {},
     "output_type": "execute_result"
    }
   ],
   "source": [
    "Amazon_data.dtypes"
   ]
  },
  {
   "cell_type": "code",
   "execution_count": 8,
   "id": "723f6fe4",
   "metadata": {},
   "outputs": [
    {
     "name": "stdout",
     "output_type": "stream",
     "text": [
      "<class 'pandas.core.frame.DataFrame'>\n",
      "RangeIndex: 1465 entries, 0 to 1464\n",
      "Data columns (total 16 columns):\n",
      " #   Column               Non-Null Count  Dtype \n",
      "---  ------               --------------  ----- \n",
      " 0   product_id           1465 non-null   object\n",
      " 1   product_name         1465 non-null   object\n",
      " 2   category             1465 non-null   object\n",
      " 3   discounted_price     1465 non-null   object\n",
      " 4   actual_price         1465 non-null   object\n",
      " 5   discount_percentage  1465 non-null   object\n",
      " 6   rating               1465 non-null   object\n",
      " 7   rating_count         1463 non-null   object\n",
      " 8   about_product        1465 non-null   object\n",
      " 9   user_id              1465 non-null   object\n",
      " 10  user_name            1465 non-null   object\n",
      " 11  review_id            1465 non-null   object\n",
      " 12  review_title         1465 non-null   object\n",
      " 13  review_content       1465 non-null   object\n",
      " 14  img_link             1465 non-null   object\n",
      " 15  product_link         1465 non-null   object\n",
      "dtypes: object(16)\n",
      "memory usage: 183.2+ KB\n"
     ]
    }
   ],
   "source": [
    "Amazon_data.info()"
   ]
  },
  {
   "cell_type": "code",
   "execution_count": 9,
   "id": "ebf26ebb",
   "metadata": {
    "scrolled": true
   },
   "outputs": [],
   "source": [
    "# changing the data types of discounted_price, actual_price, discount_percentage, and rating_count.\n",
    "#Amazon_data[\"discounted_price\"] = pd.to_numeric(Amazon_data[\"discounted_price\"])\n",
    "# First Remove the Rupee symbol and any other non-numeric characters except the decimal point\n",
    "Amazon_data[\"discounted_price\"] = Amazon_data[\"discounted_price\"].str.replace('₹', '').str.replace(',', '')\n",
    "Amazon_data[\"actual_price\"] = Amazon_data[\"actual_price\"].str.replace('₹', '').str.replace(',', '')\n",
    "Amazon_data[\"rating_count\"] = Amazon_data[\"rating_count\"].str.replace(',', '')\n",
    "Amazon_data[\"rating\"] = Amazon_data[\"rating\"].str.replace(',', '')\n",
    "\n",
    "\n",
    "# Convert the columns to numeric, coercing errors to NaN (in case there are any non-numeric values left)\n",
    "Amazon_data[\"discounted_price\"] = pd.to_numeric(Amazon_data[\"discounted_price\"], errors='coerce')\n",
    "Amazon_data[\"actual_price\"] = pd.to_numeric(Amazon_data[\"actual_price\"], errors='coerce')\n",
    "Amazon_data[\"rating_count\"] = pd.to_numeric(Amazon_data[\"rating_count\"], errors='coerce')\n",
    "Amazon_data[\"rating\"] = pd.to_numeric(Amazon_data[\"rating\"], errors='coerce')"
   ]
  },
  {
   "cell_type": "code",
   "execution_count": 10,
   "id": "f4662841",
   "metadata": {},
   "outputs": [],
   "source": [
    "# Remove the percent sign from the 'discount_percentage' column\n",
    "Amazon_data['discount_percentage'] = Amazon_data['discount_percentage'].str.replace('%', '')\n",
    "\n",
    "# Convert the 'discount_percentage' column to numeric, coercing errors to NaN\n",
    "Amazon_data['discount_percentage'] = pd.to_numeric(Amazon_data['discount_percentage'], errors='coerce')\n",
    "\n",
    "# convert the percentages to a fraction \n",
    "Amazon_data['discount_percentage'] = Amazon_data['discount_percentage'] / 100\n"
   ]
  },
  {
   "cell_type": "code",
   "execution_count": 11,
   "id": "ddda48e6",
   "metadata": {
    "scrolled": true
   },
   "outputs": [
    {
     "name": "stdout",
     "output_type": "stream",
     "text": [
      "<class 'pandas.core.frame.DataFrame'>\n",
      "RangeIndex: 1465 entries, 0 to 1464\n",
      "Data columns (total 16 columns):\n",
      " #   Column               Non-Null Count  Dtype  \n",
      "---  ------               --------------  -----  \n",
      " 0   product_id           1465 non-null   object \n",
      " 1   product_name         1465 non-null   object \n",
      " 2   category             1465 non-null   object \n",
      " 3   discounted_price     1465 non-null   float64\n",
      " 4   actual_price         1465 non-null   float64\n",
      " 5   discount_percentage  1465 non-null   float64\n",
      " 6   rating               1464 non-null   float64\n",
      " 7   rating_count         1463 non-null   float64\n",
      " 8   about_product        1465 non-null   object \n",
      " 9   user_id              1465 non-null   object \n",
      " 10  user_name            1465 non-null   object \n",
      " 11  review_id            1465 non-null   object \n",
      " 12  review_title         1465 non-null   object \n",
      " 13  review_content       1465 non-null   object \n",
      " 14  img_link             1465 non-null   object \n",
      " 15  product_link         1465 non-null   object \n",
      "dtypes: float64(5), object(11)\n",
      "memory usage: 183.2+ KB\n"
     ]
    }
   ],
   "source": [
    "Amazon_data.info()"
   ]
  },
  {
   "cell_type": "code",
   "execution_count": 12,
   "id": "1b437d0a",
   "metadata": {
    "scrolled": true
   },
   "outputs": [
    {
     "data": {
      "text/plain": [
       "product_id             0\n",
       "product_name           0\n",
       "category               0\n",
       "discounted_price       0\n",
       "actual_price           0\n",
       "discount_percentage    0\n",
       "rating                 1\n",
       "rating_count           2\n",
       "about_product          0\n",
       "user_id                0\n",
       "user_name              0\n",
       "review_id              0\n",
       "review_title           0\n",
       "review_content         0\n",
       "img_link               0\n",
       "product_link           0\n",
       "dtype: int64"
      ]
     },
     "execution_count": 12,
     "metadata": {},
     "output_type": "execute_result"
    }
   ],
   "source": [
    "#count the number of missing values (NaNs) in each column of the DataFrame \n",
    "Amazon_data.isna().sum()"
   ]
  },
  {
   "cell_type": "code",
   "execution_count": 13,
   "id": "43e335a7",
   "metadata": {},
   "outputs": [
    {
     "name": "stdout",
     "output_type": "stream",
     "text": [
      "(1462, 16)\n"
     ]
    },
    {
     "data": {
      "text/plain": [
       "product_id             0\n",
       "product_name           0\n",
       "category               0\n",
       "discounted_price       0\n",
       "actual_price           0\n",
       "discount_percentage    0\n",
       "rating                 0\n",
       "rating_count           0\n",
       "about_product          0\n",
       "user_id                0\n",
       "user_name              0\n",
       "review_id              0\n",
       "review_title           0\n",
       "review_content         0\n",
       "img_link               0\n",
       "product_link           0\n",
       "dtype: int64"
      ]
     },
     "execution_count": 13,
     "metadata": {},
     "output_type": "execute_result"
    }
   ],
   "source": [
    "# removing any rows in the DataFrame Amazon_data that contain missing values (NaNs) across any column\n",
    "#checking the dataset again\n",
    "Amazon_data.dropna(inplace = True)\n",
    "print(Amazon_data.shape)\n",
    "Amazon_data.isna().sum()"
   ]
  },
  {
   "cell_type": "code",
   "execution_count": 14,
   "id": "0fca5cb5",
   "metadata": {},
   "outputs": [],
   "source": [
    "#converting discounted_price, rating, and actual price to integer\n",
    "Amazon_data[\"discounted_price\"] = Amazon_data[\"discounted_price\"].astype(int)\n",
    "Amazon_data[\"actual_price\"] = Amazon_data[\"actual_price\"].astype(int)\n",
    "Amazon_data[\"rating\"] = Amazon_data[\"rating\"].astype(int)"
   ]
  },
  {
   "cell_type": "code",
   "execution_count": 15,
   "id": "3deeb0cb",
   "metadata": {},
   "outputs": [
    {
     "name": "stdout",
     "output_type": "stream",
     "text": [
      "<class 'pandas.core.frame.DataFrame'>\n",
      "Index: 1462 entries, 0 to 1464\n",
      "Data columns (total 16 columns):\n",
      " #   Column               Non-Null Count  Dtype  \n",
      "---  ------               --------------  -----  \n",
      " 0   product_id           1462 non-null   object \n",
      " 1   product_name         1462 non-null   object \n",
      " 2   category             1462 non-null   object \n",
      " 3   discounted_price     1462 non-null   int32  \n",
      " 4   actual_price         1462 non-null   int32  \n",
      " 5   discount_percentage  1462 non-null   float64\n",
      " 6   rating               1462 non-null   int32  \n",
      " 7   rating_count         1462 non-null   float64\n",
      " 8   about_product        1462 non-null   object \n",
      " 9   user_id              1462 non-null   object \n",
      " 10  user_name            1462 non-null   object \n",
      " 11  review_id            1462 non-null   object \n",
      " 12  review_title         1462 non-null   object \n",
      " 13  review_content       1462 non-null   object \n",
      " 14  img_link             1462 non-null   object \n",
      " 15  product_link         1462 non-null   object \n",
      "dtypes: float64(2), int32(3), object(11)\n",
      "memory usage: 177.0+ KB\n"
     ]
    }
   ],
   "source": [
    "Amazon_data.info()"
   ]
  },
  {
   "cell_type": "code",
   "execution_count": 16,
   "id": "9dcefa6c",
   "metadata": {
    "scrolled": true
   },
   "outputs": [
    {
     "data": {
      "text/plain": [
       "product_id             1348\n",
       "product_name           1334\n",
       "category                211\n",
       "discounted_price        549\n",
       "actual_price            449\n",
       "discount_percentage      92\n",
       "rating                    4\n",
       "rating_count           1142\n",
       "about_product          1290\n",
       "user_id                1191\n",
       "user_name              1191\n",
       "review_id              1191\n",
       "review_title           1191\n",
       "review_content         1209\n",
       "img_link               1409\n",
       "product_link           1462\n",
       "dtype: int64"
      ]
     },
     "execution_count": 16,
     "metadata": {},
     "output_type": "execute_result"
    }
   ],
   "source": [
    "Amazon_data.nunique()"
   ]
  },
  {
   "cell_type": "code",
   "execution_count": 17,
   "id": "2c4ce53f",
   "metadata": {},
   "outputs": [],
   "source": [
    "# removing duplicate rows from a DataFrame \n",
    "Amazon_data.drop_duplicates(inplace =True)"
   ]
  },
  {
   "cell_type": "code",
   "execution_count": 18,
   "id": "63020e3a",
   "metadata": {},
   "outputs": [
    {
     "name": "stdout",
     "output_type": "stream",
     "text": [
      "<class 'pandas.core.frame.DataFrame'>\n",
      "Index: 1462 entries, 0 to 1464\n",
      "Data columns (total 16 columns):\n",
      " #   Column               Non-Null Count  Dtype  \n",
      "---  ------               --------------  -----  \n",
      " 0   product_id           1462 non-null   object \n",
      " 1   product_name         1462 non-null   object \n",
      " 2   category             1462 non-null   object \n",
      " 3   discounted_price     1462 non-null   int32  \n",
      " 4   actual_price         1462 non-null   int32  \n",
      " 5   discount_percentage  1462 non-null   float64\n",
      " 6   rating               1462 non-null   int32  \n",
      " 7   rating_count         1462 non-null   float64\n",
      " 8   about_product        1462 non-null   object \n",
      " 9   user_id              1462 non-null   object \n",
      " 10  user_name            1462 non-null   object \n",
      " 11  review_id            1462 non-null   object \n",
      " 12  review_title         1462 non-null   object \n",
      " 13  review_content       1462 non-null   object \n",
      " 14  img_link             1462 non-null   object \n",
      " 15  product_link         1462 non-null   object \n",
      "dtypes: float64(2), int32(3), object(11)\n",
      "memory usage: 177.0+ KB\n"
     ]
    }
   ],
   "source": [
    "#checking the dataset again\n",
    "Amazon_data.info()"
   ]
  },
  {
   "cell_type": "code",
   "execution_count": 19,
   "id": "89f35589",
   "metadata": {},
   "outputs": [
    {
     "data": {
      "text/plain": [
       "0    Computers&Accessories|Accessories&Peripherals|...\n",
       "1    Computers&Accessories|Accessories&Peripherals|...\n",
       "2    Computers&Accessories|Accessories&Peripherals|...\n",
       "3    Computers&Accessories|Accessories&Peripherals|...\n",
       "4    Computers&Accessories|Accessories&Peripherals|...\n",
       "Name: category, dtype: object"
      ]
     },
     "execution_count": 19,
     "metadata": {},
     "output_type": "execute_result"
    }
   ],
   "source": [
    "#checking the category column\n",
    "Amazon_data[\"category\"].head(5)"
   ]
  },
  {
   "cell_type": "code",
   "execution_count": 20,
   "id": "b8a84c9d",
   "metadata": {},
   "outputs": [],
   "source": [
    "#Removing unneccesary strings ('|','&'') from 'category' column for the queries to make in MongoDB file\n",
    "Amazon_data[\"category\"] = Amazon_data[\"category\"].str.replace('|', '').str.replace('&', '')"
   ]
  },
  {
   "cell_type": "code",
   "execution_count": 21,
   "id": "2b846785",
   "metadata": {},
   "outputs": [
    {
     "data": {
      "text/plain": [
       "0    ComputersAccessoriesAccessoriesPeripheralsCabl...\n",
       "1    ComputersAccessoriesAccessoriesPeripheralsCabl...\n",
       "2    ComputersAccessoriesAccessoriesPeripheralsCabl...\n",
       "3    ComputersAccessoriesAccessoriesPeripheralsCabl...\n",
       "4    ComputersAccessoriesAccessoriesPeripheralsCabl...\n",
       "Name: category, dtype: object"
      ]
     },
     "execution_count": 21,
     "metadata": {},
     "output_type": "execute_result"
    }
   ],
   "source": [
    "#checking the output\n",
    "Amazon_data[\"category\"].head(5)"
   ]
  },
  {
   "cell_type": "code",
   "execution_count": 22,
   "id": "edacd8e2",
   "metadata": {},
   "outputs": [
    {
     "data": {
      "text/plain": [
       "211"
      ]
     },
     "execution_count": 22,
     "metadata": {},
     "output_type": "execute_result"
    }
   ],
   "source": [
    "#exploring some columns in the dataset\n",
    "Amazon_data[\"category\"].nunique()"
   ]
  },
  {
   "cell_type": "code",
   "execution_count": 23,
   "id": "d754576a",
   "metadata": {},
   "outputs": [
    {
     "data": {
      "text/plain": [
       "1334"
      ]
     },
     "execution_count": 23,
     "metadata": {},
     "output_type": "execute_result"
    }
   ],
   "source": [
    "Amazon_data[\"product_name\"].nunique()"
   ]
  },
  {
   "cell_type": "code",
   "execution_count": 24,
   "id": "bd0e05f1",
   "metadata": {},
   "outputs": [
    {
     "data": {
      "text/plain": [
       "1191"
      ]
     },
     "execution_count": 24,
     "metadata": {},
     "output_type": "execute_result"
    }
   ],
   "source": [
    "Amazon_data[\"user_id\"].nunique()"
   ]
  },
  {
   "cell_type": "code",
   "execution_count": 25,
   "id": "50819022",
   "metadata": {},
   "outputs": [
    {
     "data": {
      "text/plain": [
       "10"
      ]
     },
     "execution_count": 25,
     "metadata": {},
     "output_type": "execute_result"
    }
   ],
   "source": [
    "# Count the number of characters in each row of all columns in the dataframe\n",
    "max_length1 = Amazon_data[\"product_id\"].apply(len).max()\n",
    "max_length1"
   ]
  },
  {
   "cell_type": "code",
   "execution_count": 26,
   "id": "10d429ed",
   "metadata": {},
   "outputs": [
    {
     "data": {
      "text/plain": [
       "485"
      ]
     },
     "execution_count": 26,
     "metadata": {},
     "output_type": "execute_result"
    }
   ],
   "source": [
    "max_length2 = Amazon_data[\"product_name\"].apply(len).max()\n",
    "max_length2"
   ]
  },
  {
   "cell_type": "code",
   "execution_count": 27,
   "id": "24144dc0",
   "metadata": {},
   "outputs": [
    {
     "data": {
      "text/plain": [
       "110"
      ]
     },
     "execution_count": 27,
     "metadata": {},
     "output_type": "execute_result"
    }
   ],
   "source": [
    "max_length3 = Amazon_data[\"category\"].apply(len).max()\n",
    "max_length3"
   ]
  },
  {
   "cell_type": "code",
   "execution_count": 28,
   "id": "404e85ff",
   "metadata": {},
   "outputs": [
    {
     "data": {
      "text/plain": [
       "2646"
      ]
     },
     "execution_count": 28,
     "metadata": {},
     "output_type": "execute_result"
    }
   ],
   "source": [
    "max_length4 = Amazon_data[\"about_product\"].apply(len).max()\n",
    "max_length4"
   ]
  },
  {
   "cell_type": "code",
   "execution_count": 29,
   "id": "011da5dc",
   "metadata": {},
   "outputs": [
    {
     "data": {
      "text/plain": [
       "231"
      ]
     },
     "execution_count": 29,
     "metadata": {},
     "output_type": "execute_result"
    }
   ],
   "source": [
    "max_length5 = Amazon_data[\"user_id\"].apply(len).max()\n",
    "max_length5"
   ]
  },
  {
   "cell_type": "code",
   "execution_count": 30,
   "id": "66f48e5d",
   "metadata": {},
   "outputs": [
    {
     "data": {
      "text/plain": [
       "137"
      ]
     },
     "execution_count": 30,
     "metadata": {},
     "output_type": "execute_result"
    }
   ],
   "source": [
    "max_length6 = Amazon_data[\"user_name\"].apply(len).max()\n",
    "max_length6"
   ]
  },
  {
   "cell_type": "code",
   "execution_count": 31,
   "id": "73bc2b91",
   "metadata": {},
   "outputs": [
    {
     "data": {
      "text/plain": [
       "119"
      ]
     },
     "execution_count": 31,
     "metadata": {},
     "output_type": "execute_result"
    }
   ],
   "source": [
    "max_length7 = Amazon_data[\"review_id\"].apply(len).max()\n",
    "max_length7"
   ]
  },
  {
   "cell_type": "code",
   "execution_count": 32,
   "id": "8b7a890e",
   "metadata": {},
   "outputs": [
    {
     "data": {
      "text/plain": [
       "407"
      ]
     },
     "execution_count": 32,
     "metadata": {},
     "output_type": "execute_result"
    }
   ],
   "source": [
    "max_length8 = Amazon_data[\"review_title\"].apply(len).max()\n",
    "max_length8"
   ]
  },
  {
   "cell_type": "code",
   "execution_count": 33,
   "id": "9b584ba2",
   "metadata": {},
   "outputs": [
    {
     "data": {
      "text/plain": [
       "18547"
      ]
     },
     "execution_count": 33,
     "metadata": {},
     "output_type": "execute_result"
    }
   ],
   "source": [
    "max_length9 = Amazon_data[\"review_content\"].apply(len).max()\n",
    "max_length9"
   ]
  },
  {
   "cell_type": "code",
   "execution_count": 34,
   "id": "9e11a6ce",
   "metadata": {},
   "outputs": [
    {
     "data": {
      "text/plain": [
       "114"
      ]
     },
     "execution_count": 34,
     "metadata": {},
     "output_type": "execute_result"
    }
   ],
   "source": [
    "max_length10 = Amazon_data[\"img_link\"].apply(len).max()\n",
    "max_length10"
   ]
  },
  {
   "cell_type": "code",
   "execution_count": 35,
   "id": "c8de6e1f",
   "metadata": {},
   "outputs": [
    {
     "data": {
      "text/plain": [
       "188"
      ]
     },
     "execution_count": 35,
     "metadata": {},
     "output_type": "execute_result"
    }
   ],
   "source": [
    "max_length11 = Amazon_data[\"product_link\"].apply(len).max()\n",
    "max_length11"
   ]
  },
  {
   "cell_type": "code",
   "execution_count": 36,
   "id": "19be9d39",
   "metadata": {
    "scrolled": false
   },
   "outputs": [
    {
     "data": {
      "text/plain": [
       "Index(['product_id', 'product_name', 'category', 'discounted_price',\n",
       "       'actual_price', 'discount_percentage', 'rating', 'rating_count',\n",
       "       'about_product', 'user_id', 'user_name', 'review_id', 'review_title',\n",
       "       'review_content', 'img_link', 'product_link'],\n",
       "      dtype='object')"
      ]
     },
     "execution_count": 36,
     "metadata": {},
     "output_type": "execute_result"
    }
   ],
   "source": [
    "#checking the columns\n",
    "Amazon_data.columns"
   ]
  },
  {
   "cell_type": "code",
   "execution_count": 37,
   "id": "62e6e8d2",
   "metadata": {},
   "outputs": [
    {
     "data": {
      "text/plain": [
       "426973.0"
      ]
     },
     "execution_count": 37,
     "metadata": {},
     "output_type": "execute_result"
    }
   ],
   "source": [
    "#Find the maximum  rating counts\n",
    "max_counts = Amazon_data[\"rating_count\"].max()\n",
    "max_counts"
   ]
  },
  {
   "cell_type": "code",
   "execution_count": 38,
   "id": "24584289",
   "metadata": {
    "scrolled": true
   },
   "outputs": [
    {
     "data": {
      "text/plain": [
       "12"
      ]
     },
     "execution_count": 38,
     "metadata": {},
     "output_type": "execute_result"
    }
   ],
   "source": [
    "max_value_index = Amazon_data['rating_count'].idxmax()\n",
    "max_value_index"
   ]
  },
  {
   "cell_type": "code",
   "execution_count": 39,
   "id": "d466ea43",
   "metadata": {
    "scrolled": true
   },
   "outputs": [
    {
     "name": "stdout",
     "output_type": "stream",
     "text": [
      "Row with the highest value:\n",
      "product_id                                                    B07KSMBL2H\n",
      "product_name           AmazonBasics Flexible Premium HDMI Cable (Blac...\n",
      "category               ElectronicsHomeTheater,TVVideoAccessoriesCable...\n",
      "discounted_price                                                     219\n",
      "actual_price                                                         700\n",
      "discount_percentage                                                 0.69\n",
      "rating                                                                 4\n",
      "rating_count                                                    426973.0\n",
      "about_product          Flexible, lightweight HDMI cable for connectin...\n",
      "user_id                AEYJ5I6JZZPOJB6MGWRQOHRQLPSQ,AFY5TVFOMVHGBPBTI...\n",
      "user_name              Rishav Gossain,Shashank Mallamraju,Purnendu,gu...\n",
      "review_id              R1FKOKZ3HHKJBZ,R2WNMZI1EXTA0H,RCA1M3W4RIXUR,R3...\n",
      "review_title           It's quite good and value for money,Works well...\n",
      "review_content         I am using it for 14 days now. The experience ...\n",
      "img_link               https://m.media-amazon.com/images/I/41nPYaWA+M...\n",
      "product_link           https://www.amazon.in/AmazonBasics-Flexible-HD...\n",
      "Name: 12, dtype: object\n"
     ]
    }
   ],
   "source": [
    "row_with_highest_value = Amazon_data.loc[max_value_index]\n",
    "\n",
    "print(\"Row with the highest value:\")\n",
    "print(row_with_highest_value)"
   ]
  },
  {
   "cell_type": "code",
   "execution_count": 40,
   "id": "a1d49612",
   "metadata": {},
   "outputs": [
    {
     "name": "stdout",
     "output_type": "stream",
     "text": [
      "<class 'pandas.core.frame.DataFrame'>\n",
      "Index: 1462 entries, 0 to 1464\n",
      "Data columns (total 16 columns):\n",
      " #   Column               Non-Null Count  Dtype  \n",
      "---  ------               --------------  -----  \n",
      " 0   product_id           1462 non-null   object \n",
      " 1   product_name         1462 non-null   object \n",
      " 2   category             1462 non-null   object \n",
      " 3   discounted_price     1462 non-null   int32  \n",
      " 4   actual_price         1462 non-null   int32  \n",
      " 5   discount_percentage  1462 non-null   float64\n",
      " 6   rating               1462 non-null   int32  \n",
      " 7   rating_count         1462 non-null   float64\n",
      " 8   about_product        1462 non-null   object \n",
      " 9   user_id              1462 non-null   object \n",
      " 10  user_name            1462 non-null   object \n",
      " 11  review_id            1462 non-null   object \n",
      " 12  review_title         1462 non-null   object \n",
      " 13  review_content       1462 non-null   object \n",
      " 14  img_link             1462 non-null   object \n",
      " 15  product_link         1462 non-null   object \n",
      "dtypes: float64(2), int32(3), object(11)\n",
      "memory usage: 209.3+ KB\n"
     ]
    }
   ],
   "source": [
    "#Checking the dataset again\n",
    "Amazon_data.info()"
   ]
  },
  {
   "cell_type": "code",
   "execution_count": 41,
   "id": "48241dfc",
   "metadata": {},
   "outputs": [
    {
     "data": {
      "text/plain": [
       "array(['ComputersAccessoriesAccessoriesPeripheralsCablesAccessoriesCablesUSBCables',\n",
       "       'ComputersAccessoriesNetworkingDevicesNetworkAdaptersWirelessUSBAdapters',\n",
       "       'ElectronicsHomeTheater,TVVideoAccessoriesCablesHDMICables',\n",
       "       'ElectronicsHomeTheater,TVVideoTelevisionsSmartTelevisions',\n",
       "       'ElectronicsHomeTheater,TVVideoAccessoriesRemoteControls',\n",
       "       'ElectronicsHomeTheater,TVVideoTelevisionsStandardTelevisions',\n",
       "       'ElectronicsHomeTheater,TVVideoAccessoriesTVMounts,StandsTurntablesTVWallCeilingMounts',\n",
       "       'ElectronicsHomeTheater,TVVideoAccessoriesCablesRCACables',\n",
       "       'ElectronicsHomeAudioAccessoriesSpeakerAccessoriesMounts',\n",
       "       'ElectronicsHomeTheater,TVVideoAccessoriesCablesOpticalCables',\n",
       "       'ElectronicsHomeTheater,TVVideoProjectors',\n",
       "       'ElectronicsHomeAudioAccessoriesAdapters',\n",
       "       'ElectronicsHomeTheater,TVVideoSatelliteEquipmentSatelliteReceivers',\n",
       "       'ComputersAccessoriesAccessoriesPeripheralsCablesAccessoriesCablesDVICables',\n",
       "       'ElectronicsHomeTheater,TVVideoAccessoriesCablesSpeakerCables',\n",
       "       'ElectronicsHomeAudioMediaStreamingDevicesStreamingClients',\n",
       "       'ElectronicsHomeTheater,TVVideoAVReceiversAmplifiers',\n",
       "       'ElectronicsHomeAudioSpeakersTowerSpeakers',\n",
       "       'ElectronicsHomeTheater,TVVideoAccessories3DGlasses',\n",
       "       'ElectronicsWearableTechnologySmartWatches',\n",
       "       'ElectronicsMobilesAccessoriesMobileAccessoriesChargersPowerBanks',\n",
       "       'ElectronicsMobilesAccessoriesSmartphonesBasicMobilesSmartphones',\n",
       "       'ElectronicsAccessoriesMemoryCardsMicroSD',\n",
       "       'ElectronicsMobilesAccessoriesSmartphonesBasicMobilesBasicMobiles',\n",
       "       'ElectronicsHeadphones,EarbudsAccessoriesHeadphonesIn-Ear',\n",
       "       'ElectronicsMobilesAccessoriesMobileAccessoriesChargersAutomobileChargers',\n",
       "       'ElectronicsMobilesAccessoriesMobileAccessoriesAutomobileAccessoriesCradles',\n",
       "       'ElectronicsMobilesAccessoriesMobileAccessoriesChargersWallChargers',\n",
       "       'ElectronicsMobilesAccessoriesMobileAccessoriesCablesAdaptersOTGAdapters',\n",
       "       'ElectronicsMobilesAccessoriesMobileAccessoriesPhotoVideoAccessoriesTripods',\n",
       "       'ElectronicsMobilesAccessoriesMobileAccessoriesPhotoVideoAccessoriesSelfieSticks',\n",
       "       'ElectronicsMobilesAccessoriesMobileAccessoriesStands',\n",
       "       'ComputersAccessoriesAccessoriesPeripheralsCablesAccessoriesCableConnectionProtectors',\n",
       "       'ElectronicsMobilesAccessoriesMobileAccessoriesDécor',\n",
       "       'ElectronicsMobilesAccessoriesMobileAccessoriesMaintenance,UpkeepRepairsScreenProtectors',\n",
       "       'ElectronicsMobilesAccessoriesMobileAccessoriesStylusPens',\n",
       "       'ElectronicsMobilesAccessoriesMobileAccessoriesMountsBedstandDeskMounts',\n",
       "       'ElectronicsMobilesAccessoriesMobileAccessoriesCasesCoversBasicCases',\n",
       "       'ElectronicsMobilesAccessoriesMobileAccessoriesMountsHandlebarMounts',\n",
       "       'ElectronicsHeadphones,EarbudsAccessoriesHeadphonesOn-Ear',\n",
       "       'ComputersAccessoriesAccessoriesPeripheralsLaptopAccessoriesCameraPrivacyCovers',\n",
       "       'ElectronicsHeadphones,EarbudsAccessoriesAdapters',\n",
       "       'ElectronicsMobilesAccessoriesMobileAccessoriesDécorPhoneCharms',\n",
       "       'ElectronicsMobilesAccessoriesMobileAccessoriesMountsShowerWallMounts',\n",
       "       'ComputersAccessoriesExternalDevicesDataStoragePenDrives',\n",
       "       'ComputersAccessoriesAccessoriesPeripheralsKeyboards,MiceInputDevicesMice',\n",
       "       'ComputersAccessoriesAccessoriesPeripheralsKeyboards,MiceInputDevicesGraphicTablets',\n",
       "       'ComputersAccessoriesAccessoriesPeripheralsLaptopAccessoriesLapdesks',\n",
       "       'ComputersAccessoriesAccessoriesPeripheralsLaptopAccessoriesNotebookComputerStands',\n",
       "       'ComputersAccessoriesAccessoriesPeripheralsKeyboards,MiceInputDevicesKeyboards',\n",
       "       'MusicalInstrumentsMicrophonesCondenser',\n",
       "       'ElectronicsGeneralPurposeBatteriesBatteryChargersDisposableBatteries',\n",
       "       'OfficeProductsOfficePaperProductsPaperStationeryPens,PencilsWritingSuppliesPensRefillsGelInkRollerballPens',\n",
       "       'HomeKitchenCraftMaterialsScrapbookingTape',\n",
       "       'ComputersAccessoriesAccessoriesPeripheralsKeyboards,MiceInputDevicesKeyboardMouseSets',\n",
       "       'ComputersAccessoriesExternalDevicesDataStorageExternalHardDisks',\n",
       "       'ElectronicsCamerasPhotographyVideoCameras',\n",
       "       'ElectronicsCamerasPhotographyAccessoriesTripodsMonopodsTabletopTravelTripods',\n",
       "       'OfficeProductsOfficeElectronicsCalculatorsScientific',\n",
       "       'ComputersAccessoriesNetworkingDevicesRepeatersExtenders',\n",
       "       'ElectronicsCamerasPhotographyAccessoriesTripodsMonopodsTripodLegs',\n",
       "       'ComputersAccessoriesPrinters,InksAccessoriesInks,TonersCartridgesInkjetInkCartridges',\n",
       "       'ComputersAccessoriesAccessoriesPeripheralsKeyboards,MiceInputDevicesKeyboardMiceAccessoriesDustCovers',\n",
       "       'ComputersAccessoriesAccessoriesPeripheralsPCGamingPeripheralsGamingMice',\n",
       "       'HomeKitchenCraftMaterialsPaintingMaterialsPaints',\n",
       "       'ComputersAccessoriesAccessoriesPeripheralsKeyboards,MiceInputDevicesKeyboardMiceAccessoriesMousePads',\n",
       "       'ComputersAccessoriesAccessoriesPeripheralsHardDiskBags',\n",
       "       'ElectronicsCamerasPhotographyFlashesMacroRinglightFlashes',\n",
       "       'ComputersAccessoriesNetworkingDevices',\n",
       "       'ComputersAccessoriesNetworkingDevicesRouters',\n",
       "       'ElectronicsHeadphones,EarbudsAccessoriesHeadphonesOver-Ear',\n",
       "       'ElectronicsHomeAudioSpeakersBluetoothSpeakers',\n",
       "       'ElectronicsGeneralPurposeBatteriesBatteryChargers',\n",
       "       'OfficeProductsOfficePaperProductsPaperStationeryNotebooks,WritingPadsDiariesWireboundNotebooks',\n",
       "       'ElectronicsGeneralPurposeBatteriesBatteryChargersRechargeableBatteries',\n",
       "       'ComputersAccessoriesNetworkingDevicesNetworkAdaptersBluetoothAdapters',\n",
       "       'ComputersAccessoriesAccessoriesPeripheralsAdaptersUSBtoUSBAdapters',\n",
       "       'ElectronicsCamerasPhotographyAccessoriesTripodsMonopodsCompleteTripodUnits',\n",
       "       'OfficeProductsOfficePaperProductsPaperStationeryNotebooks,WritingPadsDiariesNotepadsMemoBooks',\n",
       "       'ElectronicsCamerasPhotographyAccessoriesFilm',\n",
       "       'ComputersAccessoriesMonitors',\n",
       "       'ComputersAccessoriesAccessoriesPeripheralsUSBGadgetsLamps',\n",
       "       'ElectronicsCamerasPhotographyAccessoriesCleanersCleaningKits',\n",
       "       'ElectronicsCamerasPhotographySecurityCamerasDomeCameras',\n",
       "       'ComputersAccessoriesAccessoriesPeripheralsTabletAccessoriesScreenProtectors',\n",
       "       'ComputersAccessoriesAccessoriesPeripheralsPCGamingPeripheralsGamepads',\n",
       "       'OfficeProductsOfficeElectronicsCalculatorsBasic',\n",
       "       'ComputersAccessoriesAccessoriesPeripheralsUSBHubs',\n",
       "       'ComputersAccessoriesAccessoriesPeripheralsAudioVideoAccessoriesPCMicrophones',\n",
       "       'ElectronicsHomeAudioSpeakersOutdoorSpeakers',\n",
       "       'ComputersAccessoriesAccessoriesPeripheralsLaptopAccessoriesBagsSleevesLaptopSleevesSlipcases',\n",
       "       'ComputersAccessoriesExternalDevicesDataStorageExternalMemoryCardReaders',\n",
       "       'OfficeProductsOfficePaperProductsPaperStationeryPens,PencilsWritingSuppliesPensRefillsBottledInk',\n",
       "       'OfficeProductsOfficePaperProductsPaperStationeryNotebooks,WritingPadsDiariesCompositionNotebooks',\n",
       "       'OfficeProductsOfficePaperProductsPaperStationeryPens,PencilsWritingSuppliesPensRefillsRetractableBallpointPens',\n",
       "       'ComputersAccessoriesAccessoriesPeripheralsCablesAccessoriesCablesEthernetCables',\n",
       "       'ComputersAccessoriesComponentsMemory',\n",
       "       'ComputersAccessoriesAccessoriesPeripheralsUninterruptedPowerSupplies',\n",
       "       'ElectronicsHeadphones,EarbudsAccessoriesCases',\n",
       "       'ElectronicsAccessoriesMemoryCardsSecureDigitalCards',\n",
       "       'ElectronicsMobilesAccessoriesMobileAccessoriesPhotoVideoAccessoriesFlashesSelfieLightsSelfieLights',\n",
       "       'ComputersAccessoriesAccessoriesPeripheralsAudioVideoAccessoriesWebcamsVoIPEquipmentWebcams',\n",
       "       'ComputersAccessoriesAccessoriesPeripheralsLaptopAccessoriesCoolingPads',\n",
       "       'ComputersAccessoriesAccessoriesPeripheralsLaptopAccessories',\n",
       "       'ComputersAccessoriesAccessoriesPeripheralsTabletAccessoriesStands',\n",
       "       'HomeImprovementElectricalAdaptersMulti-Outlets',\n",
       "       'OfficeProductsOfficePaperProductsPaperCopyPrintingPaperColouredPaper',\n",
       "       'ComputersAccessoriesComponentsInternalSolidStateDrives',\n",
       "       'ElectronicsHomeAudioSpeakersMultimediaSpeakerSystems',\n",
       "       'ComputersAccessoriesNetworkingDevicesDataCardsDongles',\n",
       "       'ComputersAccessoriesAccessoriesPeripheralsLaptopAccessoriesLaptopChargersPowerSupplies',\n",
       "       'ComputersAccessoriesAccessoriesPeripheralsAudioVideoAccessoriesPCSpeakers',\n",
       "       'ElectronicsCamerasPhotographyAccessoriesBatteriesChargersBatteryChargers',\n",
       "       'ComputersAccessoriesAccessoriesPeripheralsTabletAccessoriesBags,CasesSleevesCases',\n",
       "       'OfficeProductsOfficePaperProductsPaperStationeryPens,PencilsWritingSuppliesPensRefillsStickBallpointPens',\n",
       "       'HomeKitchenCraftMaterialsDrawingMaterialsDrawingMediaPencilsWoodenPencils',\n",
       "       'ComputersAccessoriesComponentsInternalHardDrives',\n",
       "       'ComputersAccessoriesPrinters,InksAccessoriesPrinters',\n",
       "       'HomeKitchenCraftMaterialsDrawingMaterialsDrawingMediaPens',\n",
       "       'ComputersAccessoriesAccessoriesPeripheralsCablesAccessoriesCablesSATACables',\n",
       "       'ComputersAccessoriesAccessoriesPeripheralsAudioVideoAccessoriesPCHeadsets',\n",
       "       'ComputersAccessoriesAccessoriesPeripheralsPCGamingPeripheralsGamingKeyboards',\n",
       "       'ElectronicsHomeAudioSpeakersSoundbarSpeakers',\n",
       "       'ElectronicsHeadphones,EarbudsAccessoriesEarpads',\n",
       "       'ComputersAccessoriesPrinters,InksAccessoriesPrintersInkjetPrinters',\n",
       "       'ToysGamesArtsCraftsDrawingPaintingSuppliesColouringPensMarkers',\n",
       "       'ComputersAccessoriesAccessoriesPeripheralsPCGamingPeripheralsHeadsets',\n",
       "       'ComputersAccessoriesExternalDevicesDataStorageExternalSolidStateDrives',\n",
       "       'ComputersAccessoriesNetworkingDevicesNetworkAdaptersPowerLANAdapters',\n",
       "       'ComputersAccessoriesPrinters,InksAccessoriesInks,TonersCartridgesInkjetInkRefillsKits',\n",
       "       'OfficeProductsOfficePaperProductsPaperStationeryNotebooks,WritingPadsDiaries',\n",
       "       'ElectronicsCamerasPhotographyAccessoriesPhotoStudioLightingPhotoBackgroundAccessoriesBackgroundSupports',\n",
       "       'OfficeProductsOfficeElectronicsCalculatorsFinancialBusiness',\n",
       "       'ElectronicsPowerAccessoriesSurgeProtectors',\n",
       "       'ComputersAccessoriesTablets',\n",
       "       'HomeImprovementElectricalCordManagement',\n",
       "       'HomeKitchenCraftMaterialsPaintingMaterials',\n",
       "       'ComputersAccessoriesPrinters,InksAccessoriesInks,TonersCartridgesTonerCartridges',\n",
       "       'OfficeProductsOfficePaperProductsPaperStationeryPens,PencilsWritingSuppliesPensRefillsLiquidInkRollerballPens',\n",
       "       'OfficeProductsOfficePaperProductsPaperStationeryPens,PencilsWritingSuppliesPensRefillsFountainPens',\n",
       "       'ComputersAccessoriesAccessoriesPeripheralsHardDriveAccessoriesCaddies',\n",
       "       'ComputersAccessoriesLaptopsTraditionalLaptops',\n",
       "       'HomeKitchenKitchenHomeAppliancesSmallKitchenAppliancesKettlesHotWaterDispensersElectricKettles',\n",
       "       'HomeKitchenHeating,CoolingAirQualityRoomHeatersElectricHeaters',\n",
       "       'HomeKitchenHeating,CoolingAirQualityRoomHeatersFanHeaters',\n",
       "       'HomeKitchenKitchenHomeAppliancesVacuum,CleaningIroningIrons,SteamersAccessoriesLintShavers',\n",
       "       'HomeKitchenKitchenHomeAppliancesSmallKitchenAppliancesDigitalKitchenScales',\n",
       "       'HomeKitchenKitchenDiningKitchenToolsManualChoppersChippersChoppers',\n",
       "       'HomeKitchenKitchenHomeAppliancesSmallKitchenAppliancesInductionCooktop',\n",
       "       'HomeKitchenKitchenHomeAppliancesSmallKitchenAppliancesHandBlenders',\n",
       "       'HomeKitchenKitchenHomeAppliancesVacuum,CleaningIroningIrons,SteamersAccessoriesIronsDryIrons',\n",
       "       'HomeKitchenKitchenHomeAppliancesSmallKitchenAppliancesMixerGrinders',\n",
       "       'HomeKitchenHeating,CoolingAirQualityWaterHeatersGeysersInstantWaterHeaters',\n",
       "       'HomeKitchenHeating,CoolingAirQualityRoomHeaters',\n",
       "       'HomeKitchenKitchenHomeAppliancesSmallKitchenAppliancesKettlesHotWaterDispensersKettleToasterSets',\n",
       "       'HomeKitchenHeating,CoolingAirQualityWaterHeatersGeysersStorageWaterHeaters',\n",
       "       'HomeKitchenHeating,CoolingAirQualityWaterHeatersGeysersImmersionRods',\n",
       "       'HomeKitchenKitchenHomeAppliancesSmallKitchenAppliancesDeepFatFryersAirFryers',\n",
       "       'HomeKitchenHomeStorageOrganizationLaundryOrganizationLaundryBaskets',\n",
       "       'HomeKitchenKitchenHomeAppliancesVacuum,CleaningIroningIrons,SteamersAccessoriesIronsSteamIrons',\n",
       "       'HomeKitchenKitchenHomeAppliancesSmallKitchenAppliancesJuicerMixerGrinders',\n",
       "       'HomeKitchenKitchenHomeAppliancesVacuum,CleaningIroningVacuumsFloorCareVacuumsHandheldVacuums',\n",
       "       'HomeKitchenKitchenHomeAppliancesSmallKitchenAppliancesEggBoilers',\n",
       "       'HomeKitchenKitchenHomeAppliancesSmallKitchenAppliancesSandwichMakers',\n",
       "       'HomeKitchenKitchenHomeAppliancesSmallKitchenAppliancesMiniFoodProcessorsChoppers',\n",
       "       'HomeKitchenKitchenHomeAppliancesSmallKitchenAppliancesDigitalKitchenScalesDigitalScales',\n",
       "       'HomeKitchenKitchenHomeAppliancesSmallKitchenAppliancesVacuumSealers',\n",
       "       'HomeKitchenHeating,CoolingAirQualityFansCeilingFans',\n",
       "       'HomeKitchenKitchenHomeAppliancesVacuum,CleaningIroningVacuumsFloorCareVacuumsCanisterVacuums',\n",
       "       'HomeKitchenKitchenHomeAppliancesVacuum,CleaningIroningPressureWashers,SteamWindowCleaners',\n",
       "       'HomeKitchenHeating,CoolingAirQualityRoomHeatersHalogenHeaters',\n",
       "       'HomeKitchenKitchenHomeAppliancesSmallKitchenAppliancesPop-upToasters',\n",
       "       'HomeKitchenHeating,CoolingAirQualityRoomHeatersHeatConvectors',\n",
       "       'HomeKitchenKitchenHomeAppliancesCoffee,TeaEspressoCoffeeGrindersElectricGrinders',\n",
       "       'HomeKitchenHeating,CoolingAirQualityFansExhaustFans',\n",
       "       'HomeKitchenKitchenHomeAppliancesCoffee,TeaEspressoDripCoffeeMachines',\n",
       "       'HomeKitchenKitchenHomeAppliancesWaterPurifiersAccessoriesWaterPurifierAccessories',\n",
       "       'HomeKitchenKitchenHomeAppliancesWaterPurifiersAccessoriesWaterCartridges',\n",
       "       'HomeKitchenKitchenHomeAppliancesSmallKitchenAppliancesRicePastaCookers',\n",
       "       'CarMotorbikeCarAccessoriesInteriorAccessoriesAirPurifiersIonizers',\n",
       "       'HomeKitchenKitchenHomeAppliancesVacuum,CleaningIroningVacuumsFloorCareVacuumsWet-DryVacuums',\n",
       "       'HomeKitchenHeating,CoolingAirQualityAirPurifiersHEPAAirPurifiers',\n",
       "       'HomeKitchenKitchenHomeAppliancesWaterPurifiersAccessoriesWaterFiltersPurifiers',\n",
       "       'HomeKitchenHomeStorageOrganizationLaundryOrganizationLaundryBags',\n",
       "       'HomeKitchenKitchenHomeAppliancesSewingMachinesAccessoriesSewingEmbroideryMachines',\n",
       "       'HomeKitchenHomeStorageOrganizationLaundryOrganizationIroningAccessoriesSprayBottles',\n",
       "       'HomeKitchenKitchenHomeAppliancesSmallKitchenAppliancesHandMixers',\n",
       "       'HomeKitchenKitchenHomeAppliancesSmallKitchenAppliancesMillsGrindersWetGrinders',\n",
       "       'HomeKitchenKitchenHomeAppliancesSmallKitchenAppliancesOvenToasterGrills',\n",
       "       'HomeKitchenKitchenHomeAppliancesSmallKitchenAppliancesJuicers',\n",
       "       'HomeKitchenKitchenHomeAppliancesSmallKitchenAppliances',\n",
       "       'HealthPersonalCareHomeMedicalSuppliesEquipmentHealthMonitorsWeighingScalesDigitalBathroomScales',\n",
       "       'HomeKitchenKitchenHomeAppliancesCoffee,TeaEspressoEspressoMachines',\n",
       "       'HomeKitchenHeating,CoolingAirQualityFansTableFans',\n",
       "       'HomeKitchenKitchenHomeAppliancesCoffee,TeaEspressoMilkFrothers',\n",
       "       'HomeKitchenHeating,CoolingAirQualityHumidifiers',\n",
       "       'HomeKitchenKitchenHomeAppliancesSmallKitchenAppliancesSmallAppliancePartsAccessoriesStandMixerAccessories',\n",
       "       'HomeKitchenKitchenHomeAppliancesVacuum,CleaningIroningVacuumsFloorCareVacuumsRoboticVacuums',\n",
       "       'HomeKitchenKitchenHomeAppliancesSmallKitchenAppliancesYogurtMakers',\n",
       "       'HomeKitchenKitchenHomeAppliancesSmallKitchenAppliancesJuicersColdPressJuicers',\n",
       "       'HomeKitchenHeating,CoolingAirQualityAirConditionersSplit-SystemAirConditioners',\n",
       "       'HomeKitchenKitchenHomeAppliancesSmallKitchenAppliancesSmallAppliancePartsAccessories',\n",
       "       'HomeKitchenKitchenHomeAppliancesSmallKitchenAppliancesWaffleMakersIrons',\n",
       "       'HomeKitchenKitchenHomeAppliancesCoffee,TeaEspressoStovetopEspressoPots',\n",
       "       'HomeKitchenKitchenHomeAppliancesCoffee,TeaEspressoCoffeeMakerAccessoriesMeasuringSpoons',\n",
       "       'HomeKitchenKitchenHomeAppliancesCoffee,TeaEspressoCoffeePresses',\n",
       "       'HomeKitchenKitchenHomeAppliancesSmallKitchenAppliancesRotiMakers',\n",
       "       'HomeKitchenHeating,CoolingAirQualityPartsAccessoriesFanPartsAccessories',\n",
       "       'HomeKitchenKitchenHomeAppliancesSmallKitchenAppliancesStandMixers',\n",
       "       'HomeKitchenHeating,CoolingAirQualityFansPedestalFans',\n",
       "       'HomeKitchenKitchenHomeAppliancesVacuum,CleaningIroningVacuumsFloorCareVacuumAccessoriesVacuumBagsHandheldBags'],\n",
       "      dtype=object)"
      ]
     },
     "execution_count": 41,
     "metadata": {},
     "output_type": "execute_result"
    }
   ],
   "source": [
    "#checking the unique column names in the 'category' column\n",
    "Amazon_data_unique_category = Amazon_data[\"category\"].unique()\n",
    "Amazon_data_unique_category"
   ]
  },
  {
   "cell_type": "code",
   "execution_count": 42,
   "id": "e7caea4a",
   "metadata": {},
   "outputs": [
    {
     "name": "stdout",
     "output_type": "stream",
     "text": [
      "['ComputersAccessoriesAccessoriesPeripheralsCablesAccessoriesCablesUSBCables'\n",
      " 'ElectronicsHomeTheater,TVVideoAccessoriesCablesHDMICables'\n",
      " 'ElectronicsHomeTheater,TVVideoAccessoriesCablesRCACables'\n",
      " 'ElectronicsHomeTheater,TVVideoAccessoriesCablesOpticalCables'\n",
      " 'ComputersAccessoriesAccessoriesPeripheralsCablesAccessoriesCablesDVICables'\n",
      " 'ElectronicsHomeTheater,TVVideoAccessoriesCablesSpeakerCables'\n",
      " 'ElectronicsMobilesAccessoriesMobileAccessoriesCablesAdaptersOTGAdapters'\n",
      " 'ComputersAccessoriesAccessoriesPeripheralsCablesAccessoriesCableConnectionProtectors'\n",
      " 'ComputersAccessoriesAccessoriesPeripheralsCablesAccessoriesCablesEthernetCables'\n",
      " 'ComputersAccessoriesAccessoriesPeripheralsCablesAccessoriesCablesSATACables']\n",
      "Number of unique values in 'column_name' containing 'Cables': 10\n"
     ]
    }
   ],
   "source": [
    "# Specify the special word \n",
    "special_word = 'Cables'\n",
    "\n",
    "# Use the str.contains() method to filter the 'category' column for rows containing the special word 'Cables'\n",
    "# Note: This will return a boolean series\n",
    "contains_special_word = Amazon_data['category'].str.contains(special_word, na=False)\n",
    "\n",
    "# Get unique values from the column that contain the special word\n",
    "unique_values_with_special_word = Amazon_data.loc[contains_special_word, 'category'].unique()\n",
    "\n",
    "# Print the unique values that contain the special word\n",
    "print(unique_values_with_special_word)\n",
    "\n",
    "# checking the unique values\n",
    "print(f\"Number of unique values in 'column_name' containing '{special_word}': {len(unique_values_with_special_word)}\")"
   ]
  },
  {
   "cell_type": "code",
   "execution_count": 43,
   "id": "d2622fa7",
   "metadata": {},
   "outputs": [],
   "source": [
    "# remove the duplicated row in 'product_id'\n",
    "Amazon_data_clean = Amazon_data.drop_duplicates(subset=[\"product_id\"])"
   ]
  },
  {
   "cell_type": "code",
   "execution_count": 44,
   "id": "c7b88ebe",
   "metadata": {
    "scrolled": true
   },
   "outputs": [
    {
     "name": "stdout",
     "output_type": "stream",
     "text": [
      "<class 'pandas.core.frame.DataFrame'>\n",
      "Index: 1348 entries, 0 to 1464\n",
      "Data columns (total 16 columns):\n",
      " #   Column               Non-Null Count  Dtype  \n",
      "---  ------               --------------  -----  \n",
      " 0   product_id           1348 non-null   object \n",
      " 1   product_name         1348 non-null   object \n",
      " 2   category             1348 non-null   object \n",
      " 3   discounted_price     1348 non-null   int32  \n",
      " 4   actual_price         1348 non-null   int32  \n",
      " 5   discount_percentage  1348 non-null   float64\n",
      " 6   rating               1348 non-null   int32  \n",
      " 7   rating_count         1348 non-null   float64\n",
      " 8   about_product        1348 non-null   object \n",
      " 9   user_id              1348 non-null   object \n",
      " 10  user_name            1348 non-null   object \n",
      " 11  review_id            1348 non-null   object \n",
      " 12  review_title         1348 non-null   object \n",
      " 13  review_content       1348 non-null   object \n",
      " 14  img_link             1348 non-null   object \n",
      " 15  product_link         1348 non-null   object \n",
      "dtypes: float64(2), int32(3), object(11)\n",
      "memory usage: 163.2+ KB\n"
     ]
    }
   ],
   "source": [
    "#checking the dataframe \n",
    "Amazon_data_clean.info()"
   ]
  },
  {
   "cell_type": "code",
   "execution_count": 45,
   "id": "83f9c5eb",
   "metadata": {},
   "outputs": [
    {
     "data": {
      "text/html": [
       "<div>\n",
       "<style scoped>\n",
       "    .dataframe tbody tr th:only-of-type {\n",
       "        vertical-align: middle;\n",
       "    }\n",
       "\n",
       "    .dataframe tbody tr th {\n",
       "        vertical-align: top;\n",
       "    }\n",
       "\n",
       "    .dataframe thead th {\n",
       "        text-align: right;\n",
       "    }\n",
       "</style>\n",
       "<table border=\"1\" class=\"dataframe\">\n",
       "  <thead>\n",
       "    <tr style=\"text-align: right;\">\n",
       "      <th></th>\n",
       "      <th>product_id</th>\n",
       "      <th>product_name</th>\n",
       "      <th>category</th>\n",
       "      <th>discounted_price</th>\n",
       "      <th>actual_price</th>\n",
       "      <th>discount_percentage</th>\n",
       "      <th>rating</th>\n",
       "      <th>rating_count</th>\n",
       "      <th>about_product</th>\n",
       "      <th>user_id</th>\n",
       "      <th>user_name</th>\n",
       "      <th>review_id</th>\n",
       "      <th>review_title</th>\n",
       "      <th>review_content</th>\n",
       "      <th>img_link</th>\n",
       "      <th>product_link</th>\n",
       "    </tr>\n",
       "  </thead>\n",
       "  <tbody>\n",
       "    <tr>\n",
       "      <th>0</th>\n",
       "      <td>B07JW9H4J1</td>\n",
       "      <td>Wayona Nylon Braided USB to Lightning Fast Cha...</td>\n",
       "      <td>ComputersAccessoriesAccessoriesPeripheralsCabl...</td>\n",
       "      <td>399</td>\n",
       "      <td>1099</td>\n",
       "      <td>0.64</td>\n",
       "      <td>4</td>\n",
       "      <td>24269.0</td>\n",
       "      <td>High Compatibility : Compatible With iPhone 12...</td>\n",
       "      <td>AG3D6O4STAQKAY2UVGEUV46KN35Q,AHMY5CWJMMK5BJRBB...</td>\n",
       "      <td>Manav,Adarsh gupta,Sundeep,S.Sayeed Ahmed,jasp...</td>\n",
       "      <td>R3HXWT0LRP0NMF,R2AJM3LFTLZHFO,R6AQJGUP6P86,R1K...</td>\n",
       "      <td>Satisfiedcharging is really fastvalue for mone...</td>\n",
       "      <td>Looks durable Charging is fine tooNo complains...</td>\n",
       "      <td>https://m.media-amazon.com/images/W/WEBP_40237...</td>\n",
       "      <td>https://www.amazon.in/Wayona-Braided-WN3LG1-Sy...</td>\n",
       "    </tr>\n",
       "    <tr>\n",
       "      <th>1</th>\n",
       "      <td>B098NS6PVG</td>\n",
       "      <td>Ambrane Unbreakable 60W / 3A Fast Charging 1.5...</td>\n",
       "      <td>ComputersAccessoriesAccessoriesPeripheralsCabl...</td>\n",
       "      <td>199</td>\n",
       "      <td>349</td>\n",
       "      <td>0.43</td>\n",
       "      <td>4</td>\n",
       "      <td>43994.0</td>\n",
       "      <td>Compatible with all Type C enabled devices, be...</td>\n",
       "      <td>AECPFYFQVRUWC3KGNLJIOREFP5LQ,AGYYVPDD7YG7FYNBX...</td>\n",
       "      <td>ArdKn,Nirbhay kumar,Sagar Viswanathan,Asp,Plac...</td>\n",
       "      <td>RGIQEG07R9HS2,R1SMWZQ86XIN8U,R2J3Y1WL29GWDE,RY...</td>\n",
       "      <td>A good braided cable for your type c devicegoo...</td>\n",
       "      <td>I ordered this cable to connect my phone to An...</td>\n",
       "      <td>https://m.media-amazon.com/images/W/WEBP_40237...</td>\n",
       "      <td>https://www.amazon.in/Ambrane-Unbreakable-Char...</td>\n",
       "    </tr>\n",
       "    <tr>\n",
       "      <th>2</th>\n",
       "      <td>B096MSW6CT</td>\n",
       "      <td>Sounce Fast Phone Charging Cable &amp; Data Sync U...</td>\n",
       "      <td>ComputersAccessoriesAccessoriesPeripheralsCabl...</td>\n",
       "      <td>199</td>\n",
       "      <td>1899</td>\n",
       "      <td>0.90</td>\n",
       "      <td>3</td>\n",
       "      <td>7928.0</td>\n",
       "      <td>【 Fast Charger&amp; Data Sync】-With built-in safet...</td>\n",
       "      <td>AGU3BBQ2V2DDAMOAKGFAWDDQ6QHA,AESFLDV2PT363T2AQ...</td>\n",
       "      <td>Kunal,Himanshu,viswanath,sai niharka,saqib mal...</td>\n",
       "      <td>R3J3EQQ9TZI5ZJ,R3E7WBGK7ID0KV,RWU79XKQ6I1QF,R2...</td>\n",
       "      <td>Good speed for earlier versionsgood productwor...</td>\n",
       "      <td>Not quite durable and sturdy,https://m.media-a...</td>\n",
       "      <td>https://m.media-amazon.com/images/W/WEBP_40237...</td>\n",
       "      <td>https://www.amazon.in/Sounce-iPhone-Charging-C...</td>\n",
       "    </tr>\n",
       "    <tr>\n",
       "      <th>3</th>\n",
       "      <td>B08HDJ86NZ</td>\n",
       "      <td>boAt Deuce USB 300 2 in 1 Type-C &amp; Micro USB S...</td>\n",
       "      <td>ComputersAccessoriesAccessoriesPeripheralsCabl...</td>\n",
       "      <td>329</td>\n",
       "      <td>699</td>\n",
       "      <td>0.53</td>\n",
       "      <td>4</td>\n",
       "      <td>94363.0</td>\n",
       "      <td>The boAt Deuce USB 300 2 in 1 cable is compati...</td>\n",
       "      <td>AEWAZDZZJLQUYVOVGBEUKSLXHQ5A,AG5HTSFRRE6NL3M5S...</td>\n",
       "      <td>Omkar dhale,JD,HEMALATHA,Ajwadh a.,amar singh ...</td>\n",
       "      <td>R3EEUZKKK9J36I,R3HJVYCLYOY554,REDECAZ7AMPQC,R1...</td>\n",
       "      <td>Good productgood onenicereally nice productver...</td>\n",
       "      <td>Good product,long wire,Charges good,Nice,I bou...</td>\n",
       "      <td>https://m.media-amazon.com/images/I/41V5FtEWPk...</td>\n",
       "      <td>https://www.amazon.in/Deuce-300-Resistant-Tang...</td>\n",
       "    </tr>\n",
       "    <tr>\n",
       "      <th>4</th>\n",
       "      <td>B08CF3B7N1</td>\n",
       "      <td>Portronics Konnect L 1.2M Fast Charging 3A 8 P...</td>\n",
       "      <td>ComputersAccessoriesAccessoriesPeripheralsCabl...</td>\n",
       "      <td>154</td>\n",
       "      <td>399</td>\n",
       "      <td>0.61</td>\n",
       "      <td>4</td>\n",
       "      <td>16905.0</td>\n",
       "      <td>[CHARGE &amp; SYNC FUNCTION]- This cable comes wit...</td>\n",
       "      <td>AE3Q6KSUK5P75D5HFYHCRAOLODSA,AFUGIFH5ZAFXRDSZH...</td>\n",
       "      <td>rahuls6099,Swasat Borah,Ajay Wadke,Pranali,RVK...</td>\n",
       "      <td>R1BP4L2HH9TFUP,R16PVJEXKV6QZS,R2UPDB81N66T4P,R...</td>\n",
       "      <td>As good as originaldecentgood one for secondar...</td>\n",
       "      <td>Bought this instead of original apple, does th...</td>\n",
       "      <td>https://m.media-amazon.com/images/W/WEBP_40237...</td>\n",
       "      <td>https://www.amazon.in/Portronics-Konnect-POR-1...</td>\n",
       "    </tr>\n",
       "  </tbody>\n",
       "</table>\n",
       "</div>"
      ],
      "text/plain": [
       "   product_id                                       product_name  \\\n",
       "0  B07JW9H4J1  Wayona Nylon Braided USB to Lightning Fast Cha...   \n",
       "1  B098NS6PVG  Ambrane Unbreakable 60W / 3A Fast Charging 1.5...   \n",
       "2  B096MSW6CT  Sounce Fast Phone Charging Cable & Data Sync U...   \n",
       "3  B08HDJ86NZ  boAt Deuce USB 300 2 in 1 Type-C & Micro USB S...   \n",
       "4  B08CF3B7N1  Portronics Konnect L 1.2M Fast Charging 3A 8 P...   \n",
       "\n",
       "                                            category  discounted_price  \\\n",
       "0  ComputersAccessoriesAccessoriesPeripheralsCabl...               399   \n",
       "1  ComputersAccessoriesAccessoriesPeripheralsCabl...               199   \n",
       "2  ComputersAccessoriesAccessoriesPeripheralsCabl...               199   \n",
       "3  ComputersAccessoriesAccessoriesPeripheralsCabl...               329   \n",
       "4  ComputersAccessoriesAccessoriesPeripheralsCabl...               154   \n",
       "\n",
       "   actual_price  discount_percentage  rating  rating_count  \\\n",
       "0          1099                 0.64       4       24269.0   \n",
       "1           349                 0.43       4       43994.0   \n",
       "2          1899                 0.90       3        7928.0   \n",
       "3           699                 0.53       4       94363.0   \n",
       "4           399                 0.61       4       16905.0   \n",
       "\n",
       "                                       about_product  \\\n",
       "0  High Compatibility : Compatible With iPhone 12...   \n",
       "1  Compatible with all Type C enabled devices, be...   \n",
       "2  【 Fast Charger& Data Sync】-With built-in safet...   \n",
       "3  The boAt Deuce USB 300 2 in 1 cable is compati...   \n",
       "4  [CHARGE & SYNC FUNCTION]- This cable comes wit...   \n",
       "\n",
       "                                             user_id  \\\n",
       "0  AG3D6O4STAQKAY2UVGEUV46KN35Q,AHMY5CWJMMK5BJRBB...   \n",
       "1  AECPFYFQVRUWC3KGNLJIOREFP5LQ,AGYYVPDD7YG7FYNBX...   \n",
       "2  AGU3BBQ2V2DDAMOAKGFAWDDQ6QHA,AESFLDV2PT363T2AQ...   \n",
       "3  AEWAZDZZJLQUYVOVGBEUKSLXHQ5A,AG5HTSFRRE6NL3M5S...   \n",
       "4  AE3Q6KSUK5P75D5HFYHCRAOLODSA,AFUGIFH5ZAFXRDSZH...   \n",
       "\n",
       "                                           user_name  \\\n",
       "0  Manav,Adarsh gupta,Sundeep,S.Sayeed Ahmed,jasp...   \n",
       "1  ArdKn,Nirbhay kumar,Sagar Viswanathan,Asp,Plac...   \n",
       "2  Kunal,Himanshu,viswanath,sai niharka,saqib mal...   \n",
       "3  Omkar dhale,JD,HEMALATHA,Ajwadh a.,amar singh ...   \n",
       "4  rahuls6099,Swasat Borah,Ajay Wadke,Pranali,RVK...   \n",
       "\n",
       "                                           review_id  \\\n",
       "0  R3HXWT0LRP0NMF,R2AJM3LFTLZHFO,R6AQJGUP6P86,R1K...   \n",
       "1  RGIQEG07R9HS2,R1SMWZQ86XIN8U,R2J3Y1WL29GWDE,RY...   \n",
       "2  R3J3EQQ9TZI5ZJ,R3E7WBGK7ID0KV,RWU79XKQ6I1QF,R2...   \n",
       "3  R3EEUZKKK9J36I,R3HJVYCLYOY554,REDECAZ7AMPQC,R1...   \n",
       "4  R1BP4L2HH9TFUP,R16PVJEXKV6QZS,R2UPDB81N66T4P,R...   \n",
       "\n",
       "                                        review_title  \\\n",
       "0  Satisfiedcharging is really fastvalue for mone...   \n",
       "1  A good braided cable for your type c devicegoo...   \n",
       "2  Good speed for earlier versionsgood productwor...   \n",
       "3  Good productgood onenicereally nice productver...   \n",
       "4  As good as originaldecentgood one for secondar...   \n",
       "\n",
       "                                      review_content  \\\n",
       "0  Looks durable Charging is fine tooNo complains...   \n",
       "1  I ordered this cable to connect my phone to An...   \n",
       "2  Not quite durable and sturdy,https://m.media-a...   \n",
       "3  Good product,long wire,Charges good,Nice,I bou...   \n",
       "4  Bought this instead of original apple, does th...   \n",
       "\n",
       "                                            img_link  \\\n",
       "0  https://m.media-amazon.com/images/W/WEBP_40237...   \n",
       "1  https://m.media-amazon.com/images/W/WEBP_40237...   \n",
       "2  https://m.media-amazon.com/images/W/WEBP_40237...   \n",
       "3  https://m.media-amazon.com/images/I/41V5FtEWPk...   \n",
       "4  https://m.media-amazon.com/images/W/WEBP_40237...   \n",
       "\n",
       "                                        product_link  \n",
       "0  https://www.amazon.in/Wayona-Braided-WN3LG1-Sy...  \n",
       "1  https://www.amazon.in/Ambrane-Unbreakable-Char...  \n",
       "2  https://www.amazon.in/Sounce-iPhone-Charging-C...  \n",
       "3  https://www.amazon.in/Deuce-300-Resistant-Tang...  \n",
       "4  https://www.amazon.in/Portronics-Konnect-POR-1...  "
      ]
     },
     "execution_count": 45,
     "metadata": {},
     "output_type": "execute_result"
    }
   ],
   "source": [
    "# Let's say we preemptively replace some special characters with spaces before removing all special characters\n",
    "Amazon_data_clean['review_title'] = Amazon_data_clean['review_title'].str.replace('-', ' ', regex=False)\n",
    "\n",
    "# Now, remove all non-alphanumeric characters except spaces\n",
    "Amazon_data_clean['review_title'] = Amazon_data_clean['review_title'].str.replace('[^a-zA-Z0-9 ]', '', regex=True)\n",
    "\n",
    "# Capitalize the first letter of each title\n",
    "Amazon_data_clean['review_title'] =Amazon_data_clean['review_title'].str.capitalize()\n",
    "\n",
    "# Display the DataFrame to verify the change(Amazon_data_clean)\n",
    "Amazon_data_clean.head()"
   ]
  },
  {
   "cell_type": "markdown",
   "id": "af42a10c",
   "metadata": {},
   "source": [
    "### Analysis"
   ]
  },
  {
   "cell_type": "markdown",
   "id": "f9c52079",
   "metadata": {},
   "source": [
    "From the above filtering function of the dataset, we retrived 10 unique values (category name) from the 'category' column. Based on the retrived names, we found 7th and 8th outputs are not 'Cables', hence we will only consider 8 unique values being the the cables category in the 'category' column and ignore the other 2 retreived columns which are not cables, which we will use for our further query functions processes in our data exploration inside the 'Mongo_db_analysis.ipynb'.\n",
    "\n",
    "Likewise we also deleted the duplicated rows on \"product_id\" column for the proper data analysis process with the resulting 1348 rows and 16 columns left in our dataframe. Finally, we saved our new 'Amazon_data_clean' dataframe naming as **amazon_cleanData** inside the clean data resource folder."
   ]
  },
  {
   "cell_type": "code",
   "execution_count": 46,
   "id": "ae99b86b",
   "metadata": {},
   "outputs": [],
   "source": [
    "#Finally saving the clean dataset in the Clean data resources folder\n",
    "Amazon_data_clean.to_csv('../Clean_Data_Resources/amazon_cleanData.csv', index=False, encoding='utf-8')\n"
   ]
  },
  {
   "cell_type": "code",
   "execution_count": null,
   "id": "c7e35393",
   "metadata": {},
   "outputs": [],
   "source": []
  }
 ],
 "metadata": {
  "kernelspec": {
   "display_name": "Python 3 (ipykernel)",
   "language": "python",
   "name": "python3"
  },
  "language_info": {
   "codemirror_mode": {
    "name": "ipython",
    "version": 3
   },
   "file_extension": ".py",
   "mimetype": "text/x-python",
   "name": "python",
   "nbconvert_exporter": "python",
   "pygments_lexer": "ipython3",
   "version": "3.10.13"
  }
 },
 "nbformat": 4,
 "nbformat_minor": 5
}
